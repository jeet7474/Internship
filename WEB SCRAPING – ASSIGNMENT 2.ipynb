{
 "cells": [
  {
   "cell_type": "code",
   "execution_count": 1,
   "id": "8b2c666c",
   "metadata": {
    "collapsed": true
   },
   "outputs": [
    {
     "name": "stdout",
     "output_type": "stream",
     "text": [
      "Requirement already satisfied: selenium in c:\\users\\jeet sarkar\\anaconda3\\lib\\site-packages (4.1.0)\n",
      "Requirement already satisfied: trio~=0.17 in c:\\users\\jeet sarkar\\anaconda3\\lib\\site-packages (from selenium) (0.19.0)\n",
      "Requirement already satisfied: trio-websocket~=0.9 in c:\\users\\jeet sarkar\\anaconda3\\lib\\site-packages (from selenium) (0.9.2)\n",
      "Requirement already satisfied: urllib3[secure]~=1.26 in c:\\users\\jeet sarkar\\anaconda3\\lib\\site-packages (from selenium) (1.26.4)\n",
      "Requirement already satisfied: cffi>=1.14 in c:\\users\\jeet sarkar\\anaconda3\\lib\\site-packages (from trio~=0.17->selenium) (1.14.5)\n",
      "Requirement already satisfied: outcome in c:\\users\\jeet sarkar\\anaconda3\\lib\\site-packages (from trio~=0.17->selenium) (1.1.0)\n",
      "Requirement already satisfied: sortedcontainers in c:\\users\\jeet sarkar\\anaconda3\\lib\\site-packages (from trio~=0.17->selenium) (2.3.0)\n",
      "Requirement already satisfied: async-generator>=1.9 in c:\\users\\jeet sarkar\\anaconda3\\lib\\site-packages (from trio~=0.17->selenium) (1.10)\n",
      "Requirement already satisfied: attrs>=19.2.0 in c:\\users\\jeet sarkar\\anaconda3\\lib\\site-packages (from trio~=0.17->selenium) (20.3.0)\n",
      "Requirement already satisfied: sniffio in c:\\users\\jeet sarkar\\anaconda3\\lib\\site-packages (from trio~=0.17->selenium) (1.2.0)\n",
      "Requirement already satisfied: idna in c:\\users\\jeet sarkar\\anaconda3\\lib\\site-packages (from trio~=0.17->selenium) (2.10)\n",
      "Requirement already satisfied: pycparser in c:\\users\\jeet sarkar\\anaconda3\\lib\\site-packages (from cffi>=1.14->trio~=0.17->selenium) (2.20)\n",
      "Requirement already satisfied: wsproto>=0.14 in c:\\users\\jeet sarkar\\anaconda3\\lib\\site-packages (from trio-websocket~=0.9->selenium) (1.0.0)\n",
      "Requirement already satisfied: cryptography>=1.3.4 in c:\\users\\jeet sarkar\\anaconda3\\lib\\site-packages (from urllib3[secure]~=1.26->selenium) (3.4.7)\n",
      "Requirement already satisfied: pyOpenSSL>=0.14 in c:\\users\\jeet sarkar\\anaconda3\\lib\\site-packages (from urllib3[secure]~=1.26->selenium) (20.0.1)\n",
      "Requirement already satisfied: certifi in c:\\users\\jeet sarkar\\anaconda3\\lib\\site-packages (from urllib3[secure]~=1.26->selenium) (2020.12.5)\n",
      "Requirement already satisfied: six>=1.5.2 in c:\\users\\jeet sarkar\\anaconda3\\lib\\site-packages (from pyOpenSSL>=0.14->urllib3[secure]~=1.26->selenium) (1.15.0)\n",
      "Requirement already satisfied: h11<1,>=0.9.0 in c:\\users\\jeet sarkar\\anaconda3\\lib\\site-packages (from wsproto>=0.14->trio-websocket~=0.9->selenium) (0.12.0)\n"
     ]
    }
   ],
   "source": [
    "!pip install selenium"
   ]
  },
  {
   "cell_type": "code",
   "execution_count": 1,
   "id": "92063b62",
   "metadata": {},
   "outputs": [],
   "source": [
    "import selenium\n",
    "import pandas as pd\n",
    "from selenium import webdriver\n",
    "import time\n",
    "import warnings \n",
    "warnings.filterwarnings('ignore', category = DeprecationWarning)"
   ]
  },
  {
   "cell_type": "markdown",
   "id": "b6fc7095",
   "metadata": {},
   "source": [
    "# Q.1"
   ]
  },
  {
   "cell_type": "markdown",
   "id": "612485a2",
   "metadata": {},
   "source": [
    "### Write a python program to scrape data for “Data Analyst” Job position in “Bangalore” location. You\n",
    "### have to scrape the job-title, job-location, company_name, experience_required. You have to scrape first 10\n",
    "### jobs data.\n",
    "\n",
    "#### This task will be done in following steps:\n",
    " \n",
    " - 1. First get the webpage https://www.naukri.com/\n",
    " - 2. Enter “Data Analyst” in “Skill, Designations, Companies” field and enter “Bangalore” in “enter the\n",
    "    location” field.\n",
    " - 3. Then click the search button.\n",
    " - 4. Then scrape the data for the first 10 jobs results you get.\n",
    " - 5. Finally create a dataframe of the scraped data."
   ]
  },
  {
   "cell_type": "code",
   "execution_count": 52,
   "id": "46df7c89",
   "metadata": {
    "collapsed": true
   },
   "outputs": [
    {
     "name": "stderr",
     "output_type": "stream",
     "text": [
      "<ipython-input-52-c337df8a51fe>:1: DeprecationWarning: executable_path has been deprecated, please pass in a Service object\n",
      "  driver = webdriver.Chrome(f'E:/FlipRobo Internship/chromedriver.exe')\n"
     ]
    }
   ],
   "source": [
    "# Connecting to the web driver\n",
    "\n",
    "driver = webdriver.Chrome(f'E:/FlipRobo Internship/chromedriver.exe')"
   ]
  },
  {
   "cell_type": "code",
   "execution_count": 51,
   "id": "63a624d1",
   "metadata": {},
   "outputs": [],
   "source": [
    "# To close the web browser\n",
    "# driver.close()"
   ]
  },
  {
   "cell_type": "code",
   "execution_count": 53,
   "id": "f8445f3e",
   "metadata": {},
   "outputs": [],
   "source": [
    "# Inputing the website name\n",
    "\n",
    "driver.get('https://www.naukri.com/')"
   ]
  },
  {
   "cell_type": "code",
   "execution_count": null,
   "id": "d90191fa",
   "metadata": {},
   "outputs": [],
   "source": [
    "driver.maximize_window()"
   ]
  },
  {
   "cell_type": "code",
   "execution_count": 54,
   "id": "d86b89be",
   "metadata": {
    "collapsed": true
   },
   "outputs": [
    {
     "name": "stderr",
     "output_type": "stream",
     "text": [
      "<ipython-input-54-cda738b14c6f>:1: DeprecationWarning: find_element_by_* commands are deprecated. Please use find_element() instead\n",
      "  search_job = driver.find_element_by_id('qsb-keyword-sugg')\n",
      "<ipython-input-54-cda738b14c6f>:3: DeprecationWarning: find_element_by_* commands are deprecated. Please use find_element() instead\n",
      "  search_loc = driver.find_element_by_xpath(\"//input[@id='qsb-location-sugg']\")\n"
     ]
    }
   ],
   "source": [
    "# Inputting the job title and location\n",
    "\n",
    "search_job = driver.find_element_by_id('qsb-keyword-sugg')\n",
    "search_job.send_keys('Data Analyst')\n",
    "search_loc = driver.find_element_by_xpath(\"//input[@id='qsb-location-sugg']\")\n",
    "search_loc.send_keys('Bangalore')"
   ]
  },
  {
   "cell_type": "code",
   "execution_count": 55,
   "id": "ce341b27",
   "metadata": {
    "collapsed": true
   },
   "outputs": [
    {
     "name": "stderr",
     "output_type": "stream",
     "text": [
      "<ipython-input-55-c9b437d84350>:1: DeprecationWarning: find_element_by_* commands are deprecated. Please use find_element() instead\n",
      "  search_btn = driver.find_element_by_xpath(\"//div[@class='search-btn']/button\")\n"
     ]
    }
   ],
   "source": [
    "# Clicking the search button\n",
    "\n",
    "search_btn = driver.find_element_by_xpath(\"//div[@class='search-btn']/button\")\n",
    "search_btn.click()"
   ]
  },
  {
   "cell_type": "code",
   "execution_count": 56,
   "id": "5bc56300",
   "metadata": {},
   "outputs": [],
   "source": [
    "# Page url which we will be scrap\n",
    "\n",
    "url = 'https://www.naukri.com/data-analyst-jobs-in-bangalore?k=data%20analyst&l=bangalore'"
   ]
  },
  {
   "cell_type": "code",
   "execution_count": 98,
   "id": "b842a151",
   "metadata": {},
   "outputs": [],
   "source": [
    "# Getting the elements from webpage\n",
    "\n",
    "driver.get(url)"
   ]
  },
  {
   "cell_type": "code",
   "execution_count": 80,
   "id": "d5dbca7a",
   "metadata": {},
   "outputs": [],
   "source": [
    "# Let's craet 4 empty list as per requirment\n",
    "\n",
    "job_title=[]\n",
    "location_list=[]\n",
    "company_names=[]\n",
    "experiance_list=[]"
   ]
  },
  {
   "cell_type": "code",
   "execution_count": 81,
   "id": "1f958ec5",
   "metadata": {
    "collapsed": true
   },
   "outputs": [
    {
     "name": "stderr",
     "output_type": "stream",
     "text": [
      "<ipython-input-81-e489e9113403>:3: DeprecationWarning: find_elements_by_* commands are deprecated. Please use find_elements() instead\n",
      "  title_tags = driver.find_elements_by_xpath(\"//a[@class='title fw500 ellipsis']\")\n"
     ]
    },
    {
     "data": {
      "text/plain": [
       "[<selenium.webdriver.remote.webelement.WebElement (session=\"3188d92c1367e0384061bc3d686f6de9\", element=\"b80840ef-d731-414a-9139-02150cbf2a7e\")>,\n",
       " <selenium.webdriver.remote.webelement.WebElement (session=\"3188d92c1367e0384061bc3d686f6de9\", element=\"34d64ddf-a86d-4e8b-beaf-69954ec3bdc6\")>,\n",
       " <selenium.webdriver.remote.webelement.WebElement (session=\"3188d92c1367e0384061bc3d686f6de9\", element=\"e6273524-8e41-4dd5-9603-e098e734ee30\")>,\n",
       " <selenium.webdriver.remote.webelement.WebElement (session=\"3188d92c1367e0384061bc3d686f6de9\", element=\"16e4b787-58fb-42de-a307-7f49c5206aa1\")>,\n",
       " <selenium.webdriver.remote.webelement.WebElement (session=\"3188d92c1367e0384061bc3d686f6de9\", element=\"8899c5b7-71e1-4ef8-8094-f73d4c0423ed\")>,\n",
       " <selenium.webdriver.remote.webelement.WebElement (session=\"3188d92c1367e0384061bc3d686f6de9\", element=\"e6d59e22-390a-44cf-9458-769f707f4613\")>,\n",
       " <selenium.webdriver.remote.webelement.WebElement (session=\"3188d92c1367e0384061bc3d686f6de9\", element=\"da44ddfb-c04b-4451-965d-f84ca02b54c4\")>,\n",
       " <selenium.webdriver.remote.webelement.WebElement (session=\"3188d92c1367e0384061bc3d686f6de9\", element=\"cde87e2d-d111-4bfb-a639-c65e385b57dd\")>,\n",
       " <selenium.webdriver.remote.webelement.WebElement (session=\"3188d92c1367e0384061bc3d686f6de9\", element=\"e215a514-52de-41c0-bd61-f357a59c33f4\")>,\n",
       " <selenium.webdriver.remote.webelement.WebElement (session=\"3188d92c1367e0384061bc3d686f6de9\", element=\"2a21c8ea-4a64-4d6a-820c-dffdf2b1a8f5\")>]"
      ]
     },
     "execution_count": 81,
     "metadata": {},
     "output_type": "execute_result"
    }
   ],
   "source": [
    "# Let's extract all the tags having the job_titles`\n",
    "\n",
    "title_tags = driver.find_elements_by_xpath(\"//a[@class='title fw500 ellipsis']\")\n",
    "title_tags[:10]"
   ]
  },
  {
   "cell_type": "code",
   "execution_count": 82,
   "id": "806b7ab9",
   "metadata": {
    "collapsed": true
   },
   "outputs": [
    {
     "data": {
      "text/plain": [
       "['Jr. Data Analyst/ Jr. Data Scientist',\n",
       " 'Data Analyst',\n",
       " 'Data Analyst',\n",
       " 'Data Analyst - Marketing',\n",
       " 'Hiring Business Data Analyst +ETL- Tech Mahindra, Bangalore',\n",
       " 'Data & Performance R&D and Innovation Data Analyst',\n",
       " 'Data & Performance Strategy & Insight Data Analyst',\n",
       " 'Data Analyst',\n",
       " 'Professional 1 Data Analyst',\n",
       " 'Manager - Data Analyst']"
      ]
     },
     "execution_count": 82,
     "metadata": {},
     "output_type": "execute_result"
    }
   ],
   "source": [
    "# Now the text of the job title inside the tags extracted above\n",
    "\n",
    "#So we will run a lopp to iterate over the tags extracted above and extract the titles\n",
    "\n",
    "for i in title_tags:\n",
    "    title=i.text\n",
    "    job_title.append(title)\n",
    "job_title[:10]"
   ]
  },
  {
   "cell_type": "code",
   "execution_count": 83,
   "id": "805d349b",
   "metadata": {
    "collapsed": true
   },
   "outputs": [
    {
     "name": "stderr",
     "output_type": "stream",
     "text": [
      "<ipython-input-83-858b4ae14d4a>:1: DeprecationWarning: find_elements_by_* commands are deprecated. Please use find_elements() instead\n",
      "  company_tags = driver.find_elements_by_xpath(\"//a[@class='subTitle ellipsis fleft']\")\n"
     ]
    },
    {
     "data": {
      "text/plain": [
       "[<selenium.webdriver.remote.webelement.WebElement (session=\"3188d92c1367e0384061bc3d686f6de9\", element=\"fb27974e-cd6d-499f-a701-14ff7f11d47b\")>,\n",
       " <selenium.webdriver.remote.webelement.WebElement (session=\"3188d92c1367e0384061bc3d686f6de9\", element=\"91a21298-5270-4280-9702-042caa3ee8ac\")>,\n",
       " <selenium.webdriver.remote.webelement.WebElement (session=\"3188d92c1367e0384061bc3d686f6de9\", element=\"a6077d0b-1641-4037-98c8-ec2e5eca2178\")>,\n",
       " <selenium.webdriver.remote.webelement.WebElement (session=\"3188d92c1367e0384061bc3d686f6de9\", element=\"629aca50-2ff1-488c-a648-051344ad83df\")>,\n",
       " <selenium.webdriver.remote.webelement.WebElement (session=\"3188d92c1367e0384061bc3d686f6de9\", element=\"f38d527f-5ab9-4b15-b9cd-ed976fac4573\")>,\n",
       " <selenium.webdriver.remote.webelement.WebElement (session=\"3188d92c1367e0384061bc3d686f6de9\", element=\"60bedead-5647-449f-a1e1-b4b9411febd9\")>,\n",
       " <selenium.webdriver.remote.webelement.WebElement (session=\"3188d92c1367e0384061bc3d686f6de9\", element=\"9ea4c674-a431-4530-a947-329056febff6\")>,\n",
       " <selenium.webdriver.remote.webelement.WebElement (session=\"3188d92c1367e0384061bc3d686f6de9\", element=\"428a2eb4-7d0a-4986-ab43-f83988c727e2\")>,\n",
       " <selenium.webdriver.remote.webelement.WebElement (session=\"3188d92c1367e0384061bc3d686f6de9\", element=\"ae4d0f3e-edc9-4ec8-a120-9a0b546cbbaa\")>,\n",
       " <selenium.webdriver.remote.webelement.WebElement (session=\"3188d92c1367e0384061bc3d686f6de9\", element=\"02ec8dfe-31e2-4b05-8908-009eca3c19d1\")>]"
      ]
     },
     "execution_count": 83,
     "metadata": {},
     "output_type": "execute_result"
    }
   ],
   "source": [
    "# Finding the company tags up to 10\n",
    "\n",
    "company_tags = driver.find_elements_by_xpath(\"//a[@class='subTitle ellipsis fleft']\")\n",
    "company_tags[0:10]"
   ]
  },
  {
   "cell_type": "code",
   "execution_count": 84,
   "id": "ebc42db5",
   "metadata": {
    "collapsed": true
   },
   "outputs": [
    {
     "data": {
      "text/plain": [
       "['Sejal Consulting Hub',\n",
       " 'Capgemini',\n",
       " 'GlaxoSmithKline Pharmaceuticals Limited',\n",
       " 'Razorpay',\n",
       " 'Tech Mahindra',\n",
       " 'Schneider Electric',\n",
       " 'Schneider Electric',\n",
       " 'GlaxoSmithKline Pharmaceuticals Limited',\n",
       " 'DXC Technology',\n",
       " 'Genpact']"
      ]
     },
     "execution_count": 84,
     "metadata": {},
     "output_type": "execute_result"
    }
   ],
   "source": [
    "# Finding all company names\n",
    "\n",
    "for i in company_tags:\n",
    "    company_name=i.text\n",
    "    company_names.append(company_name)\n",
    "company_names[0:10]"
   ]
  },
  {
   "cell_type": "code",
   "execution_count": 85,
   "id": "b2e8fbc6",
   "metadata": {
    "collapsed": true
   },
   "outputs": [
    {
     "name": "stderr",
     "output_type": "stream",
     "text": [
      "<ipython-input-85-b0b22fa7de9f>:1: DeprecationWarning: find_elements_by_* commands are deprecated. Please use find_elements() instead\n",
      "  experiance_tags = driver.find_elements_by_xpath(\"//li[@class='fleft grey-text br2 placeHolderLi experience']\")\n"
     ]
    },
    {
     "data": {
      "text/plain": [
       "[<selenium.webdriver.remote.webelement.WebElement (session=\"3188d92c1367e0384061bc3d686f6de9\", element=\"0ba05bbf-79fb-473e-97ac-930d3cafa157\")>,\n",
       " <selenium.webdriver.remote.webelement.WebElement (session=\"3188d92c1367e0384061bc3d686f6de9\", element=\"2fb98627-694b-4c6a-9403-39faf8891e1f\")>,\n",
       " <selenium.webdriver.remote.webelement.WebElement (session=\"3188d92c1367e0384061bc3d686f6de9\", element=\"d2185f13-6683-4ecd-a30c-04ec51762b0e\")>,\n",
       " <selenium.webdriver.remote.webelement.WebElement (session=\"3188d92c1367e0384061bc3d686f6de9\", element=\"c2cf5567-5852-43d0-9684-8d35403f7b6e\")>,\n",
       " <selenium.webdriver.remote.webelement.WebElement (session=\"3188d92c1367e0384061bc3d686f6de9\", element=\"4cfc2d03-d430-4986-bf5f-dca44c84c72b\")>,\n",
       " <selenium.webdriver.remote.webelement.WebElement (session=\"3188d92c1367e0384061bc3d686f6de9\", element=\"0dbae169-3c1a-4e5e-a9b3-2854998ca4ca\")>,\n",
       " <selenium.webdriver.remote.webelement.WebElement (session=\"3188d92c1367e0384061bc3d686f6de9\", element=\"b89d43eb-7c1f-4905-9e31-1f830f4ba0e6\")>,\n",
       " <selenium.webdriver.remote.webelement.WebElement (session=\"3188d92c1367e0384061bc3d686f6de9\", element=\"ef6ac5d7-e43f-40a6-90b9-985155507274\")>,\n",
       " <selenium.webdriver.remote.webelement.WebElement (session=\"3188d92c1367e0384061bc3d686f6de9\", element=\"b4120593-48dd-429c-a42d-f0689bb02682\")>,\n",
       " <selenium.webdriver.remote.webelement.WebElement (session=\"3188d92c1367e0384061bc3d686f6de9\", element=\"633a0a84-f9e0-4f53-849d-5a1f168ec72b\")>]"
      ]
     },
     "execution_count": 85,
     "metadata": {},
     "output_type": "execute_result"
    }
   ],
   "source": [
    "# Finding experience tags up to 10\n",
    "\n",
    "experiance_tags = driver.find_elements_by_xpath(\"//li[@class='fleft grey-text br2 placeHolderLi experience']\")\n",
    "experiance_tags[0:10]"
   ]
  },
  {
   "cell_type": "code",
   "execution_count": 86,
   "id": "10a31f50",
   "metadata": {
    "collapsed": true
   },
   "outputs": [
    {
     "data": {
      "text/plain": [
       "['0-5 Yrs',\n",
       " '2-5 Yrs',\n",
       " '7-10 Yrs',\n",
       " '0-2 Yrs',\n",
       " '6-10 Yrs',\n",
       " '3-6 Yrs',\n",
       " '3-6 Yrs',\n",
       " '5-10 Yrs',\n",
       " '2-5 Yrs',\n",
       " '5-10 Yrs']"
      ]
     },
     "execution_count": 86,
     "metadata": {},
     "output_type": "execute_result"
    }
   ],
   "source": [
    "# Finding all experience required\n",
    "\n",
    "for i in experiance_tags:\n",
    "    experiance_req=i.text\n",
    "    experiance_list.append(experiance_req)\n",
    "experiance_list[0:10]"
   ]
  },
  {
   "cell_type": "code",
   "execution_count": 87,
   "id": "55cf7f4e",
   "metadata": {
    "collapsed": true
   },
   "outputs": [
    {
     "name": "stderr",
     "output_type": "stream",
     "text": [
      "<ipython-input-87-b4f1f2827b54>:1: DeprecationWarning: find_elements_by_* commands are deprecated. Please use find_elements() instead\n",
      "  loc_tags = driver.find_elements_by_xpath(\"//li[@class='fleft grey-text br2 placeHolderLi location']\")\n"
     ]
    },
    {
     "data": {
      "text/plain": [
       "[<selenium.webdriver.remote.webelement.WebElement (session=\"3188d92c1367e0384061bc3d686f6de9\", element=\"9fc6c1e1-d781-4edf-8cc7-1bed883bb31b\")>,\n",
       " <selenium.webdriver.remote.webelement.WebElement (session=\"3188d92c1367e0384061bc3d686f6de9\", element=\"658d5461-82a3-4c97-9892-3965b216d6b3\")>,\n",
       " <selenium.webdriver.remote.webelement.WebElement (session=\"3188d92c1367e0384061bc3d686f6de9\", element=\"295bb352-5141-498c-9bc3-b1c9c4f21a16\")>,\n",
       " <selenium.webdriver.remote.webelement.WebElement (session=\"3188d92c1367e0384061bc3d686f6de9\", element=\"6298a6ad-37df-4994-ae37-1a0a482c32f4\")>,\n",
       " <selenium.webdriver.remote.webelement.WebElement (session=\"3188d92c1367e0384061bc3d686f6de9\", element=\"5f6c6ab7-a1e6-4dee-a3c5-20ce11769c10\")>,\n",
       " <selenium.webdriver.remote.webelement.WebElement (session=\"3188d92c1367e0384061bc3d686f6de9\", element=\"09cdb3da-ee8b-48ec-94d4-838f9de3e5b1\")>,\n",
       " <selenium.webdriver.remote.webelement.WebElement (session=\"3188d92c1367e0384061bc3d686f6de9\", element=\"ffc57eae-bf49-43d2-a600-3d959f1d2fc7\")>,\n",
       " <selenium.webdriver.remote.webelement.WebElement (session=\"3188d92c1367e0384061bc3d686f6de9\", element=\"7ba2f956-f194-41b7-8fcb-4cbf29f42731\")>,\n",
       " <selenium.webdriver.remote.webelement.WebElement (session=\"3188d92c1367e0384061bc3d686f6de9\", element=\"c3f98c30-de96-4782-87e5-8b4b6bbfffbe\")>,\n",
       " <selenium.webdriver.remote.webelement.WebElement (session=\"3188d92c1367e0384061bc3d686f6de9\", element=\"060ab50e-61de-4ce6-b035-f742cd2662d4\")>]"
      ]
     },
     "execution_count": 87,
     "metadata": {},
     "output_type": "execute_result"
    }
   ],
   "source": [
    "# Finding location tags upto 10\n",
    "\n",
    "loc_tags = driver.find_elements_by_xpath(\"//li[@class='fleft grey-text br2 placeHolderLi location']\")\n",
    "loc_tags[0:10]"
   ]
  },
  {
   "cell_type": "code",
   "execution_count": 88,
   "id": "e9ea4dc8",
   "metadata": {
    "collapsed": true
   },
   "outputs": [
    {
     "data": {
      "text/plain": [
       "['Hyderabad/Secunderabad, Bangalore/Bengaluru, Mumbai (All Areas)',\n",
       " 'Bangalore/Bengaluru',\n",
       " 'Bangalore/Bengaluru',\n",
       " 'Bangalore/Bengaluru',\n",
       " 'Bangalore/Bengaluru',\n",
       " 'Bangalore/Bengaluru',\n",
       " 'Bangalore/Bengaluru',\n",
       " 'Bangalore/Bengaluru',\n",
       " 'Bangalore/Bengaluru',\n",
       " 'Bangalore/Bengaluru']"
      ]
     },
     "execution_count": 88,
     "metadata": {},
     "output_type": "execute_result"
    }
   ],
   "source": [
    "# Finding all locations\n",
    "\n",
    "for i in loc_tags:\n",
    "    location=i.text\n",
    "    location_list.append(location)\n",
    "location_list[0:10]"
   ]
  },
  {
   "cell_type": "code",
   "execution_count": 89,
   "id": "6ec519aa",
   "metadata": {
    "collapsed": true
   },
   "outputs": [
    {
     "name": "stdout",
     "output_type": "stream",
     "text": [
      "20 20 20 20\n"
     ]
    }
   ],
   "source": [
    "print(len(job_title),len(location_list),len(experiance_list),len(company_names))"
   ]
  },
  {
   "cell_type": "code",
   "execution_count": 96,
   "id": "57f5e382",
   "metadata": {
    "collapsed": true
   },
   "outputs": [
    {
     "data": {
      "text/html": [
       "<div>\n",
       "<style scoped>\n",
       "    .dataframe tbody tr th:only-of-type {\n",
       "        vertical-align: middle;\n",
       "    }\n",
       "\n",
       "    .dataframe tbody tr th {\n",
       "        vertical-align: top;\n",
       "    }\n",
       "\n",
       "    .dataframe thead th {\n",
       "        text-align: right;\n",
       "    }\n",
       "</style>\n",
       "<table border=\"1\" class=\"dataframe\">\n",
       "  <thead>\n",
       "    <tr style=\"text-align: right;\">\n",
       "      <th></th>\n",
       "      <th>Company Name</th>\n",
       "      <th>Job Title</th>\n",
       "      <th>Experiance Required</th>\n",
       "      <th>Job Location</th>\n",
       "    </tr>\n",
       "  </thead>\n",
       "  <tbody>\n",
       "    <tr>\n",
       "      <th>0</th>\n",
       "      <td>Sejal Consulting Hub</td>\n",
       "      <td>Jr. Data Analyst/ Jr. Data Scientist</td>\n",
       "      <td>0-5 Yrs</td>\n",
       "      <td>Hyderabad/Secunderabad, Bangalore/Bengaluru, M...</td>\n",
       "    </tr>\n",
       "    <tr>\n",
       "      <th>1</th>\n",
       "      <td>Capgemini</td>\n",
       "      <td>Data Analyst</td>\n",
       "      <td>2-5 Yrs</td>\n",
       "      <td>Bangalore/Bengaluru</td>\n",
       "    </tr>\n",
       "    <tr>\n",
       "      <th>2</th>\n",
       "      <td>GlaxoSmithKline Pharmaceuticals Limited</td>\n",
       "      <td>Data Analyst</td>\n",
       "      <td>7-10 Yrs</td>\n",
       "      <td>Bangalore/Bengaluru</td>\n",
       "    </tr>\n",
       "    <tr>\n",
       "      <th>3</th>\n",
       "      <td>Razorpay</td>\n",
       "      <td>Data Analyst - Marketing</td>\n",
       "      <td>0-2 Yrs</td>\n",
       "      <td>Bangalore/Bengaluru</td>\n",
       "    </tr>\n",
       "    <tr>\n",
       "      <th>4</th>\n",
       "      <td>Tech Mahindra</td>\n",
       "      <td>Hiring Business Data Analyst +ETL- Tech Mahind...</td>\n",
       "      <td>6-10 Yrs</td>\n",
       "      <td>Bangalore/Bengaluru</td>\n",
       "    </tr>\n",
       "    <tr>\n",
       "      <th>5</th>\n",
       "      <td>Schneider Electric</td>\n",
       "      <td>Data &amp; Performance R&amp;D and Innovation Data Ana...</td>\n",
       "      <td>3-6 Yrs</td>\n",
       "      <td>Bangalore/Bengaluru</td>\n",
       "    </tr>\n",
       "    <tr>\n",
       "      <th>6</th>\n",
       "      <td>Schneider Electric</td>\n",
       "      <td>Data &amp; Performance Strategy &amp; Insight Data Ana...</td>\n",
       "      <td>3-6 Yrs</td>\n",
       "      <td>Bangalore/Bengaluru</td>\n",
       "    </tr>\n",
       "    <tr>\n",
       "      <th>7</th>\n",
       "      <td>GlaxoSmithKline Pharmaceuticals Limited</td>\n",
       "      <td>Data Analyst</td>\n",
       "      <td>5-10 Yrs</td>\n",
       "      <td>Bangalore/Bengaluru</td>\n",
       "    </tr>\n",
       "    <tr>\n",
       "      <th>8</th>\n",
       "      <td>DXC Technology</td>\n",
       "      <td>Professional 1 Data Analyst</td>\n",
       "      <td>2-5 Yrs</td>\n",
       "      <td>Bangalore/Bengaluru</td>\n",
       "    </tr>\n",
       "    <tr>\n",
       "      <th>9</th>\n",
       "      <td>Genpact</td>\n",
       "      <td>Manager - Data Analyst</td>\n",
       "      <td>5-10 Yrs</td>\n",
       "      <td>Bangalore/Bengaluru</td>\n",
       "    </tr>\n",
       "  </tbody>\n",
       "</table>\n",
       "</div>"
      ],
      "text/plain": [
       "                              Company Name  \\\n",
       "0                     Sejal Consulting Hub   \n",
       "1                                Capgemini   \n",
       "2  GlaxoSmithKline Pharmaceuticals Limited   \n",
       "3                                 Razorpay   \n",
       "4                            Tech Mahindra   \n",
       "5                       Schneider Electric   \n",
       "6                       Schneider Electric   \n",
       "7  GlaxoSmithKline Pharmaceuticals Limited   \n",
       "8                           DXC Technology   \n",
       "9                                  Genpact   \n",
       "\n",
       "                                           Job Title Experiance Required  \\\n",
       "0               Jr. Data Analyst/ Jr. Data Scientist             0-5 Yrs   \n",
       "1                                       Data Analyst             2-5 Yrs   \n",
       "2                                       Data Analyst            7-10 Yrs   \n",
       "3                           Data Analyst - Marketing             0-2 Yrs   \n",
       "4  Hiring Business Data Analyst +ETL- Tech Mahind...            6-10 Yrs   \n",
       "5  Data & Performance R&D and Innovation Data Ana...             3-6 Yrs   \n",
       "6  Data & Performance Strategy & Insight Data Ana...             3-6 Yrs   \n",
       "7                                       Data Analyst            5-10 Yrs   \n",
       "8                        Professional 1 Data Analyst             2-5 Yrs   \n",
       "9                             Manager - Data Analyst            5-10 Yrs   \n",
       "\n",
       "                                        Job Location  \n",
       "0  Hyderabad/Secunderabad, Bangalore/Bengaluru, M...  \n",
       "1                                Bangalore/Bengaluru  \n",
       "2                                Bangalore/Bengaluru  \n",
       "3                                Bangalore/Bengaluru  \n",
       "4                                Bangalore/Bengaluru  \n",
       "5                                Bangalore/Bengaluru  \n",
       "6                                Bangalore/Bengaluru  \n",
       "7                                Bangalore/Bengaluru  \n",
       "8                                Bangalore/Bengaluru  \n",
       "9                                Bangalore/Bengaluru  "
      ]
     },
     "execution_count": 96,
     "metadata": {},
     "output_type": "execute_result"
    }
   ],
   "source": [
    "# Making Data Frame\n",
    "\n",
    "df = pd.DataFrame({'Company Name':company_names,'Job Title':job_title,'Experiance Required':experiance_list,'Job Location':location_list})\n",
    "df[0:10]"
   ]
  },
  {
   "cell_type": "markdown",
   "id": "2c8b967b",
   "metadata": {},
   "source": [
    "# Q.2"
   ]
  },
  {
   "cell_type": "markdown",
   "id": "00573c5e",
   "metadata": {},
   "source": [
    "### Write a python program to scrape data for “Data Scientist” Job position in “Bangalore” location. You\n",
    "### have to scrape the job-title, job-location, company_name. You have to scrape first 10 jobs data."
   ]
  },
  {
   "cell_type": "markdown",
   "id": "69ff8b7c",
   "metadata": {},
   "source": [
    "#### This task will be done in following steps:\n",
    " - 1. First get the webpage https://www.naukri.com/\n",
    " - 2. Enter “Data Scientist” in “Skill, Designations, Companies” field and enter “Bangalore” in “enter the\n",
    "    location” field.\n",
    " - 3. Then click the search button.\n",
    " - 4. Then scrape the data for the first 10 jobs results you get.\n",
    " - 5. Finally create a dataframe of the scraped data."
   ]
  },
  {
   "cell_type": "code",
   "execution_count": 144,
   "id": "aac18dbf",
   "metadata": {
    "collapsed": true
   },
   "outputs": [
    {
     "name": "stderr",
     "output_type": "stream",
     "text": [
      "<ipython-input-144-55bf47f6255f>:1: DeprecationWarning: executable_path has been deprecated, please pass in a Service object\n",
      "  driver = webdriver.Chrome(f'E:/FlipRobo Internship/chromedriver.exe')\n"
     ]
    }
   ],
   "source": [
    "# Connecting to the web driver\n",
    "# Inputing the website name\n",
    "\n",
    "driver = webdriver.Chrome(f'E:/FlipRobo Internship/chromedriver.exe')\n",
    "driver.get('https://www.naukri.com/')"
   ]
  },
  {
   "cell_type": "code",
   "execution_count": null,
   "id": "39967ae2",
   "metadata": {},
   "outputs": [],
   "source": [
    "driver.maximize_window()"
   ]
  },
  {
   "cell_type": "code",
   "execution_count": 158,
   "id": "e117656f",
   "metadata": {},
   "outputs": [],
   "source": [
    "# driver.close()"
   ]
  },
  {
   "cell_type": "code",
   "execution_count": 145,
   "id": "64021e82",
   "metadata": {
    "collapsed": true
   },
   "outputs": [
    {
     "name": "stderr",
     "output_type": "stream",
     "text": [
      "<ipython-input-145-6f81f55cdfb8>:1: DeprecationWarning: find_element_by_* commands are deprecated. Please use find_element() instead\n",
      "  search_job = driver.find_element_by_id('qsb-keyword-sugg')\n",
      "<ipython-input-145-6f81f55cdfb8>:3: DeprecationWarning: find_element_by_* commands are deprecated. Please use find_element() instead\n",
      "  search_loc=driver.find_element_by_xpath(\"//input[@id='qsb-location-sugg']\")\n"
     ]
    }
   ],
   "source": [
    "# Inputting the job title and location\n",
    "\n",
    "search_job = driver.find_element_by_id('qsb-keyword-sugg')\n",
    "search_job.send_keys('Data Scientist')\n",
    "search_loc=driver.find_element_by_xpath(\"//input[@id='qsb-location-sugg']\")\n",
    "search_loc.send_keys('Bangalore')"
   ]
  },
  {
   "cell_type": "code",
   "execution_count": 146,
   "id": "e64f9f9f",
   "metadata": {
    "collapsed": true
   },
   "outputs": [
    {
     "name": "stderr",
     "output_type": "stream",
     "text": [
      "<ipython-input-146-c9b437d84350>:1: DeprecationWarning: find_element_by_* commands are deprecated. Please use find_element() instead\n",
      "  search_btn = driver.find_element_by_xpath(\"//div[@class='search-btn']/button\")\n"
     ]
    }
   ],
   "source": [
    "# Clicking the SEARCH button\n",
    "\n",
    "search_btn = driver.find_element_by_xpath(\"//div[@class='search-btn']/button\")\n",
    "search_btn.click()"
   ]
  },
  {
   "cell_type": "code",
   "execution_count": 147,
   "id": "443a6897",
   "metadata": {},
   "outputs": [],
   "source": [
    "# Craeting emptylists\n",
    "\n",
    "job_title=[]\n",
    "location_list=[]\n",
    "company_list=[]"
   ]
  },
  {
   "cell_type": "code",
   "execution_count": 149,
   "id": "ccad069a",
   "metadata": {
    "collapsed": true
   },
   "outputs": [
    {
     "name": "stderr",
     "output_type": "stream",
     "text": [
      "<ipython-input-149-bbe5128b7374>:1: DeprecationWarning: find_elements_by_* commands are deprecated. Please use find_elements() instead\n",
      "  title_tags = driver.find_elements_by_xpath(\"//a[@class='title fw500 ellipsis']\")\n"
     ]
    },
    {
     "data": {
      "text/plain": [
       "[<selenium.webdriver.remote.webelement.WebElement (session=\"804804759d0f84a73b7a042216caed7e\", element=\"3acfe2d2-5982-4020-9273-6513aa73e1f7\")>,\n",
       " <selenium.webdriver.remote.webelement.WebElement (session=\"804804759d0f84a73b7a042216caed7e\", element=\"44c6b822-1864-4416-a936-9cd09b21161c\")>,\n",
       " <selenium.webdriver.remote.webelement.WebElement (session=\"804804759d0f84a73b7a042216caed7e\", element=\"38bbf1be-32d5-4d88-90d9-435e22f52bf7\")>,\n",
       " <selenium.webdriver.remote.webelement.WebElement (session=\"804804759d0f84a73b7a042216caed7e\", element=\"06129ba0-a99c-4ee5-9aa7-9fb2dc61874f\")>,\n",
       " <selenium.webdriver.remote.webelement.WebElement (session=\"804804759d0f84a73b7a042216caed7e\", element=\"b6fb785b-ac85-4255-800f-d7f5df8cb111\")>,\n",
       " <selenium.webdriver.remote.webelement.WebElement (session=\"804804759d0f84a73b7a042216caed7e\", element=\"e687a217-39dc-47b7-8b71-7876c6d21cbd\")>,\n",
       " <selenium.webdriver.remote.webelement.WebElement (session=\"804804759d0f84a73b7a042216caed7e\", element=\"076d1c69-893a-4cc8-8f30-8175d510d6fb\")>,\n",
       " <selenium.webdriver.remote.webelement.WebElement (session=\"804804759d0f84a73b7a042216caed7e\", element=\"1595c3b9-9d92-407c-b081-3d28061a4e88\")>,\n",
       " <selenium.webdriver.remote.webelement.WebElement (session=\"804804759d0f84a73b7a042216caed7e\", element=\"aed62c18-5f7b-455b-ac7c-b13217012e43\")>,\n",
       " <selenium.webdriver.remote.webelement.WebElement (session=\"804804759d0f84a73b7a042216caed7e\", element=\"ed9b5245-adb2-4e9c-875a-3532dd344ab5\")>]"
      ]
     },
     "execution_count": 149,
     "metadata": {},
     "output_type": "execute_result"
    }
   ],
   "source": [
    "# Finding title tags upto 10\n",
    "\n",
    "title_tags = driver.find_elements_by_xpath(\"//a[@class='title fw500 ellipsis']\")\n",
    "title_tags[0:10]"
   ]
  },
  {
   "cell_type": "code",
   "execution_count": 150,
   "id": "59d257d9",
   "metadata": {
    "collapsed": true
   },
   "outputs": [
    {
     "data": {
      "text/plain": [
       "['Jr. Data Analyst/ Jr. Data Scientist',\n",
       " 'Lead/Senior Data Scientist (NLP)',\n",
       " 'Tcs Hiring For Data Scientist (Python GCP)',\n",
       " 'Senior Data Scientist / Data Scientist',\n",
       " 'Senior Data Scientist',\n",
       " 'Senior Data Scientist',\n",
       " 'DG - Business Analyst - Data Scientist',\n",
       " 'Senior Manager - Data Scientist',\n",
       " 'Senior Data Scientist - Immediate Joiner Preferred',\n",
       " 'Lead Consultant - Data Scientist']"
      ]
     },
     "execution_count": 150,
     "metadata": {},
     "output_type": "execute_result"
    }
   ],
   "source": [
    "# Findling all job titles using loop\n",
    "\n",
    "for i in title_tags:\n",
    "    jobs=i.text\n",
    "    job_title.append(jobs)\n",
    "job_title[0:10]"
   ]
  },
  {
   "cell_type": "code",
   "execution_count": 151,
   "id": "72638898",
   "metadata": {
    "collapsed": true
   },
   "outputs": [
    {
     "name": "stderr",
     "output_type": "stream",
     "text": [
      "<ipython-input-151-b4f1f2827b54>:1: DeprecationWarning: find_elements_by_* commands are deprecated. Please use find_elements() instead\n",
      "  loc_tags = driver.find_elements_by_xpath(\"//li[@class='fleft grey-text br2 placeHolderLi location']\")\n"
     ]
    },
    {
     "data": {
      "text/plain": [
       "[<selenium.webdriver.remote.webelement.WebElement (session=\"804804759d0f84a73b7a042216caed7e\", element=\"fd4b5bbe-d311-4b12-a4a7-4ea538a9d2e9\")>,\n",
       " <selenium.webdriver.remote.webelement.WebElement (session=\"804804759d0f84a73b7a042216caed7e\", element=\"6cb89039-c665-4eba-9a99-98bb433db25e\")>,\n",
       " <selenium.webdriver.remote.webelement.WebElement (session=\"804804759d0f84a73b7a042216caed7e\", element=\"cca6d7b9-d476-4d64-b443-7baa1de60aeb\")>,\n",
       " <selenium.webdriver.remote.webelement.WebElement (session=\"804804759d0f84a73b7a042216caed7e\", element=\"30ce9b44-9c5e-4dd4-9cf8-34da88f6cb41\")>,\n",
       " <selenium.webdriver.remote.webelement.WebElement (session=\"804804759d0f84a73b7a042216caed7e\", element=\"e0cbe219-be04-4fa6-bd73-cd02e332dc40\")>,\n",
       " <selenium.webdriver.remote.webelement.WebElement (session=\"804804759d0f84a73b7a042216caed7e\", element=\"2c89c25c-5867-4f94-aca1-9caf740382cd\")>,\n",
       " <selenium.webdriver.remote.webelement.WebElement (session=\"804804759d0f84a73b7a042216caed7e\", element=\"198f237f-a26e-43ec-8a7e-8d4fefaf4308\")>,\n",
       " <selenium.webdriver.remote.webelement.WebElement (session=\"804804759d0f84a73b7a042216caed7e\", element=\"148f6baa-b51c-44e3-83da-2282d2d232b4\")>,\n",
       " <selenium.webdriver.remote.webelement.WebElement (session=\"804804759d0f84a73b7a042216caed7e\", element=\"f65de503-8bf8-491b-8bb5-8834f3782289\")>,\n",
       " <selenium.webdriver.remote.webelement.WebElement (session=\"804804759d0f84a73b7a042216caed7e\", element=\"06aaf63f-74a0-499f-8e5d-8031686ed71e\")>]"
      ]
     },
     "execution_count": 151,
     "metadata": {},
     "output_type": "execute_result"
    }
   ],
   "source": [
    "# Finding location tags up to 10\n",
    "\n",
    "loc_tags = driver.find_elements_by_xpath(\"//li[@class='fleft grey-text br2 placeHolderLi location']\")\n",
    "loc_tags[0:10]"
   ]
  },
  {
   "cell_type": "code",
   "execution_count": 152,
   "id": "6b6bceb8",
   "metadata": {
    "collapsed": true
   },
   "outputs": [
    {
     "data": {
      "text/plain": [
       "['Hyderabad/Secunderabad, Bangalore/Bengaluru, Mumbai (All Areas)',\n",
       " 'Bangalore/Bengaluru\\n(WFH during Covid)',\n",
       " 'Hyderabad/Secunderabad, Chennai, Bangalore/Bengaluru',\n",
       " 'Bangalore/Bengaluru',\n",
       " 'Pune, Bangalore/Bengaluru, Delhi / NCR',\n",
       " 'Kolkata, Hyderabad/Secunderabad, Pune, Chennai, Bangalore/Bengaluru, Delhi / NCR, Mumbai (All Areas)\\n(WFH during Covid)',\n",
       " 'Bangalore/Bengaluru',\n",
       " 'Bangalore/Bengaluru',\n",
       " 'Mumbai, Pune, Bangalore/Bengaluru',\n",
       " 'Bangalore/Bengaluru']"
      ]
     },
     "execution_count": 152,
     "metadata": {},
     "output_type": "execute_result"
    }
   ],
   "source": [
    "# Finding location names using loop\n",
    "\n",
    "for i in loc_tags:\n",
    "    location=i.text\n",
    "    location_list.append(location)\n",
    "location_list[0:10]"
   ]
  },
  {
   "cell_type": "code",
   "execution_count": 153,
   "id": "3ea9f695",
   "metadata": {
    "collapsed": true
   },
   "outputs": [
    {
     "name": "stderr",
     "output_type": "stream",
     "text": [
      "<ipython-input-153-858b4ae14d4a>:1: DeprecationWarning: find_elements_by_* commands are deprecated. Please use find_elements() instead\n",
      "  company_tags = driver.find_elements_by_xpath(\"//a[@class='subTitle ellipsis fleft']\")\n"
     ]
    },
    {
     "data": {
      "text/plain": [
       "[<selenium.webdriver.remote.webelement.WebElement (session=\"804804759d0f84a73b7a042216caed7e\", element=\"1019bd80-da89-4df9-9d07-6775c5c41ad1\")>,\n",
       " <selenium.webdriver.remote.webelement.WebElement (session=\"804804759d0f84a73b7a042216caed7e\", element=\"75933657-f8ad-4768-b2d1-938314c040a7\")>,\n",
       " <selenium.webdriver.remote.webelement.WebElement (session=\"804804759d0f84a73b7a042216caed7e\", element=\"a8803a43-bfad-4c09-a9ac-557dfa55815e\")>,\n",
       " <selenium.webdriver.remote.webelement.WebElement (session=\"804804759d0f84a73b7a042216caed7e\", element=\"b4b65b5f-a16d-4657-be86-e797d435bcaf\")>,\n",
       " <selenium.webdriver.remote.webelement.WebElement (session=\"804804759d0f84a73b7a042216caed7e\", element=\"e4be1c50-f665-4306-995c-bd030530c4ba\")>,\n",
       " <selenium.webdriver.remote.webelement.WebElement (session=\"804804759d0f84a73b7a042216caed7e\", element=\"91f5b492-82e7-4346-86f1-0b511cd23862\")>,\n",
       " <selenium.webdriver.remote.webelement.WebElement (session=\"804804759d0f84a73b7a042216caed7e\", element=\"a110cd64-d887-4434-943c-86f308ec8412\")>,\n",
       " <selenium.webdriver.remote.webelement.WebElement (session=\"804804759d0f84a73b7a042216caed7e\", element=\"81dc0532-3bf2-4e7d-a8cc-1e4f1426bf8c\")>,\n",
       " <selenium.webdriver.remote.webelement.WebElement (session=\"804804759d0f84a73b7a042216caed7e\", element=\"bf8257a3-aff3-41e7-ab01-3a6034f98920\")>,\n",
       " <selenium.webdriver.remote.webelement.WebElement (session=\"804804759d0f84a73b7a042216caed7e\", element=\"12bbd481-c3d2-4b3d-837b-707678b77d86\")>]"
      ]
     },
     "execution_count": 153,
     "metadata": {},
     "output_type": "execute_result"
    }
   ],
   "source": [
    "# Finding the company name tag\n",
    "\n",
    "company_tags = driver.find_elements_by_xpath(\"//a[@class='subTitle ellipsis fleft']\")\n",
    "company_tags[0:10]"
   ]
  },
  {
   "cell_type": "code",
   "execution_count": 154,
   "id": "6426ffba",
   "metadata": {
    "collapsed": true
   },
   "outputs": [
    {
     "data": {
      "text/plain": [
       "['Sejal Consulting Hub',\n",
       " 'Samya.AI A FRACTAL Entity',\n",
       " 'Tata Consultancy Services Ltd.',\n",
       " 'Superior Group',\n",
       " 'Wipro',\n",
       " 'Wipro',\n",
       " 'Genpact',\n",
       " 'Genpact',\n",
       " 'PlaceMinds Consulting Pvt. Ltd',\n",
       " 'Genpact']"
      ]
     },
     "execution_count": 154,
     "metadata": {},
     "output_type": "execute_result"
    }
   ],
   "source": [
    "# Findling all company names using loop\n",
    "\n",
    "for i in company_tags:\n",
    "    comp=i.text\n",
    "    company_list.append(comp)\n",
    "company_list[0:10]"
   ]
  },
  {
   "cell_type": "code",
   "execution_count": 321,
   "id": "57563b8e",
   "metadata": {
    "collapsed": true
   },
   "outputs": [
    {
     "name": "stdout",
     "output_type": "stream",
     "text": [
      "20 20 20\n"
     ]
    }
   ],
   "source": [
    "# Checking the lenght\n",
    "\n",
    "print(len(company_list),len(job_title),len(location_list))"
   ]
  },
  {
   "cell_type": "code",
   "execution_count": 157,
   "id": "722279e2",
   "metadata": {
    "collapsed": true
   },
   "outputs": [
    {
     "data": {
      "text/html": [
       "<div>\n",
       "<style scoped>\n",
       "    .dataframe tbody tr th:only-of-type {\n",
       "        vertical-align: middle;\n",
       "    }\n",
       "\n",
       "    .dataframe tbody tr th {\n",
       "        vertical-align: top;\n",
       "    }\n",
       "\n",
       "    .dataframe thead th {\n",
       "        text-align: right;\n",
       "    }\n",
       "</style>\n",
       "<table border=\"1\" class=\"dataframe\">\n",
       "  <thead>\n",
       "    <tr style=\"text-align: right;\">\n",
       "      <th></th>\n",
       "      <th>Company Name</th>\n",
       "      <th>Job Title</th>\n",
       "      <th>Job Location</th>\n",
       "    </tr>\n",
       "  </thead>\n",
       "  <tbody>\n",
       "    <tr>\n",
       "      <th>0</th>\n",
       "      <td>Sejal Consulting Hub</td>\n",
       "      <td>Jr. Data Analyst/ Jr. Data Scientist</td>\n",
       "      <td>Hyderabad/Secunderabad, Bangalore/Bengaluru, M...</td>\n",
       "    </tr>\n",
       "    <tr>\n",
       "      <th>1</th>\n",
       "      <td>Samya.AI A FRACTAL Entity</td>\n",
       "      <td>Lead/Senior Data Scientist (NLP)</td>\n",
       "      <td>Bangalore/Bengaluru\\n(WFH during Covid)</td>\n",
       "    </tr>\n",
       "    <tr>\n",
       "      <th>2</th>\n",
       "      <td>Tata Consultancy Services Ltd.</td>\n",
       "      <td>Tcs Hiring For Data Scientist (Python GCP)</td>\n",
       "      <td>Hyderabad/Secunderabad, Chennai, Bangalore/Ben...</td>\n",
       "    </tr>\n",
       "    <tr>\n",
       "      <th>3</th>\n",
       "      <td>Superior Group</td>\n",
       "      <td>Senior Data Scientist / Data Scientist</td>\n",
       "      <td>Bangalore/Bengaluru</td>\n",
       "    </tr>\n",
       "    <tr>\n",
       "      <th>4</th>\n",
       "      <td>Wipro</td>\n",
       "      <td>Senior Data Scientist</td>\n",
       "      <td>Pune, Bangalore/Bengaluru, Delhi / NCR</td>\n",
       "    </tr>\n",
       "    <tr>\n",
       "      <th>5</th>\n",
       "      <td>Wipro</td>\n",
       "      <td>Senior Data Scientist</td>\n",
       "      <td>Kolkata, Hyderabad/Secunderabad, Pune, Chennai...</td>\n",
       "    </tr>\n",
       "    <tr>\n",
       "      <th>6</th>\n",
       "      <td>Genpact</td>\n",
       "      <td>DG - Business Analyst - Data Scientist</td>\n",
       "      <td>Bangalore/Bengaluru</td>\n",
       "    </tr>\n",
       "    <tr>\n",
       "      <th>7</th>\n",
       "      <td>Genpact</td>\n",
       "      <td>Senior Manager - Data Scientist</td>\n",
       "      <td>Bangalore/Bengaluru</td>\n",
       "    </tr>\n",
       "    <tr>\n",
       "      <th>8</th>\n",
       "      <td>PlaceMinds Consulting Pvt. Ltd</td>\n",
       "      <td>Senior Data Scientist - Immediate Joiner Prefe...</td>\n",
       "      <td>Mumbai, Pune, Bangalore/Bengaluru</td>\n",
       "    </tr>\n",
       "    <tr>\n",
       "      <th>9</th>\n",
       "      <td>Genpact</td>\n",
       "      <td>Lead Consultant - Data Scientist</td>\n",
       "      <td>Bangalore/Bengaluru</td>\n",
       "    </tr>\n",
       "  </tbody>\n",
       "</table>\n",
       "</div>"
      ],
      "text/plain": [
       "                     Company Name  \\\n",
       "0            Sejal Consulting Hub   \n",
       "1       Samya.AI A FRACTAL Entity   \n",
       "2  Tata Consultancy Services Ltd.   \n",
       "3                  Superior Group   \n",
       "4                           Wipro   \n",
       "5                           Wipro   \n",
       "6                         Genpact   \n",
       "7                         Genpact   \n",
       "8  PlaceMinds Consulting Pvt. Ltd   \n",
       "9                         Genpact   \n",
       "\n",
       "                                           Job Title  \\\n",
       "0               Jr. Data Analyst/ Jr. Data Scientist   \n",
       "1                   Lead/Senior Data Scientist (NLP)   \n",
       "2         Tcs Hiring For Data Scientist (Python GCP)   \n",
       "3             Senior Data Scientist / Data Scientist   \n",
       "4                              Senior Data Scientist   \n",
       "5                              Senior Data Scientist   \n",
       "6             DG - Business Analyst - Data Scientist   \n",
       "7                    Senior Manager - Data Scientist   \n",
       "8  Senior Data Scientist - Immediate Joiner Prefe...   \n",
       "9                   Lead Consultant - Data Scientist   \n",
       "\n",
       "                                        Job Location  \n",
       "0  Hyderabad/Secunderabad, Bangalore/Bengaluru, M...  \n",
       "1            Bangalore/Bengaluru\\n(WFH during Covid)  \n",
       "2  Hyderabad/Secunderabad, Chennai, Bangalore/Ben...  \n",
       "3                                Bangalore/Bengaluru  \n",
       "4             Pune, Bangalore/Bengaluru, Delhi / NCR  \n",
       "5  Kolkata, Hyderabad/Secunderabad, Pune, Chennai...  \n",
       "6                                Bangalore/Bengaluru  \n",
       "7                                Bangalore/Bengaluru  \n",
       "8                  Mumbai, Pune, Bangalore/Bengaluru  \n",
       "9                                Bangalore/Bengaluru  "
      ]
     },
     "execution_count": 157,
     "metadata": {},
     "output_type": "execute_result"
    }
   ],
   "source": [
    "# Making Data Frame\n",
    "\n",
    "df = pd.DataFrame({'Company Name':company_list,'Job Title':job_title,'Job Location':location_list})\n",
    "df[0:10]"
   ]
  },
  {
   "cell_type": "markdown",
   "id": "68918e6d",
   "metadata": {},
   "source": [
    "# Q.3"
   ]
  },
  {
   "cell_type": "markdown",
   "id": "c8a0584e",
   "metadata": {},
   "source": [
    "# In this question you have to scrape data using the filters available on the webpage as shown below:"
   ]
  },
  {
   "cell_type": "markdown",
   "id": "398a035c",
   "metadata": {},
   "source": [
    "![](31.jpg)"
   ]
  },
  {
   "cell_type": "markdown",
   "id": "82f1a8ed",
   "metadata": {},
   "source": [
    " - You have to use the location and salary filter.\n",
    " - You have to scrape data for “Data Scientist” designation for first 10 job results.\n",
    " - You have to scrape the job-title, job-location, company name, experience required.\n",
    " - The location filter to be used is “Delhi/NCR” The salary filter to be used is “3-6” lakhs"
   ]
  },
  {
   "cell_type": "markdown",
   "id": "488140f5",
   "metadata": {},
   "source": [
    "#### The task will be done as shown in the below steps:\n",
    " - 1. first get the webpage https://www.naukri.com/\n",
    " - 2. Enter “Data Scientist” in “Skill, Designations, and Companies” field.\n",
    " - 3. Then click the search button.\n",
    " - 4. Then apply the location filter and salary filter by checking the respective boxes\n",
    " - 5. Then scrape the data for the first 10 jobs results you get.\n",
    " - 6. Finally create a dataframe of the scraped data."
   ]
  },
  {
   "cell_type": "code",
   "execution_count": 279,
   "id": "07d61ae5",
   "metadata": {
    "collapsed": true
   },
   "outputs": [
    {
     "name": "stderr",
     "output_type": "stream",
     "text": [
      "<ipython-input-279-542070400eeb>:4: DeprecationWarning: executable_path has been deprecated, please pass in a Service object\n",
      "  driver = webdriver.Chrome(f'E:/FlipRobo Internship/chromedriver.exe')\n"
     ]
    }
   ],
   "source": [
    "# Connecting to the web driver\n",
    "# Connecting to the web page\n",
    "\n",
    "driver = webdriver.Chrome(f'E:/FlipRobo Internship/chromedriver.exe')\n",
    "driver.get('https://www.naukri.com/')"
   ]
  },
  {
   "cell_type": "code",
   "execution_count": null,
   "id": "a885b2ed",
   "metadata": {},
   "outputs": [],
   "source": [
    "driver.maximize_window()"
   ]
  },
  {
   "cell_type": "code",
   "execution_count": null,
   "id": "b4051867",
   "metadata": {},
   "outputs": [],
   "source": [
    "#driver.close()"
   ]
  },
  {
   "cell_type": "code",
   "execution_count": 280,
   "id": "dc66b5a8",
   "metadata": {
    "collapsed": true
   },
   "outputs": [
    {
     "name": "stderr",
     "output_type": "stream",
     "text": [
      "<ipython-input-280-2331cb1747a3>:1: DeprecationWarning: find_element_by_* commands are deprecated. Please use find_element() instead\n",
      "  search_job = driver.find_element_by_id(\"qsb-keyword-sugg\")\n"
     ]
    }
   ],
   "source": [
    "# Inputting the job title \n",
    "\n",
    "search_job = driver.find_element_by_id(\"qsb-keyword-sugg\")\n",
    "search_job.send_keys(\"Data Scientist\")"
   ]
  },
  {
   "cell_type": "code",
   "execution_count": 281,
   "id": "f9ae2135",
   "metadata": {
    "collapsed": true
   },
   "outputs": [
    {
     "name": "stderr",
     "output_type": "stream",
     "text": [
      "<ipython-input-281-725e2c70ee78>:3: DeprecationWarning: find_element_by_* commands are deprecated. Please use find_element() instead\n",
      "  search_btn = driver.find_element_by_xpath(\"//div[@class='search-btn']/button\")\n"
     ]
    }
   ],
   "source": [
    "# Clicking the SEARCH button\n",
    "\n",
    "search_btn = driver.find_element_by_xpath(\"//div[@class='search-btn']/button\")\n",
    "search_btn.click()"
   ]
  },
  {
   "cell_type": "code",
   "execution_count": 282,
   "id": "b7ef440b",
   "metadata": {
    "collapsed": true
   },
   "outputs": [
    {
     "name": "stderr",
     "output_type": "stream",
     "text": [
      "<ipython-input-282-2155a54b2f75>:3: DeprecationWarning: find_element_by_* commands are deprecated. Please use find_element() instead\n",
      "  search_loc = driver.find_element_by_xpath('//*[@id=\"root\"]/div[3]/div[2]/section[1]/div[2]/div[3]/div[2]/div[3]/label/p')\n"
     ]
    }
   ],
   "source": [
    "# Clicking the job location filter\n",
    "\n",
    "search_loc = driver.find_element_by_xpath('//*[@id=\"root\"]/div[3]/div[2]/section[1]/div[2]/div[3]/div[2]/div[3]/label/p')\n",
    "search_loc.click()"
   ]
  },
  {
   "cell_type": "code",
   "execution_count": 283,
   "id": "889ca426",
   "metadata": {
    "collapsed": true
   },
   "outputs": [
    {
     "name": "stderr",
     "output_type": "stream",
     "text": [
      "<ipython-input-283-72c33e8c4330>:3: DeprecationWarning: find_element_by_* commands are deprecated. Please use find_element() instead\n",
      "  search_salary = driver.find_element_by_xpath('//*[@id=\"root\"]/div[3]/div[2]/section[1]/div[2]/div[4]/div[2]/div[2]/label/p/span[1]')\n"
     ]
    }
   ],
   "source": [
    "# Clicking the salary filter\n",
    "\n",
    "search_salary = driver.find_element_by_xpath('//*[@id=\"root\"]/div[3]/div[2]/section[1]/div[2]/div[4]/div[2]/div[2]/label/p/span[1]')\n",
    "search_salary.click()"
   ]
  },
  {
   "cell_type": "code",
   "execution_count": 284,
   "id": "df740911",
   "metadata": {},
   "outputs": [],
   "source": [
    "# Craeting emptylists\n",
    "\n",
    "job_title=[]\n",
    "location_list=[]\n",
    "company_list=[]\n",
    "experience_required=[]"
   ]
  },
  {
   "cell_type": "code",
   "execution_count": 291,
   "id": "06a8c1c8",
   "metadata": {
    "collapsed": true
   },
   "outputs": [
    {
     "name": "stderr",
     "output_type": "stream",
     "text": [
      "<ipython-input-291-a50d45019ac1>:1: DeprecationWarning: find_elements_by_* commands are deprecated. Please use find_elements() instead\n",
      "  title_tags= driver.find_elements_by_xpath(\"//a[@class='title fw500 ellipsis']\")\n"
     ]
    },
    {
     "data": {
      "text/plain": [
       "[<selenium.webdriver.remote.webelement.WebElement (session=\"5d78373feb7af3582fd24bd4deba14aa\", element=\"ddf883c2-e804-4ee3-a527-f101b5042c40\")>,\n",
       " <selenium.webdriver.remote.webelement.WebElement (session=\"5d78373feb7af3582fd24bd4deba14aa\", element=\"b11bb10a-edcc-456c-886a-9141fc9e2c5f\")>,\n",
       " <selenium.webdriver.remote.webelement.WebElement (session=\"5d78373feb7af3582fd24bd4deba14aa\", element=\"79e76888-5c3d-4c51-be5e-3caf5497ea7d\")>,\n",
       " <selenium.webdriver.remote.webelement.WebElement (session=\"5d78373feb7af3582fd24bd4deba14aa\", element=\"b8783307-e9c0-4883-86fd-a8252d602249\")>,\n",
       " <selenium.webdriver.remote.webelement.WebElement (session=\"5d78373feb7af3582fd24bd4deba14aa\", element=\"be33f2fa-9cf9-4e2e-8c1e-6e1cd7cf5cec\")>,\n",
       " <selenium.webdriver.remote.webelement.WebElement (session=\"5d78373feb7af3582fd24bd4deba14aa\", element=\"3a2773df-2a45-496f-a5c3-306be4ba43af\")>,\n",
       " <selenium.webdriver.remote.webelement.WebElement (session=\"5d78373feb7af3582fd24bd4deba14aa\", element=\"dc5c590e-089f-4de7-b144-5630bedd14ed\")>,\n",
       " <selenium.webdriver.remote.webelement.WebElement (session=\"5d78373feb7af3582fd24bd4deba14aa\", element=\"a47a6444-8e4c-49dc-94e0-b68d3efa7031\")>,\n",
       " <selenium.webdriver.remote.webelement.WebElement (session=\"5d78373feb7af3582fd24bd4deba14aa\", element=\"a77d0100-97d3-476d-be50-b7f916c0e1ae\")>,\n",
       " <selenium.webdriver.remote.webelement.WebElement (session=\"5d78373feb7af3582fd24bd4deba14aa\", element=\"0b262c12-5ba7-4e7d-b77e-a7c05b1a7bfd\")>]"
      ]
     },
     "execution_count": 291,
     "metadata": {},
     "output_type": "execute_result"
    }
   ],
   "source": [
    "# Finding title tags upto 10 \n",
    "\n",
    "title_tags= driver.find_elements_by_xpath(\"//a[@class='title fw500 ellipsis']\")\n",
    "title_tags[0:10]"
   ]
  },
  {
   "cell_type": "code",
   "execution_count": 292,
   "id": "a159c978",
   "metadata": {
    "collapsed": true
   },
   "outputs": [
    {
     "data": {
      "text/plain": [
       "['Hiring For Data Scientist',\n",
       " 'Project Manager | Team Leader | Senior Data Scientist',\n",
       " 'Data Scientist',\n",
       " 'Data Scientist/ Senior Data Scientist',\n",
       " 'NTT DATA_ Hiring For BIG DATA ,DATA Scientist, Devops',\n",
       " 'Hiring For Data Analyst / Data Scientist',\n",
       " 'Data Analyst / Data Scientist / Business Analytics / Fresher - MNC',\n",
       " 'Data Scientist',\n",
       " 'Data Scientist',\n",
       " 'Data Scientist']"
      ]
     },
     "execution_count": 292,
     "metadata": {},
     "output_type": "execute_result"
    }
   ],
   "source": [
    "# Findling all job titles using loop\n",
    "\n",
    "for i in title_tags:\n",
    "    a=i.text\n",
    "    job_title.append(a)\n",
    "job_title[0:10]"
   ]
  },
  {
   "cell_type": "code",
   "execution_count": 297,
   "id": "5f12dd61",
   "metadata": {
    "collapsed": true
   },
   "outputs": [
    {
     "name": "stderr",
     "output_type": "stream",
     "text": [
      "<ipython-input-297-b4f1f2827b54>:1: DeprecationWarning: find_elements_by_* commands are deprecated. Please use find_elements() instead\n",
      "  loc_tags = driver.find_elements_by_xpath(\"//li[@class='fleft grey-text br2 placeHolderLi location']\")\n"
     ]
    },
    {
     "data": {
      "text/plain": [
       "[<selenium.webdriver.remote.webelement.WebElement (session=\"5d78373feb7af3582fd24bd4deba14aa\", element=\"978ece88-1cb3-4ce5-a368-c936e1d0c234\")>,\n",
       " <selenium.webdriver.remote.webelement.WebElement (session=\"5d78373feb7af3582fd24bd4deba14aa\", element=\"59cfad7c-aea8-40c8-b5e2-d9a192c2ed89\")>,\n",
       " <selenium.webdriver.remote.webelement.WebElement (session=\"5d78373feb7af3582fd24bd4deba14aa\", element=\"886fe82a-ca4f-4872-bed6-ed9b0dd7d438\")>,\n",
       " <selenium.webdriver.remote.webelement.WebElement (session=\"5d78373feb7af3582fd24bd4deba14aa\", element=\"66af07bd-ea2e-4635-a3e1-550c48cdb90e\")>,\n",
       " <selenium.webdriver.remote.webelement.WebElement (session=\"5d78373feb7af3582fd24bd4deba14aa\", element=\"9bdffb33-4ee0-4598-9138-f47ebca88073\")>,\n",
       " <selenium.webdriver.remote.webelement.WebElement (session=\"5d78373feb7af3582fd24bd4deba14aa\", element=\"91f5bed6-b390-4cdb-b564-9d4d6e263fb0\")>,\n",
       " <selenium.webdriver.remote.webelement.WebElement (session=\"5d78373feb7af3582fd24bd4deba14aa\", element=\"4bfc11a3-2b6c-4df5-be34-649241bb96f5\")>,\n",
       " <selenium.webdriver.remote.webelement.WebElement (session=\"5d78373feb7af3582fd24bd4deba14aa\", element=\"953de029-ef3b-490d-b649-75b8c97299d0\")>,\n",
       " <selenium.webdriver.remote.webelement.WebElement (session=\"5d78373feb7af3582fd24bd4deba14aa\", element=\"affa217f-19a7-41c4-832e-274c3ba1dadb\")>,\n",
       " <selenium.webdriver.remote.webelement.WebElement (session=\"5d78373feb7af3582fd24bd4deba14aa\", element=\"a4b27775-8208-43bb-bca0-15d0e22c8570\")>]"
      ]
     },
     "execution_count": 297,
     "metadata": {},
     "output_type": "execute_result"
    }
   ],
   "source": [
    "# Finding the location tags\n",
    "\n",
    "loc_tags = driver.find_elements_by_xpath(\"//li[@class='fleft grey-text br2 placeHolderLi location']\")\n",
    "loc_tags[0:10]"
   ]
  },
  {
   "cell_type": "code",
   "execution_count": 298,
   "id": "bb5d5fd3",
   "metadata": {
    "collapsed": true
   },
   "outputs": [
    {
     "data": {
      "text/plain": [
       "['Hyderabad/Secunderabad, Pune, Chennai, Bangalore/Bengaluru, Delhi / NCR, Mumbai (All Areas)\\n(WFH during Covid)',\n",
       " 'Remote',\n",
       " 'Gurgaon/Gurugram, Chennai',\n",
       " 'Noida',\n",
       " 'Noida, Kolkata, Hyderabad/Secunderabad, Ahmedabad, Chennai, Coimbatore, Bangalore/Bengaluru, Delhi / NCR, Mumbai (All Areas)\\n(WFH during Covid)',\n",
       " 'Noida(Sector-59 Noida)',\n",
       " 'Noida, Ghaziabad, Delhi / NCR',\n",
       " 'New Delhi',\n",
       " 'Gurgaon/Gurugram',\n",
       " 'Mumbai, Hyderabad/Secunderabad, Pune, Lucknow, Chennai, Delhi / NCR, Kerela, Goa']"
      ]
     },
     "execution_count": 298,
     "metadata": {},
     "output_type": "execute_result"
    }
   ],
   "source": [
    "# Finding all location names using loop\n",
    "\n",
    "for i in loc_tags:\n",
    "    a=i.text\n",
    "    location_list.append(a)\n",
    "location_list[0:10]"
   ]
  },
  {
   "cell_type": "code",
   "execution_count": 299,
   "id": "fc9e7b5b",
   "metadata": {
    "collapsed": true
   },
   "outputs": [
    {
     "name": "stderr",
     "output_type": "stream",
     "text": [
      "<ipython-input-299-858b4ae14d4a>:1: DeprecationWarning: find_elements_by_* commands are deprecated. Please use find_elements() instead\n",
      "  company_tags = driver.find_elements_by_xpath(\"//a[@class='subTitle ellipsis fleft']\")\n"
     ]
    },
    {
     "data": {
      "text/plain": [
       "[<selenium.webdriver.remote.webelement.WebElement (session=\"5d78373feb7af3582fd24bd4deba14aa\", element=\"07881c26-0f97-4fdd-b8c5-fcdc03f094b6\")>,\n",
       " <selenium.webdriver.remote.webelement.WebElement (session=\"5d78373feb7af3582fd24bd4deba14aa\", element=\"8b8001df-505b-41a4-ac99-e1c817a4282c\")>,\n",
       " <selenium.webdriver.remote.webelement.WebElement (session=\"5d78373feb7af3582fd24bd4deba14aa\", element=\"3bc478d4-f9aa-450e-ae9f-3e6b41f7e749\")>,\n",
       " <selenium.webdriver.remote.webelement.WebElement (session=\"5d78373feb7af3582fd24bd4deba14aa\", element=\"01b8c282-7fb6-493d-b210-54fb849afe83\")>,\n",
       " <selenium.webdriver.remote.webelement.WebElement (session=\"5d78373feb7af3582fd24bd4deba14aa\", element=\"04981b3e-6aa2-4944-9faa-4d6323bd521b\")>,\n",
       " <selenium.webdriver.remote.webelement.WebElement (session=\"5d78373feb7af3582fd24bd4deba14aa\", element=\"cebaf4fc-bb9f-4b71-ad2d-5ab28df19fe7\")>,\n",
       " <selenium.webdriver.remote.webelement.WebElement (session=\"5d78373feb7af3582fd24bd4deba14aa\", element=\"51f95d94-016f-47af-81b5-d7ef231423a3\")>,\n",
       " <selenium.webdriver.remote.webelement.WebElement (session=\"5d78373feb7af3582fd24bd4deba14aa\", element=\"bb14f4dc-17f5-438e-9166-7c00902350c6\")>,\n",
       " <selenium.webdriver.remote.webelement.WebElement (session=\"5d78373feb7af3582fd24bd4deba14aa\", element=\"21023934-7bb0-4177-a656-99242bfd2477\")>,\n",
       " <selenium.webdriver.remote.webelement.WebElement (session=\"5d78373feb7af3582fd24bd4deba14aa\", element=\"310e1ce2-e52a-4ef2-9a3f-05e66561a5b7\")>]"
      ]
     },
     "execution_count": 299,
     "metadata": {},
     "output_type": "execute_result"
    }
   ],
   "source": [
    "# Finding the company tags\n",
    "\n",
    "company_tags = driver.find_elements_by_xpath(\"//a[@class='subTitle ellipsis fleft']\")\n",
    "company_tags[0:10]"
   ]
  },
  {
   "cell_type": "code",
   "execution_count": 300,
   "id": "d25883b8",
   "metadata": {
    "collapsed": true
   },
   "outputs": [
    {
     "data": {
      "text/plain": [
       "['Tata Consultancy Services Ltd.',\n",
       " 'Tidyquant (OPC) Private Limited',\n",
       " 'Teleperformance',\n",
       " 'Newgen Software Technologies',\n",
       " 'NTT Data Business Solutions Pvt Ltd',\n",
       " 'Careerera',\n",
       " 'GABA Consultancy services',\n",
       " 'The Boston Consulting Group (India) Pvt Limited',\n",
       " 'ApplyBoard',\n",
       " 'AVE-Promagne']"
      ]
     },
     "execution_count": 300,
     "metadata": {},
     "output_type": "execute_result"
    }
   ],
   "source": [
    "# Finding all the company names using loop\n",
    "\n",
    "for i in company_tags:\n",
    "    a=i.text\n",
    "    company_list.append(a)\n",
    "company_list[0:10]"
   ]
  },
  {
   "cell_type": "code",
   "execution_count": 307,
   "id": "6da03e56",
   "metadata": {
    "collapsed": true
   },
   "outputs": [
    {
     "name": "stderr",
     "output_type": "stream",
     "text": [
      "<ipython-input-307-31ca1baa1fa3>:1: DeprecationWarning: find_elements_by_* commands are deprecated. Please use find_elements() instead\n",
      "  experience_tags = driver.find_elements_by_xpath(\"//li[@class='fleft grey-text br2 placeHolderLi experience']\")\n"
     ]
    },
    {
     "data": {
      "text/plain": [
       "[<selenium.webdriver.remote.webelement.WebElement (session=\"5d78373feb7af3582fd24bd4deba14aa\", element=\"ca6f82a4-6a09-4ba2-b8c3-6920fd31458a\")>,\n",
       " <selenium.webdriver.remote.webelement.WebElement (session=\"5d78373feb7af3582fd24bd4deba14aa\", element=\"5e3dd4a4-b9f8-4a71-874a-b4479ff69bbf\")>,\n",
       " <selenium.webdriver.remote.webelement.WebElement (session=\"5d78373feb7af3582fd24bd4deba14aa\", element=\"73e56fc6-5517-4ca9-a586-46ca404f7d79\")>,\n",
       " <selenium.webdriver.remote.webelement.WebElement (session=\"5d78373feb7af3582fd24bd4deba14aa\", element=\"5137bc6e-9b2b-4255-8961-34c01efaf1d9\")>,\n",
       " <selenium.webdriver.remote.webelement.WebElement (session=\"5d78373feb7af3582fd24bd4deba14aa\", element=\"7ac39782-1306-4b8f-a66c-2053c8e183e1\")>,\n",
       " <selenium.webdriver.remote.webelement.WebElement (session=\"5d78373feb7af3582fd24bd4deba14aa\", element=\"8b490738-ee92-4249-baf4-8e34e6836ea4\")>,\n",
       " <selenium.webdriver.remote.webelement.WebElement (session=\"5d78373feb7af3582fd24bd4deba14aa\", element=\"fa8ac73b-77c4-49a0-b081-fd487706a506\")>,\n",
       " <selenium.webdriver.remote.webelement.WebElement (session=\"5d78373feb7af3582fd24bd4deba14aa\", element=\"a0dd7f3b-2cf6-47e7-bd83-8dbf06bfe369\")>,\n",
       " <selenium.webdriver.remote.webelement.WebElement (session=\"5d78373feb7af3582fd24bd4deba14aa\", element=\"681d1bda-9072-463e-938f-7b44f7847f00\")>,\n",
       " <selenium.webdriver.remote.webelement.WebElement (session=\"5d78373feb7af3582fd24bd4deba14aa\", element=\"fb822e0e-8489-48b1-93a9-989af53ea229\")>]"
      ]
     },
     "execution_count": 307,
     "metadata": {},
     "output_type": "execute_result"
    }
   ],
   "source": [
    "# Finding th experience tags\n",
    "\n",
    "experience_tags = driver.find_elements_by_xpath(\"//li[@class='fleft grey-text br2 placeHolderLi experience']\")\n",
    "experience_tags[0:10]"
   ]
  },
  {
   "cell_type": "code",
   "execution_count": 309,
   "id": "fb4e93cf",
   "metadata": {
    "collapsed": true
   },
   "outputs": [
    {
     "data": {
      "text/plain": [
       "['4-9 Yrs',\n",
       " '1-5 Yrs',\n",
       " '4-9 Yrs',\n",
       " '2-5 Yrs',\n",
       " '3-8 Yrs',\n",
       " '1-3 Yrs',\n",
       " '0-0 Yrs',\n",
       " '2-5 Yrs',\n",
       " '3-7 Yrs',\n",
       " '1-6 Yrs']"
      ]
     },
     "execution_count": 309,
     "metadata": {},
     "output_type": "execute_result"
    }
   ],
   "source": [
    "# Finding all experience requirments using loop\n",
    "\n",
    "for i in experience_tags:\n",
    "    a=i.text\n",
    "    experience_required.append(a)\n",
    "experience_required[0:10]"
   ]
  },
  {
   "cell_type": "code",
   "execution_count": 314,
   "id": "6432d56f",
   "metadata": {
    "collapsed": true
   },
   "outputs": [
    {
     "name": "stdout",
     "output_type": "stream",
     "text": [
      "20 20 20 20\n"
     ]
    }
   ],
   "source": [
    "# Checking length\n",
    "\n",
    "print(len(job_title),len(location_list),len(company_list),len(experience_required))"
   ]
  },
  {
   "cell_type": "code",
   "execution_count": 315,
   "id": "fdd3e4a2",
   "metadata": {
    "collapsed": true
   },
   "outputs": [
    {
     "data": {
      "text/html": [
       "<div>\n",
       "<style scoped>\n",
       "    .dataframe tbody tr th:only-of-type {\n",
       "        vertical-align: middle;\n",
       "    }\n",
       "\n",
       "    .dataframe tbody tr th {\n",
       "        vertical-align: top;\n",
       "    }\n",
       "\n",
       "    .dataframe thead th {\n",
       "        text-align: right;\n",
       "    }\n",
       "</style>\n",
       "<table border=\"1\" class=\"dataframe\">\n",
       "  <thead>\n",
       "    <tr style=\"text-align: right;\">\n",
       "      <th></th>\n",
       "      <th>Company Name</th>\n",
       "      <th>Job Titles</th>\n",
       "      <th>Experience Required</th>\n",
       "      <th>Location</th>\n",
       "    </tr>\n",
       "  </thead>\n",
       "  <tbody>\n",
       "    <tr>\n",
       "      <th>0</th>\n",
       "      <td>Tata Consultancy Services Ltd.</td>\n",
       "      <td>Hiring For Data Scientist</td>\n",
       "      <td>4-9 Yrs</td>\n",
       "      <td>Hyderabad/Secunderabad, Pune, Chennai, Bangalo...</td>\n",
       "    </tr>\n",
       "    <tr>\n",
       "      <th>1</th>\n",
       "      <td>Tidyquant (OPC) Private Limited</td>\n",
       "      <td>Project Manager | Team Leader | Senior Data Sc...</td>\n",
       "      <td>1-5 Yrs</td>\n",
       "      <td>Remote</td>\n",
       "    </tr>\n",
       "    <tr>\n",
       "      <th>2</th>\n",
       "      <td>Teleperformance</td>\n",
       "      <td>Data Scientist</td>\n",
       "      <td>4-9 Yrs</td>\n",
       "      <td>Gurgaon/Gurugram, Chennai</td>\n",
       "    </tr>\n",
       "    <tr>\n",
       "      <th>3</th>\n",
       "      <td>Newgen Software Technologies</td>\n",
       "      <td>Data Scientist/ Senior Data Scientist</td>\n",
       "      <td>2-5 Yrs</td>\n",
       "      <td>Noida</td>\n",
       "    </tr>\n",
       "    <tr>\n",
       "      <th>4</th>\n",
       "      <td>NTT Data Business Solutions Pvt Ltd</td>\n",
       "      <td>NTT DATA_ Hiring For BIG DATA ,DATA Scientist,...</td>\n",
       "      <td>3-8 Yrs</td>\n",
       "      <td>Noida, Kolkata, Hyderabad/Secunderabad, Ahmeda...</td>\n",
       "    </tr>\n",
       "    <tr>\n",
       "      <th>5</th>\n",
       "      <td>Careerera</td>\n",
       "      <td>Hiring For Data Analyst / Data Scientist</td>\n",
       "      <td>1-3 Yrs</td>\n",
       "      <td>Noida(Sector-59 Noida)</td>\n",
       "    </tr>\n",
       "    <tr>\n",
       "      <th>6</th>\n",
       "      <td>GABA Consultancy services</td>\n",
       "      <td>Data Analyst / Data Scientist / Business Analy...</td>\n",
       "      <td>0-0 Yrs</td>\n",
       "      <td>Noida, Ghaziabad, Delhi / NCR</td>\n",
       "    </tr>\n",
       "    <tr>\n",
       "      <th>7</th>\n",
       "      <td>The Boston Consulting Group (India) Pvt Limited</td>\n",
       "      <td>Data Scientist</td>\n",
       "      <td>2-5 Yrs</td>\n",
       "      <td>New Delhi</td>\n",
       "    </tr>\n",
       "    <tr>\n",
       "      <th>8</th>\n",
       "      <td>ApplyBoard</td>\n",
       "      <td>Data Scientist</td>\n",
       "      <td>3-7 Yrs</td>\n",
       "      <td>Gurgaon/Gurugram</td>\n",
       "    </tr>\n",
       "    <tr>\n",
       "      <th>9</th>\n",
       "      <td>AVE-Promagne</td>\n",
       "      <td>Data Scientist</td>\n",
       "      <td>1-6 Yrs</td>\n",
       "      <td>Mumbai, Hyderabad/Secunderabad, Pune, Lucknow,...</td>\n",
       "    </tr>\n",
       "  </tbody>\n",
       "</table>\n",
       "</div>"
      ],
      "text/plain": [
       "                                      Company Name  \\\n",
       "0                   Tata Consultancy Services Ltd.   \n",
       "1                  Tidyquant (OPC) Private Limited   \n",
       "2                                  Teleperformance   \n",
       "3                     Newgen Software Technologies   \n",
       "4              NTT Data Business Solutions Pvt Ltd   \n",
       "5                                        Careerera   \n",
       "6                        GABA Consultancy services   \n",
       "7  The Boston Consulting Group (India) Pvt Limited   \n",
       "8                                       ApplyBoard   \n",
       "9                                     AVE-Promagne   \n",
       "\n",
       "                                          Job Titles Experience Required  \\\n",
       "0                          Hiring For Data Scientist             4-9 Yrs   \n",
       "1  Project Manager | Team Leader | Senior Data Sc...             1-5 Yrs   \n",
       "2                                     Data Scientist             4-9 Yrs   \n",
       "3              Data Scientist/ Senior Data Scientist             2-5 Yrs   \n",
       "4  NTT DATA_ Hiring For BIG DATA ,DATA Scientist,...             3-8 Yrs   \n",
       "5           Hiring For Data Analyst / Data Scientist             1-3 Yrs   \n",
       "6  Data Analyst / Data Scientist / Business Analy...             0-0 Yrs   \n",
       "7                                     Data Scientist             2-5 Yrs   \n",
       "8                                     Data Scientist             3-7 Yrs   \n",
       "9                                     Data Scientist             1-6 Yrs   \n",
       "\n",
       "                                            Location  \n",
       "0  Hyderabad/Secunderabad, Pune, Chennai, Bangalo...  \n",
       "1                                             Remote  \n",
       "2                          Gurgaon/Gurugram, Chennai  \n",
       "3                                              Noida  \n",
       "4  Noida, Kolkata, Hyderabad/Secunderabad, Ahmeda...  \n",
       "5                             Noida(Sector-59 Noida)  \n",
       "6                      Noida, Ghaziabad, Delhi / NCR  \n",
       "7                                          New Delhi  \n",
       "8                                   Gurgaon/Gurugram  \n",
       "9  Mumbai, Hyderabad/Secunderabad, Pune, Lucknow,...  "
      ]
     },
     "execution_count": 315,
     "metadata": {},
     "output_type": "execute_result"
    }
   ],
   "source": [
    "# creating DataFrame\n",
    "\n",
    "df = pd.DataFrame({'Company Name':company_list,'Job Titles':job_title,'Experience Required':experience_required,'Location':location_list})\n",
    "df[0:10]"
   ]
  },
  {
   "cell_type": "markdown",
   "id": "7bb524e1",
   "metadata": {},
   "source": [
    "# Q.4"
   ]
  },
  {
   "cell_type": "markdown",
   "id": "f64c5619",
   "metadata": {},
   "source": [
    "Scrape data of first 100 sunglasses listings on flipkart.com. You have to scrape four attributes:\n",
    "\n",
    " - 1.Brand\n",
    " - 2.Product Description\n",
    " - 3.Price The attributes which you have to scrape is ticked marked in the below image.\n",
    "\n",
    "**To scrape the data you have to go through following steps:**\n",
    "\n",
    " - 1.Go to Flipkart webpage by url : https://www.flipkart.com/\n",
    " - 2.Enter “sunglasses” in the search field where “search for products, brands and more” is written and click the search icon\n",
    " - 3.After that you will reach to the page having a lot of sunglasses. From this page you can scrap the required data as usual. ASSIGNMENT 2\n",
    " - 4.After scraping data from the first page, go to the “Next” Button at the bottom of the page , then click on it.\n",
    " - 5.Now scrape data from this page as usual\n",
    " - 6.Repeat this until you get data for 100 sunglasses"
   ]
  },
  {
   "cell_type": "code",
   "execution_count": 199,
   "id": "1f7fe12a",
   "metadata": {},
   "outputs": [],
   "source": [
    "driver = webdriver.Chrome(f'E:/FlipRobo Internship/chromedriver.exe')\n",
    "driver.get('https://www.flipkart.com/')\n",
    "time.sleep(2)\n",
    "\n",
    "# clicking description button\n",
    "desc_button = driver.find_element_by_xpath(\"/html/body/div[2]/div/div/button\").click()\n",
    "time.sleep(1)\n",
    "\n",
    "# entering product name\n",
    "search_sunglasses = driver.find_element_by_xpath(\"//input[@class='_3704LK']\")\n",
    "search_sunglasses.send_keys('sunglasses')\n",
    "\n",
    "#clicking search button\n",
    "search_btn = driver.find_element_by_xpath(\"//button[@class='L0Z3Pu']\").click()"
   ]
  },
  {
   "cell_type": "code",
   "execution_count": 200,
   "id": "f33a6a8b",
   "metadata": {},
   "outputs": [],
   "source": [
    "# creating empty list\n",
    "\n",
    "brand_name = []\n",
    "product_discription = []\n",
    "price = []"
   ]
  },
  {
   "cell_type": "code",
   "execution_count": 201,
   "id": "9345ac52",
   "metadata": {},
   "outputs": [],
   "source": [
    "# next page links\n",
    "\n",
    "search=[]\n",
    "search1=driver.find_elements_by_xpath(\"//a[@class='ge-49M _2Kfbh8']\")\n",
    "search2=driver.find_elements_by_xpath(\"//a[@class='ge-49M']\")\n",
    "for i in search1:\n",
    "    search.append(i.get_attribute('href'))\n",
    "for i in search2:\n",
    "    search.append(i.get_attribute('href'))\n",
    "x = search[0:3]"
   ]
  },
  {
   "cell_type": "code",
   "execution_count": 202,
   "id": "40db2a54",
   "metadata": {},
   "outputs": [
    {
     "name": "stdout",
     "output_type": "stream",
     "text": [
      "120 120 120\n"
     ]
    }
   ],
   "source": [
    "# Using the nested loop for iterate data from each page\n",
    "\n",
    "for page in x:\n",
    "    driver.get(page)\n",
    "\n",
    "    brands_tags = driver.find_elements_by_xpath(\"//div[@class='_2WkVRV']\")\n",
    "    for i in brands_tags:\n",
    "        a=i.text\n",
    "        brand_name.append(a)\n",
    "\n",
    "    desc_tags = driver.find_elements_by_xpath(\"//a[@class='IRpwTa']\")\n",
    "    for i in desc_tags:\n",
    "        b=i.text\n",
    "        product_discription.append(b)\n",
    "\n",
    "    price_tags = driver.find_elements_by_xpath(\"//div[@class='_30jeq3']\")\n",
    "    for i in price_tags:\n",
    "        c=i.text\n",
    "        price.append(c)\n",
    "    search=driver.find_element_by_xpath(\"/html/body/div[1]/div/div[3]/div[1]/div[2]/div[12]/div/div/nav\")\n",
    "    search.click()\n",
    "            \n",
    "print(len(brand_name),len(product_discription),len(price))"
   ]
  },
  {
   "cell_type": "code",
   "execution_count": 204,
   "id": "52d3340d",
   "metadata": {
    "collapsed": true
   },
   "outputs": [
    {
     "data": {
      "text/html": [
       "<div>\n",
       "<style scoped>\n",
       "    .dataframe tbody tr th:only-of-type {\n",
       "        vertical-align: middle;\n",
       "    }\n",
       "\n",
       "    .dataframe tbody tr th {\n",
       "        vertical-align: top;\n",
       "    }\n",
       "\n",
       "    .dataframe thead th {\n",
       "        text-align: right;\n",
       "    }\n",
       "</style>\n",
       "<table border=\"1\" class=\"dataframe\">\n",
       "  <thead>\n",
       "    <tr style=\"text-align: right;\">\n",
       "      <th></th>\n",
       "      <th>Brand</th>\n",
       "      <th>Description</th>\n",
       "      <th>Price</th>\n",
       "    </tr>\n",
       "  </thead>\n",
       "  <tbody>\n",
       "    <tr>\n",
       "      <th>0</th>\n",
       "      <td>PIRASO</td>\n",
       "      <td>UV Protection Retro Square Sunglasses (Free Size)</td>\n",
       "      <td>₹329</td>\n",
       "    </tr>\n",
       "    <tr>\n",
       "      <th>1</th>\n",
       "      <td>PIRASO</td>\n",
       "      <td>UV Protection Rectangular Sunglasses (Free Size)</td>\n",
       "      <td>₹279</td>\n",
       "    </tr>\n",
       "    <tr>\n",
       "      <th>2</th>\n",
       "      <td>SRPM</td>\n",
       "      <td>UV Protection Wayfarer Sunglasses (56)</td>\n",
       "      <td>₹188</td>\n",
       "    </tr>\n",
       "    <tr>\n",
       "      <th>3</th>\n",
       "      <td>Elligator</td>\n",
       "      <td>UV Protection Round Sunglasses (54)</td>\n",
       "      <td>₹248</td>\n",
       "    </tr>\n",
       "    <tr>\n",
       "      <th>4</th>\n",
       "      <td>New Specs</td>\n",
       "      <td>UV Protection Rectangular Sunglasses (Free Size)</td>\n",
       "      <td>₹259</td>\n",
       "    </tr>\n",
       "    <tr>\n",
       "      <th>...</th>\n",
       "      <td>...</td>\n",
       "      <td>...</td>\n",
       "      <td>...</td>\n",
       "    </tr>\n",
       "    <tr>\n",
       "      <th>95</th>\n",
       "      <td>PIRASO</td>\n",
       "      <td>UV Protection Aviator Sunglasses (54)</td>\n",
       "      <td>₹187</td>\n",
       "    </tr>\n",
       "    <tr>\n",
       "      <th>96</th>\n",
       "      <td>Badfella</td>\n",
       "      <td>Polarized, UV Protection Retro Square Sunglass...</td>\n",
       "      <td>₹207</td>\n",
       "    </tr>\n",
       "    <tr>\n",
       "      <th>97</th>\n",
       "      <td>Poloport</td>\n",
       "      <td>UV Protection Wayfarer Sunglasses (Free Size)</td>\n",
       "      <td>₹224</td>\n",
       "    </tr>\n",
       "    <tr>\n",
       "      <th>98</th>\n",
       "      <td>Singco</td>\n",
       "      <td>UV Protection Aviator Sunglasses (Free Size)</td>\n",
       "      <td>₹498</td>\n",
       "    </tr>\n",
       "    <tr>\n",
       "      <th>99</th>\n",
       "      <td>PIRASO</td>\n",
       "      <td>UV Protection Rectangular Sunglasses (Free Size)</td>\n",
       "      <td>₹279</td>\n",
       "    </tr>\n",
       "  </tbody>\n",
       "</table>\n",
       "<p>100 rows × 3 columns</p>\n",
       "</div>"
      ],
      "text/plain": [
       "        Brand                                        Description Price\n",
       "0      PIRASO  UV Protection Retro Square Sunglasses (Free Size)  ₹329\n",
       "1      PIRASO   UV Protection Rectangular Sunglasses (Free Size)  ₹279\n",
       "2        SRPM             UV Protection Wayfarer Sunglasses (56)  ₹188\n",
       "3   Elligator                UV Protection Round Sunglasses (54)  ₹248\n",
       "4   New Specs   UV Protection Rectangular Sunglasses (Free Size)  ₹259\n",
       "..        ...                                                ...   ...\n",
       "95     PIRASO              UV Protection Aviator Sunglasses (54)  ₹187\n",
       "96   Badfella  Polarized, UV Protection Retro Square Sunglass...  ₹207\n",
       "97   Poloport      UV Protection Wayfarer Sunglasses (Free Size)  ₹224\n",
       "98     Singco       UV Protection Aviator Sunglasses (Free Size)  ₹498\n",
       "99     PIRASO   UV Protection Rectangular Sunglasses (Free Size)  ₹279\n",
       "\n",
       "[100 rows x 3 columns]"
      ]
     },
     "execution_count": 204,
     "metadata": {},
     "output_type": "execute_result"
    }
   ],
   "source": [
    "# creating DataFrame\n",
    "\n",
    "\n",
    "df  = pd.DataFrame({'Brand':brand_name,'Description':product_discription,'Price':price})\n",
    "df[0:100]"
   ]
  },
  {
   "cell_type": "markdown",
   "id": "5763d611",
   "metadata": {},
   "source": [
    "# Q.5"
   ]
  },
  {
   "cell_type": "markdown",
   "id": "378a60bb",
   "metadata": {},
   "source": [
    "Scrape 100 reviews data from flipkart.com for iphone11 phone. You have to go the link: https://www.flipkart.com/apple-iphone-11-black-64-gb-includes- earpods-poweradapter/ p/itm0f37c2240b217?pid=MOBFKCTSVZAXUHGR&lid=LSTMOBFKC TSVZAXUHGREPBFGI&marketplace. As shown in the above page you have to scrape the tick marked attributes. These are:\n",
    "\n",
    " - 1.Rating\n",
    " - 2.Review_summary\n",
    " - 3.Full review\n",
    " - 4.You have to scrape this data for first 100 reviews. Note: All the steps required during scraping should be done through code only and not manually."
   ]
  },
  {
   "cell_type": "code",
   "execution_count": 214,
   "id": "92e5f0a6",
   "metadata": {},
   "outputs": [],
   "source": [
    "driver = webdriver.Chrome(f'E:/FlipRobo Internship/chromedriver.exe')\n",
    "driver.get('https://www.flipkart.com/apple-iphone-11-black-64-gb-includes-earpods-power-adapter/product-reviews/itm0f37c2240b217?pid=MOBFKCTSVZAXUHGR&lid=LSTMOBFKCTSVZAXUHGREPBFGI&marketplace=FLIPKART')"
   ]
  },
  {
   "cell_type": "code",
   "execution_count": 215,
   "id": "cf75bc9c",
   "metadata": {},
   "outputs": [],
   "source": [
    "# creating empty list\n",
    "\n",
    "ratings = []\n",
    "partioal_review = []\n",
    "Full_review = []\n",
    "next_btn = []"
   ]
  },
  {
   "cell_type": "code",
   "execution_count": 216,
   "id": "889b0681",
   "metadata": {},
   "outputs": [
    {
     "name": "stdout",
     "output_type": "stream",
     "text": [
      "100 100 100\n"
     ]
    }
   ],
   "source": [
    "# next page links\n",
    "\n",
    "page1_link = driver.find_elements_by_xpath(\"//a[@class='ge-49M _2Kfbh8']\")\n",
    "pages_link = driver.find_elements_by_xpath(\"//a[@class='ge-49M']\")\n",
    "\n",
    "for i in page1_link:\n",
    "    next_btn.append(i.get_attribute('href'))\n",
    "for i in pages_link:\n",
    "    next_btn.append(i.get_attribute('href'))\n",
    "    \n",
    "for page in next_btn[0:10]:\n",
    "    driver.get(page)\n",
    "\n",
    "    rating_tags = driver.find_elements_by_xpath(\"//div[@class='col _2wzgFH K0kLPL']/div[1]/div[1]\")\n",
    "    for i in rating_tags:\n",
    "        a=i.text\n",
    "        ratings.append(a)\n",
    "\n",
    "    review_summary = driver.find_elements_by_xpath(\"//p[@class='_2-N8zT']\")\n",
    "    for i in review_summary:\n",
    "        a=i.text\n",
    "        partioal_review.append(a)\n",
    "\n",
    "    full_review = driver.find_elements_by_xpath(\"//div[@class='t-ZTKy']\")\n",
    "    for i in full_review:\n",
    "        a=i.text\n",
    "        Full_review.append(a)\n",
    "        \n",
    "print(len(ratings),len(partioal_review),len(Full_review))"
   ]
  },
  {
   "cell_type": "code",
   "execution_count": 217,
   "id": "7b743a6b",
   "metadata": {
    "collapsed": true
   },
   "outputs": [
    {
     "data": {
      "text/html": [
       "<div>\n",
       "<style scoped>\n",
       "    .dataframe tbody tr th:only-of-type {\n",
       "        vertical-align: middle;\n",
       "    }\n",
       "\n",
       "    .dataframe tbody tr th {\n",
       "        vertical-align: top;\n",
       "    }\n",
       "\n",
       "    .dataframe thead th {\n",
       "        text-align: right;\n",
       "    }\n",
       "</style>\n",
       "<table border=\"1\" class=\"dataframe\">\n",
       "  <thead>\n",
       "    <tr style=\"text-align: right;\">\n",
       "      <th></th>\n",
       "      <th>Ratigns</th>\n",
       "      <th>Review Summary</th>\n",
       "      <th>Full Review</th>\n",
       "    </tr>\n",
       "  </thead>\n",
       "  <tbody>\n",
       "    <tr>\n",
       "      <th>0</th>\n",
       "      <td>5</td>\n",
       "      <td>Brilliant</td>\n",
       "      <td>The Best Phone for the Money\\n\\nThe iPhone 11 ...</td>\n",
       "    </tr>\n",
       "    <tr>\n",
       "      <th>1</th>\n",
       "      <td>5</td>\n",
       "      <td>Simply awesome</td>\n",
       "      <td>Really satisfied with the Product I received.....</td>\n",
       "    </tr>\n",
       "    <tr>\n",
       "      <th>2</th>\n",
       "      <td>5</td>\n",
       "      <td>Best in the market!</td>\n",
       "      <td>Great iPhone very snappy experience as apple k...</td>\n",
       "    </tr>\n",
       "    <tr>\n",
       "      <th>3</th>\n",
       "      <td>5</td>\n",
       "      <td>Perfect product!</td>\n",
       "      <td>Amazing phone with great cameras and better ba...</td>\n",
       "    </tr>\n",
       "    <tr>\n",
       "      <th>4</th>\n",
       "      <td>5</td>\n",
       "      <td>Worth every penny</td>\n",
       "      <td>Previously I was using one plus 3t it was a gr...</td>\n",
       "    </tr>\n",
       "    <tr>\n",
       "      <th>...</th>\n",
       "      <td>...</td>\n",
       "      <td>...</td>\n",
       "      <td>...</td>\n",
       "    </tr>\n",
       "    <tr>\n",
       "      <th>95</th>\n",
       "      <td>5</td>\n",
       "      <td>Must buy!</td>\n",
       "      <td>Camera is excellent just lack of telephoto mod...</td>\n",
       "    </tr>\n",
       "    <tr>\n",
       "      <th>96</th>\n",
       "      <td>5</td>\n",
       "      <td>Terrific purchase</td>\n",
       "      <td>I use a Note10+ and have been using both iOS a...</td>\n",
       "    </tr>\n",
       "    <tr>\n",
       "      <th>97</th>\n",
       "      <td>5</td>\n",
       "      <td>Awesome</td>\n",
       "      <td>The phone is completely good\\nAs far as camera...</td>\n",
       "    </tr>\n",
       "    <tr>\n",
       "      <th>98</th>\n",
       "      <td>3</td>\n",
       "      <td>Decent product</td>\n",
       "      <td>Everything u ll like it when u use this iPhone...</td>\n",
       "    </tr>\n",
       "    <tr>\n",
       "      <th>99</th>\n",
       "      <td>5</td>\n",
       "      <td>Awesome</td>\n",
       "      <td>Can’t beat the software and hardware integrati...</td>\n",
       "    </tr>\n",
       "  </tbody>\n",
       "</table>\n",
       "<p>100 rows × 3 columns</p>\n",
       "</div>"
      ],
      "text/plain": [
       "   Ratigns       Review Summary  \\\n",
       "0        5            Brilliant   \n",
       "1        5       Simply awesome   \n",
       "2        5  Best in the market!   \n",
       "3        5     Perfect product!   \n",
       "4        5    Worth every penny   \n",
       "..     ...                  ...   \n",
       "95       5            Must buy!   \n",
       "96       5    Terrific purchase   \n",
       "97       5              Awesome   \n",
       "98       3       Decent product   \n",
       "99       5              Awesome   \n",
       "\n",
       "                                          Full Review  \n",
       "0   The Best Phone for the Money\\n\\nThe iPhone 11 ...  \n",
       "1   Really satisfied with the Product I received.....  \n",
       "2   Great iPhone very snappy experience as apple k...  \n",
       "3   Amazing phone with great cameras and better ba...  \n",
       "4   Previously I was using one plus 3t it was a gr...  \n",
       "..                                                ...  \n",
       "95  Camera is excellent just lack of telephoto mod...  \n",
       "96  I use a Note10+ and have been using both iOS a...  \n",
       "97  The phone is completely good\\nAs far as camera...  \n",
       "98  Everything u ll like it when u use this iPhone...  \n",
       "99  Can’t beat the software and hardware integrati...  \n",
       "\n",
       "[100 rows x 3 columns]"
      ]
     },
     "execution_count": 217,
     "metadata": {},
     "output_type": "execute_result"
    }
   ],
   "source": [
    "# creating DataFrame\n",
    "\n",
    "df = pd.DataFrame({'Ratigns':ratings,'Review Summary':partioal_review,'Full Review':Full_review})\n",
    "df"
   ]
  },
  {
   "cell_type": "markdown",
   "id": "fc57a802",
   "metadata": {},
   "source": [
    "# Q.6"
   ]
  },
  {
   "cell_type": "markdown",
   "id": "bd5346e0",
   "metadata": {},
   "source": [
    "Scrape data for first 100 sneakers you find when you visit flipkart.com and search for “sneakers” in the search field. You have to scrape 4 attributes of each sneaker:\n",
    "\n",
    " - 1.Brand\n",
    " - 2.Product Description\n",
    " - 3.Price As shown in the below image, you have to scrape the tick marked attributes."
   ]
  },
  {
   "cell_type": "code",
   "execution_count": 5,
   "id": "c8e927ae",
   "metadata": {},
   "outputs": [],
   "source": [
    "driver = webdriver.Chrome(f'E:/FlipRobo Internship/chromedriver.exe')\n",
    "driver.get('https://www.flipkart.com/')\n",
    "time.sleep(2)\n",
    "\n",
    "#clicking description button\n",
    "desc_button = driver.find_element_by_xpath(\"/html/body/div[2]/div/div/button\").click()\n",
    "\n",
    "# Entering product name\n",
    "search_sunglasses = driver.find_element_by_xpath(\"//input[@class='_3704LK']\")\n",
    "search_sunglasses.send_keys('sneakers')\n",
    "\n",
    "# clicking search button\n",
    "search_btn = driver.find_element_by_xpath(\"//button[@class='L0Z3Pu']\").click()"
   ]
  },
  {
   "cell_type": "code",
   "execution_count": 6,
   "id": "62c9c070",
   "metadata": {},
   "outputs": [],
   "source": [
    "# creating empty list\n",
    "\n",
    "Brands = []\n",
    "product_description = []\n",
    "Price = []\n",
    "Discount = []\n",
    "next_btn = []"
   ]
  },
  {
   "cell_type": "code",
   "execution_count": 9,
   "id": "3d139bee",
   "metadata": {
    "collapsed": true
   },
   "outputs": [
    {
     "name": "stdout",
     "output_type": "stream",
     "text": [
      "1200 1200 1200 1200\n"
     ]
    }
   ],
   "source": [
    "# next page tags\n",
    "\n",
    "link1 = driver.find_elements_by_xpath(\"//a[@class='ge-49M _2Kfbh8']\")\n",
    "link2 = driver.find_elements_by_xpath(\"//a[@class='ge-49M']\")\n",
    "\n",
    "for i in link1:\n",
    "    next_btn.append(i.get_attribute('href'))\n",
    "for i in link2:\n",
    "    next_btn.append(i.get_attribute('href'))\n",
    "\n",
    "for page in next_btn:\n",
    "    driver.get(page)\n",
    "    \n",
    "    brands_tags = driver.find_elements_by_xpath(\"//div[@class='_2WkVRV']\")\n",
    "    for i in brands_tags:\n",
    "        a=i.text\n",
    "        Brands.append(a)\n",
    "        \n",
    "    des_tags = driver.find_elements_by_xpath(\"//div[@class='_2B099V']/a[1]\")\n",
    "    for i in des_tags:\n",
    "        a=i.text\n",
    "        product_description.append(a)\n",
    "        \n",
    "    price_tags = driver.find_elements_by_xpath(\"//div[@class='_30jeq3']\")\n",
    "    for i in price_tags:\n",
    "        a=i.text\n",
    "        Price.append(a)\n",
    "        \n",
    "    \n",
    "        try:\n",
    "            dis_tags = driver.find_elements_by_xpath(\"//div[@class='_3Ay6Sb']/span\")\n",
    "            Discount.append(dis_tags.text)\n",
    "        except:\n",
    "            Discount.append('-')\n",
    "            \n",
    "        \n",
    "print(len(Brands),len(product_description),len(Price),len(Discount))"
   ]
  },
  {
   "cell_type": "code",
   "execution_count": 10,
   "id": "d9742ccd",
   "metadata": {
    "collapsed": true
   },
   "outputs": [
    {
     "data": {
      "text/html": [
       "<div>\n",
       "<style scoped>\n",
       "    .dataframe tbody tr th:only-of-type {\n",
       "        vertical-align: middle;\n",
       "    }\n",
       "\n",
       "    .dataframe tbody tr th {\n",
       "        vertical-align: top;\n",
       "    }\n",
       "\n",
       "    .dataframe thead th {\n",
       "        text-align: right;\n",
       "    }\n",
       "</style>\n",
       "<table border=\"1\" class=\"dataframe\">\n",
       "  <thead>\n",
       "    <tr style=\"text-align: right;\">\n",
       "      <th></th>\n",
       "      <th>Brands</th>\n",
       "      <th>Product Description</th>\n",
       "      <th>Price</th>\n",
       "      <th>Discount</th>\n",
       "    </tr>\n",
       "  </thead>\n",
       "  <tbody>\n",
       "    <tr>\n",
       "      <th>0</th>\n",
       "      <td>Noztile</td>\n",
       "      <td>Sneakers For Men</td>\n",
       "      <td>₹499</td>\n",
       "      <td>-</td>\n",
       "    </tr>\n",
       "    <tr>\n",
       "      <th>1</th>\n",
       "      <td>luxury fashion</td>\n",
       "      <td>Luxury Fashionable casual shoes Sneakers For Men</td>\n",
       "      <td>₹429</td>\n",
       "      <td>-</td>\n",
       "    </tr>\n",
       "    <tr>\n",
       "      <th>2</th>\n",
       "      <td>BRUTON</td>\n",
       "      <td>Modern Trendy Sneakers Shoes Sneakers For Men</td>\n",
       "      <td>₹299</td>\n",
       "      <td>-</td>\n",
       "    </tr>\n",
       "    <tr>\n",
       "      <th>3</th>\n",
       "      <td>URBANBOX</td>\n",
       "      <td>Sneakers Sneakers For Men</td>\n",
       "      <td>₹220</td>\n",
       "      <td>-</td>\n",
       "    </tr>\n",
       "    <tr>\n",
       "      <th>4</th>\n",
       "      <td>Shoes Bank</td>\n",
       "      <td>White Sneaker For Men's/Boy's Sneakers For Men</td>\n",
       "      <td>₹331</td>\n",
       "      <td>-</td>\n",
       "    </tr>\n",
       "    <tr>\n",
       "      <th>...</th>\n",
       "      <td>...</td>\n",
       "      <td>...</td>\n",
       "      <td>...</td>\n",
       "      <td>...</td>\n",
       "    </tr>\n",
       "    <tr>\n",
       "      <th>95</th>\n",
       "      <td>RED TAPE</td>\n",
       "      <td>Sneakers For Men</td>\n",
       "      <td>₹1,373</td>\n",
       "      <td>-</td>\n",
       "    </tr>\n",
       "    <tr>\n",
       "      <th>96</th>\n",
       "      <td>FEWROK</td>\n",
       "      <td>Premium quality Sneakers For Men</td>\n",
       "      <td>₹479</td>\n",
       "      <td>-</td>\n",
       "    </tr>\n",
       "    <tr>\n",
       "      <th>97</th>\n",
       "      <td>PUMA</td>\n",
       "      <td>Wild Rider Layers Sneakers For Men</td>\n",
       "      <td>₹3,799</td>\n",
       "      <td>-</td>\n",
       "    </tr>\n",
       "    <tr>\n",
       "      <th>98</th>\n",
       "      <td>SPARX</td>\n",
       "      <td>SM-675 Sneakers For Men</td>\n",
       "      <td>₹888</td>\n",
       "      <td>-</td>\n",
       "    </tr>\n",
       "    <tr>\n",
       "      <th>99</th>\n",
       "      <td>RED TAPE</td>\n",
       "      <td>Sneakers For Men</td>\n",
       "      <td>₹1,373</td>\n",
       "      <td>-</td>\n",
       "    </tr>\n",
       "  </tbody>\n",
       "</table>\n",
       "<p>100 rows × 4 columns</p>\n",
       "</div>"
      ],
      "text/plain": [
       "            Brands                               Product Description   Price  \\\n",
       "0          Noztile                                  Sneakers For Men    ₹499   \n",
       "1   luxury fashion  Luxury Fashionable casual shoes Sneakers For Men    ₹429   \n",
       "2           BRUTON     Modern Trendy Sneakers Shoes Sneakers For Men    ₹299   \n",
       "3         URBANBOX                         Sneakers Sneakers For Men    ₹220   \n",
       "4       Shoes Bank    White Sneaker For Men's/Boy's Sneakers For Men    ₹331   \n",
       "..             ...                                               ...     ...   \n",
       "95        RED TAPE                                  Sneakers For Men  ₹1,373   \n",
       "96          FEWROK                  Premium quality Sneakers For Men    ₹479   \n",
       "97            PUMA                Wild Rider Layers Sneakers For Men  ₹3,799   \n",
       "98           SPARX                           SM-675 Sneakers For Men    ₹888   \n",
       "99        RED TAPE                                  Sneakers For Men  ₹1,373   \n",
       "\n",
       "   Discount  \n",
       "0         -  \n",
       "1         -  \n",
       "2         -  \n",
       "3         -  \n",
       "4         -  \n",
       "..      ...  \n",
       "95        -  \n",
       "96        -  \n",
       "97        -  \n",
       "98        -  \n",
       "99        -  \n",
       "\n",
       "[100 rows x 4 columns]"
      ]
     },
     "execution_count": 10,
     "metadata": {},
     "output_type": "execute_result"
    }
   ],
   "source": [
    "# creating DataFrame\n",
    "\n",
    "df = pd.DataFrame({'Brands':Brands,'Product Description':product_description,'Price':Price,'Discount':Discount})\n",
    "df[0:100]"
   ]
  },
  {
   "cell_type": "markdown",
   "id": "3f1e8fe7",
   "metadata": {},
   "source": [
    "# Q.7"
   ]
  },
  {
   "cell_type": "markdown",
   "id": "9bb1ce75",
   "metadata": {},
   "source": [
    "Go to the link - https://www.myntra.com/shoes Set Price filter to “Rs. 6649 to Rs. 13099” , Color filter to “Black”, as shown in the below image. And then scrape First 100 shoes data you get. The data should include “Brand” of the shoes , Short Shoe description, price of the shoe as shown in the below image."
   ]
  },
  {
   "cell_type": "code",
   "execution_count": 35,
   "id": "abb3f251",
   "metadata": {},
   "outputs": [],
   "source": [
    "driver = webdriver.Chrome(f'E:/FlipRobo Internship/chromedriver.exe')\n",
    "driver.get('https://www.myntra.com/shoes')"
   ]
  },
  {
   "cell_type": "code",
   "execution_count": 36,
   "id": "92ccedc7",
   "metadata": {},
   "outputs": [],
   "source": [
    "# clicking price filter\n",
    "\n",
    "price_filter = driver.find_element_by_xpath('//*[@id=\"mountRoot\"]/div/div[1]/main/div[3]/div[1]/section/div/div[5]/ul/li[2]/label/div').click()"
   ]
  },
  {
   "cell_type": "code",
   "execution_count": 37,
   "id": "a4b18bb0",
   "metadata": {},
   "outputs": [],
   "source": [
    "# clicking color filter\n",
    "\n",
    "color_filter = driver.find_element_by_xpath('//*[@id=\"mountRoot\"]/div/div[1]/main/div[3]/div[1]/section/div/div[6]/ul/li[1]/label').click()"
   ]
  },
  {
   "cell_type": "code",
   "execution_count": 38,
   "id": "b62c99a0",
   "metadata": {},
   "outputs": [],
   "source": [
    "# creating empty list\n",
    "\n",
    "Brands = []\n",
    "Description = []\n",
    "Price = []\n",
    "next_btn = []"
   ]
  },
  {
   "cell_type": "code",
   "execution_count": 40,
   "id": "1e53369a",
   "metadata": {},
   "outputs": [
    {
     "name": "stdout",
     "output_type": "stream",
     "text": [
      "100 100 100\n"
     ]
    }
   ],
   "source": [
    "#next page tags\n",
    "\n",
    "next_tag=driver.find_elements_by_xpath(\"//li[@class='pagination-active']/a[1]\")\n",
    "next_tag1=driver.find_elements_by_xpath(\"//li[@class='pagination-number']/a[1]\")\n",
    "\n",
    "for i in next_tag:\n",
    "    next_btn.append(i.get_attribute('href'))\n",
    "for i in next_tag1:\n",
    "    next_btn.append(i.get_attribute('href'))\n",
    "\n",
    "for page in next_btn[0:2]:\n",
    "    driver.get(page)\n",
    "\n",
    "\n",
    "    brands_tags = driver.find_elements_by_xpath(\"//h3[@class='product-brand']\")\n",
    "    for i in brands_tags:\n",
    "        a=i.text\n",
    "        Brands.append(a)\n",
    "\n",
    "    desc_tags = driver.find_elements_by_xpath(\"//h4[@class='product-product']\")\n",
    "    for i in desc_tags:\n",
    "        a=i.text\n",
    "        Description.append(a)\n",
    "\n",
    "    price_tags = driver.find_elements_by_xpath(\"//div[@class='product-price']/span[1]\")\n",
    "    for i in price_tags:\n",
    "        a=i.text\n",
    "        Price.append(a)\n",
    "    \n",
    "print(len(Brands),len(Description),len(Price))"
   ]
  },
  {
   "cell_type": "code",
   "execution_count": 41,
   "id": "274fed04",
   "metadata": {
    "collapsed": true
   },
   "outputs": [
    {
     "data": {
      "text/html": [
       "<div>\n",
       "<style scoped>\n",
       "    .dataframe tbody tr th:only-of-type {\n",
       "        vertical-align: middle;\n",
       "    }\n",
       "\n",
       "    .dataframe tbody tr th {\n",
       "        vertical-align: top;\n",
       "    }\n",
       "\n",
       "    .dataframe thead th {\n",
       "        text-align: right;\n",
       "    }\n",
       "</style>\n",
       "<table border=\"1\" class=\"dataframe\">\n",
       "  <thead>\n",
       "    <tr style=\"text-align: right;\">\n",
       "      <th></th>\n",
       "      <th>Brands</th>\n",
       "      <th>Description</th>\n",
       "      <th>Price</th>\n",
       "    </tr>\n",
       "  </thead>\n",
       "  <tbody>\n",
       "    <tr>\n",
       "      <th>0</th>\n",
       "      <td>Puma</td>\n",
       "      <td>Men Deviate Nitro Running Shoe</td>\n",
       "      <td>Rs. 7499Rs. 14999</td>\n",
       "    </tr>\n",
       "    <tr>\n",
       "      <th>1</th>\n",
       "      <td>ASICS</td>\n",
       "      <td>Men GEL-KAYANO 27 Shoes</td>\n",
       "      <td>Rs. 10499Rs. 14999</td>\n",
       "    </tr>\n",
       "    <tr>\n",
       "      <th>2</th>\n",
       "      <td>Puma</td>\n",
       "      <td>Men Running Shoes</td>\n",
       "      <td>Rs. 6499Rs. 12999</td>\n",
       "    </tr>\n",
       "    <tr>\n",
       "      <th>3</th>\n",
       "      <td>ADIDAS</td>\n",
       "      <td>Women Running Shoes</td>\n",
       "      <td>Rs. 7599</td>\n",
       "    </tr>\n",
       "    <tr>\n",
       "      <th>4</th>\n",
       "      <td>Puma</td>\n",
       "      <td>Men Magnify Nitro Running</td>\n",
       "      <td>Rs. 7799Rs. 12999</td>\n",
       "    </tr>\n",
       "    <tr>\n",
       "      <th>...</th>\n",
       "      <td>...</td>\n",
       "      <td>...</td>\n",
       "      <td>...</td>\n",
       "    </tr>\n",
       "    <tr>\n",
       "      <th>95</th>\n",
       "      <td>DAVINCHI</td>\n",
       "      <td>Men Formal Leather Slip-Ons</td>\n",
       "      <td>Rs. 8990</td>\n",
       "    </tr>\n",
       "    <tr>\n",
       "      <th>96</th>\n",
       "      <td>Geox</td>\n",
       "      <td>Women Solid Leather Pumps</td>\n",
       "      <td>Rs. 10990</td>\n",
       "    </tr>\n",
       "    <tr>\n",
       "      <th>97</th>\n",
       "      <td>ASICS</td>\n",
       "      <td>Men Gel-Excite 8 Running Shoes</td>\n",
       "      <td>Rs. 6499</td>\n",
       "    </tr>\n",
       "    <tr>\n",
       "      <th>98</th>\n",
       "      <td>J.FONTINI</td>\n",
       "      <td>Men Textured Leather Formal Loafers</td>\n",
       "      <td>Rs. 8990</td>\n",
       "    </tr>\n",
       "    <tr>\n",
       "      <th>99</th>\n",
       "      <td>DAVINCHI</td>\n",
       "      <td>Men Solid Leather Formal Derbys</td>\n",
       "      <td>Rs. 8990</td>\n",
       "    </tr>\n",
       "  </tbody>\n",
       "</table>\n",
       "<p>100 rows × 3 columns</p>\n",
       "</div>"
      ],
      "text/plain": [
       "       Brands                          Description               Price\n",
       "0        Puma       Men Deviate Nitro Running Shoe   Rs. 7499Rs. 14999\n",
       "1       ASICS              Men GEL-KAYANO 27 Shoes  Rs. 10499Rs. 14999\n",
       "2        Puma                    Men Running Shoes   Rs. 6499Rs. 12999\n",
       "3      ADIDAS                  Women Running Shoes            Rs. 7599\n",
       "4        Puma            Men Magnify Nitro Running   Rs. 7799Rs. 12999\n",
       "..        ...                                  ...                 ...\n",
       "95   DAVINCHI          Men Formal Leather Slip-Ons            Rs. 8990\n",
       "96       Geox            Women Solid Leather Pumps           Rs. 10990\n",
       "97      ASICS       Men Gel-Excite 8 Running Shoes            Rs. 6499\n",
       "98  J.FONTINI  Men Textured Leather Formal Loafers            Rs. 8990\n",
       "99   DAVINCHI      Men Solid Leather Formal Derbys            Rs. 8990\n",
       "\n",
       "[100 rows x 3 columns]"
      ]
     },
     "execution_count": 41,
     "metadata": {},
     "output_type": "execute_result"
    }
   ],
   "source": [
    "# creating DataFrame\n",
    "\n",
    "df = pd.DataFrame({\"Brands\":Brands,\"Description\":Description,\"Price\":Price})\n",
    "df"
   ]
  },
  {
   "cell_type": "markdown",
   "id": "9569824b",
   "metadata": {},
   "source": [
    "# Q.8"
   ]
  },
  {
   "cell_type": "markdown",
   "id": "4fc9addf",
   "metadata": {},
   "source": [
    "Go to webpage https://www.amazon.in/ Enter “Laptop” in the search field and then click the search icon. Then set CPU Type filter to “Intel Core i7” and “Intel Core i9” as shown in the below image: After setting the filters scrape first 10 laptops data. You have to scrape 3 attributes for each laptop:\n",
    "\n",
    " - 1.Title\n",
    " - 2.Ratings\n",
    " - 3.Price As shown in the below image as the tick marked attributes."
   ]
  },
  {
   "cell_type": "code",
   "execution_count": 128,
   "id": "720bf82d",
   "metadata": {},
   "outputs": [],
   "source": [
    "driver = webdriver.Chrome(f'E:/FlipRobo Internship/chromedriver.exe')\n",
    "driver.get('https://www.amazon.in/')"
   ]
  },
  {
   "cell_type": "code",
   "execution_count": 137,
   "id": "5586a91a",
   "metadata": {},
   "outputs": [],
   "source": [
    "# Entering product name\n",
    "\n",
    "search_box = driver.find_element_by_id(\"twotabsearchtextbox\")\n",
    "search_box.send_keys('Laptop')"
   ]
  },
  {
   "cell_type": "code",
   "execution_count": 138,
   "id": "6330f4d2",
   "metadata": {},
   "outputs": [],
   "source": [
    "# clicking search button\n",
    "\n",
    "search_button = driver.find_element_by_xpath(\"//input[@id='nav-search-submit-button']\").click()"
   ]
  },
  {
   "cell_type": "code",
   "execution_count": 139,
   "id": "0c078838",
   "metadata": {},
   "outputs": [],
   "source": [
    "# selecting i7 cpu in filter\n",
    "\n",
    "i7_cpu = driver.find_element_by_xpath(\"/html/body/div[1]/div[2]/div[1]/div[2]/div/div[3]/span/div[1]/div/div/div[5]/ul[1]/li[11]/span/a/div\").click()"
   ]
  },
  {
   "cell_type": "code",
   "execution_count": 140,
   "id": "fdff4f6d",
   "metadata": {},
   "outputs": [],
   "source": [
    "# creating empty list\n",
    "\n",
    "Title = []\n",
    "Rating = []\n",
    "Price = []"
   ]
  },
  {
   "cell_type": "code",
   "execution_count": 141,
   "id": "5d777f27",
   "metadata": {},
   "outputs": [
    {
     "name": "stdout",
     "output_type": "stream",
     "text": [
      "10 10\n"
     ]
    }
   ],
   "source": [
    "# Product name\n",
    "title_tags = driver.find_elements_by_xpath(\"//h2[@class='a-size-mini a-spacing-none a-color-base s-line-clamp-2']\")\n",
    "for i in title_tags[0:10]:\n",
    "    a=i.text\n",
    "    Title.append(a)\n",
    "\n",
    "# Product price\n",
    "price_tags = driver.find_elements_by_xpath(\"//span[@class='a-price-whole']\")\n",
    "for i in price_tags[0:10]:\n",
    "    a=i.text\n",
    "    Price.append(a)\n",
    "\n",
    "print(len(Title),len(Price))"
   ]
  },
  {
   "cell_type": "code",
   "execution_count": 142,
   "id": "5dd4aa18",
   "metadata": {},
   "outputs": [
    {
     "name": "stdout",
     "output_type": "stream",
     "text": [
      "10\n"
     ]
    }
   ],
   "source": [
    "# product ratings\n",
    "\n",
    "rating=[]\n",
    "rating1=[]\n",
    "\n",
    "rating_tags=driver.find_elements_by_xpath(\"//a[@class='a-link-normal s-underline-text s-underline-link-text s-link-style a-text-normal']\")\n",
    "for i in rating_tags:\n",
    "    rating.append(i.get_attribute('href'))\n",
    "\n",
    "for i in rating[0:10]:\n",
    "    driver.get(i)\n",
    "    \n",
    "    rating1_tags=driver.find_elements_by_xpath(\"//span[@class='a-size-medium a-color-base']\")\n",
    "    for i in rating1_tags:\n",
    "        rating1.append(i.text)\n",
    "        \n",
    "print(len(rating1))"
   ]
  },
  {
   "cell_type": "code",
   "execution_count": 143,
   "id": "daa1ebe2",
   "metadata": {
    "collapsed": true
   },
   "outputs": [
    {
     "data": {
      "text/html": [
       "<div>\n",
       "<style scoped>\n",
       "    .dataframe tbody tr th:only-of-type {\n",
       "        vertical-align: middle;\n",
       "    }\n",
       "\n",
       "    .dataframe tbody tr th {\n",
       "        vertical-align: top;\n",
       "    }\n",
       "\n",
       "    .dataframe thead th {\n",
       "        text-align: right;\n",
       "    }\n",
       "</style>\n",
       "<table border=\"1\" class=\"dataframe\">\n",
       "  <thead>\n",
       "    <tr style=\"text-align: right;\">\n",
       "      <th></th>\n",
       "      <th>Titles</th>\n",
       "      <th>Rating</th>\n",
       "      <th>Price</th>\n",
       "    </tr>\n",
       "  </thead>\n",
       "  <tbody>\n",
       "    <tr>\n",
       "      <th>0</th>\n",
       "      <td>Fujitsu UH-X 11th Gen Intel i7 Core 13.3 inche...</td>\n",
       "      <td>4.3 out of 5</td>\n",
       "      <td>92,990</td>\n",
       "    </tr>\n",
       "    <tr>\n",
       "      <th>1</th>\n",
       "      <td>Acer Nitro 5 AN515-57 Gaming Laptop | Intel Co...</td>\n",
       "      <td>4 out of 5</td>\n",
       "      <td>89,990</td>\n",
       "    </tr>\n",
       "    <tr>\n",
       "      <th>2</th>\n",
       "      <td>Mi Notebook Pro QHD+ IPS Anti Glare Display In...</td>\n",
       "      <td>4.3 out of 5</td>\n",
       "      <td>73,999</td>\n",
       "    </tr>\n",
       "    <tr>\n",
       "      <th>3</th>\n",
       "      <td>Mi Notebook Horizon Edition 14 Intel Core i7-1...</td>\n",
       "      <td>4.2 out of 5</td>\n",
       "      <td>54,999</td>\n",
       "    </tr>\n",
       "    <tr>\n",
       "      <th>4</th>\n",
       "      <td>HP Pavilion (2021) Intel 11th Gen Core i7 14 i...</td>\n",
       "      <td>4.3 out of 5</td>\n",
       "      <td>84,990</td>\n",
       "    </tr>\n",
       "    <tr>\n",
       "      <th>5</th>\n",
       "      <td>Mi Notebook Ultra 3.2K resolution display Inte...</td>\n",
       "      <td>4.3 out of 5</td>\n",
       "      <td>77,999</td>\n",
       "    </tr>\n",
       "    <tr>\n",
       "      <th>6</th>\n",
       "      <td>HP Pavilion Gaming(2021) 10th Gen Intel Core i...</td>\n",
       "      <td>4.1 out of 5</td>\n",
       "      <td>94,990</td>\n",
       "    </tr>\n",
       "    <tr>\n",
       "      <th>7</th>\n",
       "      <td>ASUS TUF Dash F15 (2021) 15.6-inch (39.62 cms)...</td>\n",
       "      <td>4.4 out of 5</td>\n",
       "      <td>1,09,990</td>\n",
       "    </tr>\n",
       "    <tr>\n",
       "      <th>8</th>\n",
       "      <td>Acer Nitro 5 AN515-57 Gaming Laptop | Intel Co...</td>\n",
       "      <td>4 out of 5</td>\n",
       "      <td>89,990</td>\n",
       "    </tr>\n",
       "    <tr>\n",
       "      <th>9</th>\n",
       "      <td>Dell 15 (2021) Intel i7-11800H Gaming Laptop, ...</td>\n",
       "      <td>3.9 out of 5</td>\n",
       "      <td>1,12,104</td>\n",
       "    </tr>\n",
       "  </tbody>\n",
       "</table>\n",
       "</div>"
      ],
      "text/plain": [
       "                                              Titles        Rating     Price\n",
       "0  Fujitsu UH-X 11th Gen Intel i7 Core 13.3 inche...  4.3 out of 5    92,990\n",
       "1  Acer Nitro 5 AN515-57 Gaming Laptop | Intel Co...    4 out of 5    89,990\n",
       "2  Mi Notebook Pro QHD+ IPS Anti Glare Display In...  4.3 out of 5    73,999\n",
       "3  Mi Notebook Horizon Edition 14 Intel Core i7-1...  4.2 out of 5    54,999\n",
       "4  HP Pavilion (2021) Intel 11th Gen Core i7 14 i...  4.3 out of 5    84,990\n",
       "5  Mi Notebook Ultra 3.2K resolution display Inte...  4.3 out of 5    77,999\n",
       "6  HP Pavilion Gaming(2021) 10th Gen Intel Core i...  4.1 out of 5    94,990\n",
       "7  ASUS TUF Dash F15 (2021) 15.6-inch (39.62 cms)...  4.4 out of 5  1,09,990\n",
       "8  Acer Nitro 5 AN515-57 Gaming Laptop | Intel Co...    4 out of 5    89,990\n",
       "9  Dell 15 (2021) Intel i7-11800H Gaming Laptop, ...  3.9 out of 5  1,12,104"
      ]
     },
     "execution_count": 143,
     "metadata": {},
     "output_type": "execute_result"
    }
   ],
   "source": [
    "# creating DataFrame\n",
    "\n",
    "df = pd.DataFrame({\"Titles\":Title,\"Rating\":rating1,\"Price\":Price})\n",
    "df"
   ]
  },
  {
   "cell_type": "markdown",
   "id": "20ed7e47",
   "metadata": {},
   "source": [
    "# Q.9"
   ]
  },
  {
   "cell_type": "markdown",
   "id": "d864a244",
   "metadata": {},
   "source": [
    "Write a python program to scrape data for first 10 job results for Data Scientist Designation in Noida location. You have to scrape company name, No. of days ago when job was posted, Rating of the company. This task will be done in following steps:\n",
    "\n",
    " - 1.First get the webpage https://www.ambitionbox.com/\n",
    " - 2.Click on the Job option as shown in the image\n",
    " - 3.After reaching to the next webpage, In place of “Search by Designations, Companies, Skills” enter “Data Scientist” and click on search button.\n",
    " - 4.You will reach to the following web page click on location and in place of “Search location” enter “Noida” and select location “Noida”.\n",
    " - 5.Then scrape the data for the first 10 jobs results you get on the above shown page.\n",
    " - 6.Finally create a dataframe of the scraped data."
   ]
  },
  {
   "cell_type": "code",
   "execution_count": 197,
   "id": "8aa70412",
   "metadata": {},
   "outputs": [],
   "source": [
    "driver = webdriver.Chrome(f'E:/FlipRobo Internship/chromedriver.exe')\n",
    "driver.get('https://www.ambitionbox.com/')"
   ]
  },
  {
   "cell_type": "code",
   "execution_count": 198,
   "id": "4488b6fe",
   "metadata": {},
   "outputs": [],
   "source": [
    "# clicking job link\n",
    "\n",
    "jobs_click = driver.find_element_by_xpath(\"//a[@title='Jobs']\").click()"
   ]
  },
  {
   "cell_type": "code",
   "execution_count": 203,
   "id": "be01b464",
   "metadata": {},
   "outputs": [],
   "source": [
    "# Entering job title\n",
    "\n",
    "search_designation = driver.find_element_by_xpath(\"//input[@class='input tt-input']\")\n",
    "search_designation.send_keys('Data Scientist')"
   ]
  },
  {
   "cell_type": "code",
   "execution_count": 204,
   "id": "31645e7b",
   "metadata": {},
   "outputs": [],
   "source": [
    "# clicking search button\n",
    "\n",
    "search_btn = driver.find_element_by_xpath(\"//button[@class='ab_btn search-btn round']\").click()"
   ]
  },
  {
   "cell_type": "code",
   "execution_count": 205,
   "id": "4d8a14b1",
   "metadata": {},
   "outputs": [],
   "source": [
    "# clicking location button\n",
    "\n",
    "location_click = driver.find_element_by_xpath(\"//div[@title='Location']\").click()"
   ]
  },
  {
   "cell_type": "code",
   "execution_count": 206,
   "id": "d3e9a1b5",
   "metadata": {},
   "outputs": [],
   "source": [
    "# Entering Noida in location\n",
    "\n",
    "search_location = driver.find_element_by_xpath(\"/html/body/div/div/div/div[2]/div[2]/div[1]/div/div/div/div[2]/div[2]/div/div[2]/input\")\n",
    "search_location.send_keys('Noida')"
   ]
  },
  {
   "cell_type": "code",
   "execution_count": 207,
   "id": "78ed2e29",
   "metadata": {},
   "outputs": [],
   "source": [
    "# Selecting Noida\n",
    "\n",
    "select_btn = driver.find_element_by_xpath(\"/html/body/div/div/div/div[2]/div[2]/div[1]/div/div/div/div[2]/div[2]/div/div[3]/div[1]/div[1]/div/label\").click()"
   ]
  },
  {
   "cell_type": "code",
   "execution_count": 208,
   "id": "f3d0b2f9",
   "metadata": {},
   "outputs": [],
   "source": [
    "# creating empty list\n",
    "\n",
    "Company_Name = []\n",
    "Rating = []\n",
    "Dayago = []"
   ]
  },
  {
   "cell_type": "code",
   "execution_count": null,
   "id": "59710e1d",
   "metadata": {},
   "outputs": [],
   "source": [
    "# company name\n",
    "company_tags = driver.find_elements_by_xpath(\"//p[@class='company body-medium']\")\n",
    "for i in company_tags:\n",
    "    Company_Name.append(i.text)\n",
    "\n",
    "# company rating    \n",
    "rating_tags = driver.find_elements_by_xpath(\"//div[@class='rating-wrapper']/a[1]\")\n",
    "for i in rating_tags[1:11]:\n",
    "    Rating.append(i.text)\n",
    "\n",
    "\n",
    "# Job post date\n",
    "days_tags = driver.find_elements_by_xpath(\"//div[@class='other-info']/span[1]\")\n",
    "for i in days_tags:\n",
    "    Dayago.append(i.text)"
   ]
  },
  {
   "cell_type": "code",
   "execution_count": 210,
   "id": "7d53a7f7",
   "metadata": {
    "collapsed": true
   },
   "outputs": [
    {
     "data": {
      "text/html": [
       "<div>\n",
       "<style scoped>\n",
       "    .dataframe tbody tr th:only-of-type {\n",
       "        vertical-align: middle;\n",
       "    }\n",
       "\n",
       "    .dataframe tbody tr th {\n",
       "        vertical-align: top;\n",
       "    }\n",
       "\n",
       "    .dataframe thead th {\n",
       "        text-align: right;\n",
       "    }\n",
       "</style>\n",
       "<table border=\"1\" class=\"dataframe\">\n",
       "  <thead>\n",
       "    <tr style=\"text-align: right;\">\n",
       "      <th></th>\n",
       "      <th>Company Name</th>\n",
       "      <th>Rating</th>\n",
       "      <th>Job Post Day</th>\n",
       "    </tr>\n",
       "  </thead>\n",
       "  <tbody>\n",
       "    <tr>\n",
       "      <th>0</th>\n",
       "      <td>LG Electronics India Pvt. Ltd.</td>\n",
       "      <td>4.1</td>\n",
       "      <td>12d ago</td>\n",
       "    </tr>\n",
       "    <tr>\n",
       "      <th>1</th>\n",
       "      <td>GENPACT India Private Limited</td>\n",
       "      <td>4.0</td>\n",
       "      <td>19d ago</td>\n",
       "    </tr>\n",
       "    <tr>\n",
       "      <th>2</th>\n",
       "      <td>GENPACT India Private Limited</td>\n",
       "      <td>4.0</td>\n",
       "      <td>19d ago</td>\n",
       "    </tr>\n",
       "    <tr>\n",
       "      <th>3</th>\n",
       "      <td>NTT Data Business Solutions Pvt Ltd</td>\n",
       "      <td>3.8</td>\n",
       "      <td>20d ago</td>\n",
       "    </tr>\n",
       "    <tr>\n",
       "      <th>4</th>\n",
       "      <td>GENPACT India Private Limited</td>\n",
       "      <td>4.0</td>\n",
       "      <td>21d ago</td>\n",
       "    </tr>\n",
       "    <tr>\n",
       "      <th>5</th>\n",
       "      <td>Paytm</td>\n",
       "      <td>3.7</td>\n",
       "      <td>6d ago</td>\n",
       "    </tr>\n",
       "    <tr>\n",
       "      <th>6</th>\n",
       "      <td>GI Group</td>\n",
       "      <td>4.0</td>\n",
       "      <td>6d ago</td>\n",
       "    </tr>\n",
       "    <tr>\n",
       "      <th>7</th>\n",
       "      <td>GI Group</td>\n",
       "      <td>4.0</td>\n",
       "      <td>6d ago</td>\n",
       "    </tr>\n",
       "    <tr>\n",
       "      <th>8</th>\n",
       "      <td>GI Group</td>\n",
       "      <td>4.0</td>\n",
       "      <td>6d ago</td>\n",
       "    </tr>\n",
       "    <tr>\n",
       "      <th>9</th>\n",
       "      <td>Steria India Ltd</td>\n",
       "      <td>4.1</td>\n",
       "      <td>1mon ago</td>\n",
       "    </tr>\n",
       "  </tbody>\n",
       "</table>\n",
       "</div>"
      ],
      "text/plain": [
       "                          Company Name Rating Job Post Day\n",
       "0       LG Electronics India Pvt. Ltd.    4.1      12d ago\n",
       "1        GENPACT India Private Limited    4.0      19d ago\n",
       "2        GENPACT India Private Limited    4.0      19d ago\n",
       "3  NTT Data Business Solutions Pvt Ltd    3.8      20d ago\n",
       "4        GENPACT India Private Limited    4.0      21d ago\n",
       "5                                Paytm    3.7       6d ago\n",
       "6                             GI Group    4.0       6d ago\n",
       "7                             GI Group    4.0       6d ago\n",
       "8                             GI Group    4.0       6d ago\n",
       "9                     Steria India Ltd    4.1     1mon ago"
      ]
     },
     "execution_count": 210,
     "metadata": {},
     "output_type": "execute_result"
    }
   ],
   "source": [
    "# creating DataFrame\n",
    "\n",
    "df = pd.DataFrame({'Company Name':Company_Name,'Rating':Rating,'Job Post Day':Dayago})\n",
    "df"
   ]
  },
  {
   "cell_type": "markdown",
   "id": "2fba6c13",
   "metadata": {},
   "source": [
    "# Q.10"
   ]
  },
  {
   "cell_type": "markdown",
   "id": "f031acfe",
   "metadata": {},
   "source": [
    "Write a python program to scrape the salary data for Data Scientist designation. You have to scrape Company name, Number of salaries, Average salary, Min salary, Max Salary. The above task will be, done as shown in the below steps:\n",
    "\n",
    " - 1.First get the webpage https://www.ambitionbox.com/\n",
    " - 2.Click on the salaries option as shown in the image.\n",
    " - 3.After reaching to the following webpage, In place of “Search Job Profile” enters “Data Scientist” and then click on “Data Scientist”.\n",
    " - 4.Scrape the data for the first 10 companies. Scrape the company name, total salary record, average salary, minimum salary, maximum salary, experience required.\n",
    " - 5.tore the data in a dataframe."
   ]
  },
  {
   "cell_type": "code",
   "execution_count": 250,
   "id": "40be9d89",
   "metadata": {},
   "outputs": [],
   "source": [
    "driver = webdriver.Chrome(f'E:/FlipRobo Internship/chromedriver.exe')\n",
    "driver.get('https://www.ambitionbox.com/')"
   ]
  },
  {
   "cell_type": "code",
   "execution_count": 251,
   "id": "b8aae1e1",
   "metadata": {},
   "outputs": [],
   "source": [
    "# clicking salaries\n",
    "\n",
    "salaries_click = driver.find_element_by_xpath(\"//a[@title='Company Salaries']\").click()"
   ]
  },
  {
   "cell_type": "code",
   "execution_count": 263,
   "id": "9b1494a9",
   "metadata": {},
   "outputs": [],
   "source": [
    "# Entering job title\n",
    "\n",
    "search_designation = driver.find_element_by_xpath(\"//input[@class='tt-input']\")\n",
    "search_designation.send_keys('Data Scientist')"
   ]
  },
  {
   "cell_type": "code",
   "execution_count": 264,
   "id": "9d6c5a0b",
   "metadata": {},
   "outputs": [],
   "source": [
    "# Selecting job title\n",
    "\n",
    "select_btn = driver.find_element_by_xpath(\"/html/body/div/div/div/main/section[1]/div[2]/div[1]/span/div/div/div[1]\").click()"
   ]
  },
  {
   "cell_type": "code",
   "execution_count": 265,
   "id": "1885ab44",
   "metadata": {},
   "outputs": [],
   "source": [
    "#company Title\n",
    "company = []\n",
    "company_tags = driver.find_elements_by_xpath(\"//div[@class='name']/a[1]\")\n",
    "for i in company_tags:\n",
    "    company.append(i.text)\n",
    "    \n",
    "#Number of salary\n",
    "Total_Salary = []\n",
    "salary_tags = driver.find_elements_by_xpath(\"//div[@class='name']/span[1]\")\n",
    "for i in salary_tags:\n",
    "    Total_Salary.append(i.text)\n",
    "\n",
    "#Experince Level\n",
    "Experiance = []\n",
    "experiance_tags = driver.find_elements_by_xpath(\"//div[@class='salaries sbold-list-header']\")\n",
    "for i in experiance_tags:\n",
    "    Experiance.append(i.text.split('.')[1].replace(\"\\n\",\"\"))\n",
    "\n",
    "#min of Salary \n",
    "minsalary=[]\n",
    "minsalary_tags=driver.find_elements_by_xpath(\"//div[@class='salary-values']/div[1]\")\n",
    "for i in minsalary_tags:\n",
    "    minsalary.append(i.text)\n",
    "\n",
    "#max of Salary    \n",
    "maxsalary=[]\n",
    "maxsalary_tags=driver.find_elements_by_xpath(\"//div[@class='salary-values']/div[2]\")\n",
    "for i in maxsalary_tags:\n",
    "    maxsalary.append(i.text)\n",
    "\n",
    "#average of Salary  \n",
    "avgsalary=[]\n",
    "avgsalary_tags=driver.find_elements_by_xpath(\"//p[@class='averageCtc']\")\n",
    "for i in avgsalary_tags:\n",
    "    avgsalary.append(i.text)"
   ]
  },
  {
   "cell_type": "code",
   "execution_count": 267,
   "id": "045624d1",
   "metadata": {},
   "outputs": [
    {
     "data": {
      "text/html": [
       "<div>\n",
       "<style scoped>\n",
       "    .dataframe tbody tr th:only-of-type {\n",
       "        vertical-align: middle;\n",
       "    }\n",
       "\n",
       "    .dataframe tbody tr th {\n",
       "        vertical-align: top;\n",
       "    }\n",
       "\n",
       "    .dataframe thead th {\n",
       "        text-align: right;\n",
       "    }\n",
       "</style>\n",
       "<table border=\"1\" class=\"dataframe\">\n",
       "  <thead>\n",
       "    <tr style=\"text-align: right;\">\n",
       "      <th></th>\n",
       "      <th>Company Name</th>\n",
       "      <th>Experiance Required</th>\n",
       "      <th>Total Salary Record</th>\n",
       "      <th>Average Salary</th>\n",
       "      <th>Min. Salary</th>\n",
       "      <th>Max. Salary</th>\n",
       "    </tr>\n",
       "  </thead>\n",
       "  <tbody>\n",
       "    <tr>\n",
       "      <th>0</th>\n",
       "      <td>Ab Inbev</td>\n",
       "      <td>3-4 yrs exp</td>\n",
       "      <td>based on 20 salaries</td>\n",
       "      <td>₹ 19.0L</td>\n",
       "      <td>₹ 15.0L</td>\n",
       "      <td>₹ 23.0L</td>\n",
       "    </tr>\n",
       "    <tr>\n",
       "      <th>1</th>\n",
       "      <td>ZS</td>\n",
       "      <td>2 yrs exp</td>\n",
       "      <td>based on 12 salaries</td>\n",
       "      <td>₹ 15.3L</td>\n",
       "      <td>₹ 9.8L</td>\n",
       "      <td>₹ 19.5L</td>\n",
       "    </tr>\n",
       "    <tr>\n",
       "      <th>2</th>\n",
       "      <td>Optum</td>\n",
       "      <td>3-4 yrs exp</td>\n",
       "      <td>based on 23 salaries</td>\n",
       "      <td>₹ 15.0L</td>\n",
       "      <td>₹ 11.0L</td>\n",
       "      <td>₹ 21.3L</td>\n",
       "    </tr>\n",
       "    <tr>\n",
       "      <th>3</th>\n",
       "      <td>Fractal Analytics</td>\n",
       "      <td>2-4 yrs exp</td>\n",
       "      <td>based on 66 salaries</td>\n",
       "      <td>₹ 15.0L</td>\n",
       "      <td>₹ 9.5L</td>\n",
       "      <td>₹ 22.0L</td>\n",
       "    </tr>\n",
       "    <tr>\n",
       "      <th>4</th>\n",
       "      <td>UnitedHealth</td>\n",
       "      <td>2-4 yrs exp</td>\n",
       "      <td>based on 47 salaries</td>\n",
       "      <td>₹ 13.5L</td>\n",
       "      <td>₹ 7.2L</td>\n",
       "      <td>₹ 20.5L</td>\n",
       "    </tr>\n",
       "    <tr>\n",
       "      <th>5</th>\n",
       "      <td>Tiger Analytics</td>\n",
       "      <td>3-4 yrs exp</td>\n",
       "      <td>based on 26 salaries</td>\n",
       "      <td>₹ 13.5L</td>\n",
       "      <td>₹ 8.3L</td>\n",
       "      <td>₹ 18.5L</td>\n",
       "    </tr>\n",
       "    <tr>\n",
       "      <th>6</th>\n",
       "      <td>Verizon</td>\n",
       "      <td>4 yrs exp</td>\n",
       "      <td>based on 14 salaries</td>\n",
       "      <td>₹ 12.7L</td>\n",
       "      <td>₹ 10.0L</td>\n",
       "      <td>₹ 21.0L</td>\n",
       "    </tr>\n",
       "    <tr>\n",
       "      <th>7</th>\n",
       "      <td>Ganit Business Solutions</td>\n",
       "      <td>4 yrs exp</td>\n",
       "      <td>based on 13 salaries</td>\n",
       "      <td>₹ 12.4L</td>\n",
       "      <td>₹ 8.5L</td>\n",
       "      <td>₹ 15.0L</td>\n",
       "    </tr>\n",
       "    <tr>\n",
       "      <th>8</th>\n",
       "      <td>Ericsson</td>\n",
       "      <td>3-4 yrs exp</td>\n",
       "      <td>based on 42 salaries</td>\n",
       "      <td>₹ 11.7L</td>\n",
       "      <td>₹ 5.2L</td>\n",
       "      <td>₹ 21.5L</td>\n",
       "    </tr>\n",
       "    <tr>\n",
       "      <th>9</th>\n",
       "      <td>Deloitte</td>\n",
       "      <td>2-4 yrs exp</td>\n",
       "      <td>based on 49 salaries</td>\n",
       "      <td>₹ 11.2L</td>\n",
       "      <td>₹ 6.8L</td>\n",
       "      <td>₹ 20.5L</td>\n",
       "    </tr>\n",
       "  </tbody>\n",
       "</table>\n",
       "</div>"
      ],
      "text/plain": [
       "               Company Name Experiance Required   Total Salary Record  \\\n",
       "0                  Ab Inbev         3-4 yrs exp  based on 20 salaries   \n",
       "1                        ZS           2 yrs exp  based on 12 salaries   \n",
       "2                     Optum         3-4 yrs exp  based on 23 salaries   \n",
       "3         Fractal Analytics         2-4 yrs exp  based on 66 salaries   \n",
       "4              UnitedHealth         2-4 yrs exp  based on 47 salaries   \n",
       "5           Tiger Analytics         3-4 yrs exp  based on 26 salaries   \n",
       "6                   Verizon           4 yrs exp  based on 14 salaries   \n",
       "7  Ganit Business Solutions           4 yrs exp  based on 13 salaries   \n",
       "8                  Ericsson         3-4 yrs exp  based on 42 salaries   \n",
       "9                  Deloitte         2-4 yrs exp  based on 49 salaries   \n",
       "\n",
       "  Average Salary Min. Salary Max. Salary  \n",
       "0        ₹ 19.0L     ₹ 15.0L     ₹ 23.0L  \n",
       "1        ₹ 15.3L      ₹ 9.8L     ₹ 19.5L  \n",
       "2        ₹ 15.0L     ₹ 11.0L     ₹ 21.3L  \n",
       "3        ₹ 15.0L      ₹ 9.5L     ₹ 22.0L  \n",
       "4        ₹ 13.5L      ₹ 7.2L     ₹ 20.5L  \n",
       "5        ₹ 13.5L      ₹ 8.3L     ₹ 18.5L  \n",
       "6        ₹ 12.7L     ₹ 10.0L     ₹ 21.0L  \n",
       "7        ₹ 12.4L      ₹ 8.5L     ₹ 15.0L  \n",
       "8        ₹ 11.7L      ₹ 5.2L     ₹ 21.5L  \n",
       "9        ₹ 11.2L      ₹ 6.8L     ₹ 20.5L  "
      ]
     },
     "execution_count": 267,
     "metadata": {},
     "output_type": "execute_result"
    }
   ],
   "source": [
    "# creating DataFrame\n",
    "\n",
    "df = pd.DataFrame({'Company Name':company,'Experiance Required':Experiance,'Total Salary Record':Total_Salary,'Average Salary':avgsalary,'Min. Salary':minsalary,'Max. Salary':maxsalary})\n",
    "df"
   ]
  },
  {
   "cell_type": "code",
   "execution_count": null,
   "id": "e8297054",
   "metadata": {},
   "outputs": [],
   "source": []
  }
 ],
 "metadata": {
  "kernelspec": {
   "display_name": "Python 3",
   "language": "python",
   "name": "python3"
  },
  "language_info": {
   "codemirror_mode": {
    "name": "ipython",
    "version": 3
   },
   "file_extension": ".py",
   "mimetype": "text/x-python",
   "name": "python",
   "nbconvert_exporter": "python",
   "pygments_lexer": "ipython3",
   "version": "3.8.8"
  }
 },
 "nbformat": 4,
 "nbformat_minor": 5
}
