{
 "cells": [
  {
   "cell_type": "code",
   "execution_count": null,
   "id": "773580ca",
   "metadata": {},
   "outputs": [],
   "source": [
    "import numpy as np\n",
    "import pandas as pd\n",
    "import matplotlib.pyplot as plt\n",
    "import seaborn as sns\n",
    "import warnings\n",
    "warnings.filterwarnings('ignore')"
   ]
  },
  {
   "cell_type": "code",
   "execution_count": null,
   "id": "02d1edbd",
   "metadata": {},
   "outputs": [],
   "source": [
    "# Q.1\n",
    "\n",
    "a=13\n",
    "b=5\n",
    "\n",
    "c = a % b\n",
    "c"
   ]
  },
  {
   "cell_type": "code",
   "execution_count": null,
   "id": "80d3426c",
   "metadata": {},
   "outputs": [],
   "source": [
    "# Q.2 \n",
    "\n",
    "2//3"
   ]
  },
  {
   "cell_type": "code",
   "execution_count": null,
   "id": "4b69e494",
   "metadata": {},
   "outputs": [],
   "source": [
    "# Q.3\n",
    "\n",
    "6<<2"
   ]
  },
  {
   "cell_type": "code",
   "execution_count": null,
   "id": "026abcd9",
   "metadata": {},
   "outputs": [],
   "source": [
    "# Q.4\n",
    "\n",
    "6&2"
   ]
  },
  {
   "cell_type": "code",
   "execution_count": null,
   "id": "2880993e",
   "metadata": {},
   "outputs": [],
   "source": [
    "# Q.5\n",
    "\n",
    "6|2 # Use shift + \\ to find the "
   ]
  },
  {
   "cell_type": "code",
   "execution_count": null,
   "id": "3655c678",
   "metadata": {},
   "outputs": [],
   "source": [
    "# Q.6\n",
    "\n",
    "# A) It is used to mark the end of the code.\n",
    "\n",
    "\n",
    "def askint(): # Making a function \n",
    "    try:\n",
    "        val = int(input('Please enter a integer: ')) # This will ask integer from the user\n",
    "    except:\n",
    "        print('Lokks like you did not enter a integer.') # This will check the inputs which is given by the user\n",
    "    finally:\n",
    "        print('Finally , I executed.') # This will execute every time "
   ]
  },
  {
   "cell_type": "code",
   "execution_count": null,
   "id": "7f3a4cee",
   "metadata": {},
   "outputs": [],
   "source": [
    "askint()"
   ]
  },
  {
   "cell_type": "code",
   "execution_count": null,
   "id": "0e6ff433",
   "metadata": {},
   "outputs": [],
   "source": [
    "# Q.7\n",
    "\n",
    "val = input('Please enter a integer: ') # Taking a input from user\n",
    "\n",
    "if val.isnumeric(): # checking the input (number or integer)\n",
    "    raise Exception('Numbers are not allowed') # used raise if user's input is a number this will execute"
   ]
  },
  {
   "cell_type": "code",
   "execution_count": null,
   "id": "bf623706",
   "metadata": {},
   "outputs": [],
   "source": [
    "# Q.8\n",
    "\n",
    "# C) In difining a generator.\n",
    "\n",
    "\n",
    "#  A python program  to generate squares from 1 to 100.\n",
    "def square():\n",
    "    a = 1\n",
    "    \n",
    "    while True:\n",
    "        yield a * a\n",
    "        a += 1\n",
    "        \n",
    "\n",
    "for x in square(): # this is a loop which for squares upto 100, if we want above just change the number.\n",
    "    if x > 100:\n",
    "        break      # used break for break the loop\n",
    "    print(x)"
   ]
  },
  {
   "cell_type": "code",
   "execution_count": null,
   "id": "efe0c280",
   "metadata": {},
   "outputs": [],
   "source": [
    "# Q.9\n",
    "\n",
    "_abc = \"_abc executed\"\n",
    "\n",
    "_abc\n",
    "\n",
    "abc2 = \"abc2 executed\"\n",
    "\n",
    "abc2\n",
    "\n",
    "1abc = '1abc executed' # This will give syntex error due to numaric number \n",
    "\n",
    "1abc\n"
   ]
  },
  {
   "cell_type": "code",
   "execution_count": null,
   "id": "7f91d00e",
   "metadata": {},
   "outputs": [],
   "source": [
    "# Q.10\n",
    "\n",
    "A) yield\n",
    "B) raise\n",
    "C) look-in"
   ]
  },
  {
   "cell_type": "code",
   "execution_count": null,
   "id": "aa1167bb",
   "metadata": {},
   "outputs": [],
   "source": [
    "# Q.11\n",
    "\n",
    "import math\n",
    "\n",
    "num = 3\n",
    "print('The factorial of', num, 'is : ', end ='')\n",
    "print(math.factorial(num))"
   ]
  },
  {
   "cell_type": "code",
   "execution_count": null,
   "id": "56e65743",
   "metadata": {},
   "outputs": [],
   "source": [
    "# Q.12\n",
    "\n",
    "def is_prime(num):\n",
    "    for a in range(2,num):\n",
    "#         print(a)\n",
    "        if num % a == 0:\n",
    "            print('Not a prime Number')\n",
    "            break\n",
    "    else:\n",
    "        print('Prime Number')"
   ]
  },
  {
   "cell_type": "code",
   "execution_count": null,
   "id": "6725b231",
   "metadata": {},
   "outputs": [],
   "source": [
    "is_prime(6)"
   ]
  },
  {
   "cell_type": "code",
   "execution_count": null,
   "id": "8d4e7f9c",
   "metadata": {},
   "outputs": [],
   "source": [
    "# Q.13\n",
    "\n",
    "def isPalindrome(s):\n",
    "    return s == s[::-1]\n",
    " \n",
    "\n",
    "s = \"madam\"\n",
    "ans = isPalindrome(s)\n",
    " \n",
    "if ans:\n",
    "    print(\"Yes\")\n",
    "else:\n",
    "    print(\"No\")"
   ]
  },
  {
   "cell_type": "code",
   "execution_count": null,
   "id": "f8559967",
   "metadata": {},
   "outputs": [],
   "source": [
    "# Q.14\n",
    "\n",
    "I didn't understand the answeres which i get from Google"
   ]
  },
  {
   "cell_type": "code",
   "execution_count": null,
   "id": "c640ad09",
   "metadata": {},
   "outputs": [],
   "source": [
    "# Q.15\n",
    "\n",
    "\n",
    "test_str = \"Flip Robo Technologies\"\n",
    "  \n",
    "all_freq = {}\n",
    "  \n",
    "for i in test_str:\n",
    "    if i in all_freq:\n",
    "        all_freq[i] += 1\n",
    "    else:\n",
    "        all_freq[i] = 1\n",
    "\n",
    "print (\"Count of all characters in Flip Robo Technologies is :\\n \"\n",
    "                                        +  str(all_freq))"
   ]
  },
  {
   "cell_type": "code",
   "execution_count": null,
   "id": "3c6da7d1",
   "metadata": {},
   "outputs": [],
   "source": []
  }
 ],
 "metadata": {
  "kernelspec": {
   "display_name": "Python 3",
   "language": "python",
   "name": "python3"
  },
  "language_info": {
   "codemirror_mode": {
    "name": "ipython",
    "version": 3
   },
   "file_extension": ".py",
   "mimetype": "text/x-python",
   "name": "python",
   "nbconvert_exporter": "python",
   "pygments_lexer": "ipython3",
   "version": "3.8.8"
  }
 },
 "nbformat": 4,
 "nbformat_minor": 5
}
