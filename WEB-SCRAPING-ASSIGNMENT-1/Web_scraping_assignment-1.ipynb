{
 "cells": [
  {
   "cell_type": "code",
   "execution_count": 1,
   "id": "543b2271",
   "metadata": {
    "scrolled": true
   },
   "outputs": [],
   "source": [
    "from bs4 import BeautifulSoup\n",
    "import requests\n",
    "import pandas as pd"
   ]
  },
  {
   "cell_type": "markdown",
   "id": "b239d207",
   "metadata": {},
   "source": [
    "# Q.1\n",
    "## Write a python program to display all the header tags from wikipedia.org."
   ]
  },
  {
   "cell_type": "code",
   "execution_count": 2,
   "id": "6305aa7c",
   "metadata": {},
   "outputs": [],
   "source": [
    "page = requests.get('https://en.wikipedia.org/wiki/Main_Page')\n",
    "soup = BeautifulSoup(page.content)"
   ]
  },
  {
   "cell_type": "code",
   "execution_count": 3,
   "id": "0f973b64",
   "metadata": {
    "scrolled": true
   },
   "outputs": [
    {
     "data": {
      "text/plain": [
       "['Main Page',\n",
       " \"From today's featured article\",\n",
       " 'Did you know\\xa0...',\n",
       " 'In the news',\n",
       " 'On this day',\n",
       " \"Today's featured picture\",\n",
       " 'Other areas of Wikipedia',\n",
       " \"Wikipedia's sister projects\",\n",
       " 'Wikipedia languages',\n",
       " 'Navigation menu',\n",
       " 'Personal tools',\n",
       " 'Namespaces',\n",
       " 'Variantsexpandedcollapsed',\n",
       " 'Views',\n",
       " 'Moreexpandedcollapsed',\n",
       " 'Search',\n",
       " 'Navigation',\n",
       " 'Contribute',\n",
       " 'Tools',\n",
       " 'Print/export',\n",
       " 'In other projects',\n",
       " 'Languages']"
      ]
     },
     "execution_count": 3,
     "metadata": {},
     "output_type": "execute_result"
    }
   ],
   "source": [
    "head = [] #Empty list for store the data\n",
    "\n",
    "for i in soup.find_all(['h1', 'h2','h3','h4','h5','h6']):\n",
    "    head.append(i.text.replace('\\n',''))\n",
    "head"
   ]
  },
  {
   "cell_type": "markdown",
   "id": "ba12bcd8",
   "metadata": {},
   "source": [
    "# Q.2\n",
    "### Write a python program to display IMDB’s Top rated 100 movies’ data (i.e. name, rating, year of release)\n",
    "### and make data frame."
   ]
  },
  {
   "cell_type": "code",
   "execution_count": 4,
   "id": "3ceb7983",
   "metadata": {
    "scrolled": true
   },
   "outputs": [],
   "source": [
    "page1 = requests.get('https://www.imdb.com/list/ls091520106/?sort=list_order,asc&st_dt=&mode=detail&page=1&ref_=ttls_vm_dtl')\n",
    "soup = BeautifulSoup(page1.content)"
   ]
  },
  {
   "cell_type": "code",
   "execution_count": 5,
   "id": "0b39aa49",
   "metadata": {
    "scrolled": true
   },
   "outputs": [],
   "source": [
    "name = []\n",
    "\n",
    "for i in soup.find_all('h3', class_='lister-item-header'):\n",
    "    name.append(i.text.replace('\\n',''))"
   ]
  },
  {
   "cell_type": "code",
   "execution_count": 6,
   "id": "51698bb8",
   "metadata": {
    "scrolled": true
   },
   "outputs": [],
   "source": [
    "rating = []\n",
    "\n",
    "for i in soup.find_all('div', class_='ipl-rating-star small'):\n",
    "    rating.append(i.text.replace('\\n',''))"
   ]
  },
  {
   "cell_type": "code",
   "execution_count": 7,
   "id": "e65ef92e",
   "metadata": {
    "scrolled": true
   },
   "outputs": [],
   "source": [
    "release_year = []\n",
    "\n",
    "for i in soup.find_all('span', class_='lister-item-year text-muted unbold'):\n",
    "    release_year.append(i.text)"
   ]
  },
  {
   "cell_type": "code",
   "execution_count": 8,
   "id": "75a02dce",
   "metadata": {
    "scrolled": true
   },
   "outputs": [
    {
     "name": "stdout",
     "output_type": "stream",
     "text": [
      "100 100 100\n"
     ]
    }
   ],
   "source": [
    "print(len(name),len(rating),len(release_year))"
   ]
  },
  {
   "cell_type": "code",
   "execution_count": 9,
   "id": "3fc9dc45",
   "metadata": {
    "scrolled": true
   },
   "outputs": [
    {
     "data": {
      "text/html": [
       "<div>\n",
       "<style scoped>\n",
       "    .dataframe tbody tr th:only-of-type {\n",
       "        vertical-align: middle;\n",
       "    }\n",
       "\n",
       "    .dataframe tbody tr th {\n",
       "        vertical-align: top;\n",
       "    }\n",
       "\n",
       "    .dataframe thead th {\n",
       "        text-align: right;\n",
       "    }\n",
       "</style>\n",
       "<table border=\"1\" class=\"dataframe\">\n",
       "  <thead>\n",
       "    <tr style=\"text-align: right;\">\n",
       "      <th></th>\n",
       "      <th>Movie Name</th>\n",
       "      <th>Rating</th>\n",
       "      <th>Release Year</th>\n",
       "    </tr>\n",
       "  </thead>\n",
       "  <tbody>\n",
       "    <tr>\n",
       "      <th>0</th>\n",
       "      <td>1.The Shawshank Redemption(1994)</td>\n",
       "      <td>9.3</td>\n",
       "      <td>(1994)</td>\n",
       "    </tr>\n",
       "    <tr>\n",
       "      <th>1</th>\n",
       "      <td>2.The Godfather(1972)</td>\n",
       "      <td>9.2</td>\n",
       "      <td>(1972)</td>\n",
       "    </tr>\n",
       "    <tr>\n",
       "      <th>2</th>\n",
       "      <td>3.The Godfather: Part II(1974)</td>\n",
       "      <td>9</td>\n",
       "      <td>(1974)</td>\n",
       "    </tr>\n",
       "    <tr>\n",
       "      <th>3</th>\n",
       "      <td>4.The Dark Knight(2008)</td>\n",
       "      <td>9</td>\n",
       "      <td>(2008)</td>\n",
       "    </tr>\n",
       "    <tr>\n",
       "      <th>4</th>\n",
       "      <td>5.12 Angry Men(1957)</td>\n",
       "      <td>9</td>\n",
       "      <td>(1957)</td>\n",
       "    </tr>\n",
       "    <tr>\n",
       "      <th>...</th>\n",
       "      <td>...</td>\n",
       "      <td>...</td>\n",
       "      <td>...</td>\n",
       "    </tr>\n",
       "    <tr>\n",
       "      <th>95</th>\n",
       "      <td>96.North by Northwest(1959)</td>\n",
       "      <td>8.3</td>\n",
       "      <td>(1959)</td>\n",
       "    </tr>\n",
       "    <tr>\n",
       "      <th>96</th>\n",
       "      <td>97.A Clockwork Orange(1971)</td>\n",
       "      <td>8.3</td>\n",
       "      <td>(1971)</td>\n",
       "    </tr>\n",
       "    <tr>\n",
       "      <th>97</th>\n",
       "      <td>98.Snatch(2000)</td>\n",
       "      <td>8.3</td>\n",
       "      <td>(2000)</td>\n",
       "    </tr>\n",
       "    <tr>\n",
       "      <th>98</th>\n",
       "      <td>99.Le fabuleux destin d'Amélie Poulain(2001)</td>\n",
       "      <td>8.3</td>\n",
       "      <td>(2001)</td>\n",
       "    </tr>\n",
       "    <tr>\n",
       "      <th>99</th>\n",
       "      <td>100.The Kid(1921)</td>\n",
       "      <td>8.3</td>\n",
       "      <td>(1921)</td>\n",
       "    </tr>\n",
       "  </tbody>\n",
       "</table>\n",
       "<p>100 rows × 3 columns</p>\n",
       "</div>"
      ],
      "text/plain": [
       "                                      Movie Name Rating Release Year\n",
       "0               1.The Shawshank Redemption(1994)    9.3       (1994)\n",
       "1                          2.The Godfather(1972)    9.2       (1972)\n",
       "2                 3.The Godfather: Part II(1974)      9       (1974)\n",
       "3                        4.The Dark Knight(2008)      9       (2008)\n",
       "4                           5.12 Angry Men(1957)      9       (1957)\n",
       "..                                           ...    ...          ...\n",
       "95                   96.North by Northwest(1959)    8.3       (1959)\n",
       "96                   97.A Clockwork Orange(1971)    8.3       (1971)\n",
       "97                               98.Snatch(2000)    8.3       (2000)\n",
       "98  99.Le fabuleux destin d'Amélie Poulain(2001)    8.3       (2001)\n",
       "99                             100.The Kid(1921)    8.3       (1921)\n",
       "\n",
       "[100 rows x 3 columns]"
      ]
     },
     "execution_count": 9,
     "metadata": {},
     "output_type": "execute_result"
    }
   ],
   "source": [
    "df = pd.DataFrame({'Movie Name':name, 'Rating':rating, 'Release Year':release_year})\n",
    "df"
   ]
  },
  {
   "cell_type": "markdown",
   "id": "af1d5a49",
   "metadata": {},
   "source": [
    "# Q.3\n",
    "### Write a python program to display IMDB’s Top rated 100 Indian movies’ data (i.e. name, rating, year of\n",
    "### release) and make data frame."
   ]
  },
  {
   "cell_type": "code",
   "execution_count": 10,
   "id": "c6f0d836",
   "metadata": {
    "scrolled": true
   },
   "outputs": [],
   "source": [
    "page = requests.get('https://www.imdb.com/list/ls009997493/')\n",
    "soup = BeautifulSoup(page.content)"
   ]
  },
  {
   "cell_type": "code",
   "execution_count": 11,
   "id": "9725beac",
   "metadata": {
    "scrolled": true
   },
   "outputs": [],
   "source": [
    "indian_movie = []\n",
    "\n",
    "for i in soup.find_all('h3', class_= 'lister-item-header'):\n",
    "    indian_movie.append(i.text.replace('\\n',''))"
   ]
  },
  {
   "cell_type": "code",
   "execution_count": 12,
   "id": "641347ea",
   "metadata": {
    "scrolled": true
   },
   "outputs": [],
   "source": [
    "rating = []\n",
    "\n",
    "for i in soup.find_all('div', class_= 'ipl-rating-star small'):\n",
    "    rating.append(i.text.replace('\\n',''))"
   ]
  },
  {
   "cell_type": "code",
   "execution_count": 13,
   "id": "f2d9ff30",
   "metadata": {
    "scrolled": true
   },
   "outputs": [],
   "source": [
    "release_year = []\n",
    "\n",
    "for i in soup.find_all('span', class_='lister-item-year text-muted unbold'):\n",
    "    release_year.append(i.text)"
   ]
  },
  {
   "cell_type": "code",
   "execution_count": 14,
   "id": "769e3c12",
   "metadata": {
    "scrolled": true
   },
   "outputs": [
    {
     "name": "stdout",
     "output_type": "stream",
     "text": [
      "100 100 100\n"
     ]
    }
   ],
   "source": [
    "print(len(indian_movie),len(rating),len(release_year))"
   ]
  },
  {
   "cell_type": "code",
   "execution_count": 15,
   "id": "da077f30",
   "metadata": {
    "scrolled": true
   },
   "outputs": [
    {
     "data": {
      "text/html": [
       "<div>\n",
       "<style scoped>\n",
       "    .dataframe tbody tr th:only-of-type {\n",
       "        vertical-align: middle;\n",
       "    }\n",
       "\n",
       "    .dataframe tbody tr th {\n",
       "        vertical-align: top;\n",
       "    }\n",
       "\n",
       "    .dataframe thead th {\n",
       "        text-align: right;\n",
       "    }\n",
       "</style>\n",
       "<table border=\"1\" class=\"dataframe\">\n",
       "  <thead>\n",
       "    <tr style=\"text-align: right;\">\n",
       "      <th></th>\n",
       "      <th>Top 100 Indian Movies</th>\n",
       "      <th>Rating</th>\n",
       "      <th>Release Date</th>\n",
       "    </tr>\n",
       "  </thead>\n",
       "  <tbody>\n",
       "    <tr>\n",
       "      <th>0</th>\n",
       "      <td>1.Rang De Basanti(2006)</td>\n",
       "      <td>8.1</td>\n",
       "      <td>(2006)</td>\n",
       "    </tr>\n",
       "    <tr>\n",
       "      <th>1</th>\n",
       "      <td>2.3 Idiots(2009)</td>\n",
       "      <td>8.4</td>\n",
       "      <td>(2009)</td>\n",
       "    </tr>\n",
       "    <tr>\n",
       "      <th>2</th>\n",
       "      <td>3.Taare Zameen Par(2007)</td>\n",
       "      <td>8.4</td>\n",
       "      <td>(2007)</td>\n",
       "    </tr>\n",
       "    <tr>\n",
       "      <th>3</th>\n",
       "      <td>4.Dil Chahta Hai(2001)</td>\n",
       "      <td>8.1</td>\n",
       "      <td>(2001)</td>\n",
       "    </tr>\n",
       "    <tr>\n",
       "      <th>4</th>\n",
       "      <td>5.Swades: We, the People(2004)</td>\n",
       "      <td>8.2</td>\n",
       "      <td>(2004)</td>\n",
       "    </tr>\n",
       "    <tr>\n",
       "      <th>...</th>\n",
       "      <td>...</td>\n",
       "      <td>...</td>\n",
       "      <td>...</td>\n",
       "    </tr>\n",
       "    <tr>\n",
       "      <th>95</th>\n",
       "      <td>96.Wake Up Sid(2009)</td>\n",
       "      <td>7.6</td>\n",
       "      <td>(2009)</td>\n",
       "    </tr>\n",
       "    <tr>\n",
       "      <th>96</th>\n",
       "      <td>97.Rangeela(1995)</td>\n",
       "      <td>7.5</td>\n",
       "      <td>(1995)</td>\n",
       "    </tr>\n",
       "    <tr>\n",
       "      <th>97</th>\n",
       "      <td>98.Shatranj Ke Khilari(1977)</td>\n",
       "      <td>7.7</td>\n",
       "      <td>(1977)</td>\n",
       "    </tr>\n",
       "    <tr>\n",
       "      <th>98</th>\n",
       "      <td>99.Pyaar Ka Punchnama(2011)</td>\n",
       "      <td>7.6</td>\n",
       "      <td>(2011)</td>\n",
       "    </tr>\n",
       "    <tr>\n",
       "      <th>99</th>\n",
       "      <td>100.Ek Hasina Thi(2004)</td>\n",
       "      <td>7.5</td>\n",
       "      <td>(2004)</td>\n",
       "    </tr>\n",
       "  </tbody>\n",
       "</table>\n",
       "<p>100 rows × 3 columns</p>\n",
       "</div>"
      ],
      "text/plain": [
       "             Top 100 Indian Movies Rating Release Date\n",
       "0          1.Rang De Basanti(2006)    8.1       (2006)\n",
       "1                 2.3 Idiots(2009)    8.4       (2009)\n",
       "2         3.Taare Zameen Par(2007)    8.4       (2007)\n",
       "3           4.Dil Chahta Hai(2001)    8.1       (2001)\n",
       "4   5.Swades: We, the People(2004)    8.2       (2004)\n",
       "..                             ...    ...          ...\n",
       "95            96.Wake Up Sid(2009)    7.6       (2009)\n",
       "96               97.Rangeela(1995)    7.5       (1995)\n",
       "97    98.Shatranj Ke Khilari(1977)    7.7       (1977)\n",
       "98     99.Pyaar Ka Punchnama(2011)    7.6       (2011)\n",
       "99         100.Ek Hasina Thi(2004)    7.5       (2004)\n",
       "\n",
       "[100 rows x 3 columns]"
      ]
     },
     "execution_count": 15,
     "metadata": {},
     "output_type": "execute_result"
    }
   ],
   "source": [
    "df = pd.DataFrame({'Top 100 Indian Movies':indian_movie,'Rating':rating,'Release Date':release_year})\n",
    "df"
   ]
  },
  {
   "cell_type": "markdown",
   "id": "2ebdb7c8",
   "metadata": {},
   "source": [
    "## Q.4"
   ]
  },
  {
   "cell_type": "markdown",
   "id": "d37fc6e1",
   "metadata": {},
   "source": [
    "### a) Top 10 ODI teams in men’s cricket along with the records for matches, points and rating."
   ]
  },
  {
   "cell_type": "code",
   "execution_count": 16,
   "id": "6dbf9692",
   "metadata": {
    "scrolled": true
   },
   "outputs": [],
   "source": [
    "page = requests.get('https://www.icc-cricket.com/rankings/mens/team-rankings/odi')\n",
    "soup = BeautifulSoup(page.content)"
   ]
  },
  {
   "cell_type": "code",
   "execution_count": 17,
   "id": "ed3cbc12",
   "metadata": {
    "scrolled": true
   },
   "outputs": [],
   "source": [
    "cricket_team = []\n",
    "\n",
    "for i in soup.find_all('td', class_='rankings-block__banner--team-name'):\n",
    "    cricket_team.append(i.text.replace('\\n',''))\n",
    "for i in soup.find_all('td', class_='table-body__cell rankings-table__team'):\n",
    "    cricket_team.append(i.text.replace('\\n',''))"
   ]
  },
  {
   "cell_type": "code",
   "execution_count": 18,
   "id": "31d31656",
   "metadata": {
    "scrolled": true
   },
   "outputs": [],
   "source": [
    "matches= []\n",
    "\n",
    "for i in soup.find_all('td', class_='rankings-block__banner--matches'):\n",
    "    matches.append(i.text)"
   ]
  },
  {
   "cell_type": "code",
   "execution_count": 19,
   "id": "51ddd3f9",
   "metadata": {
    "scrolled": true
   },
   "outputs": [],
   "source": [
    "points = []\n",
    "\n",
    "for i in soup.find_all('td', class_='rankings-block__banner--points'):\n",
    "    points.append(i.text)"
   ]
  },
  {
   "cell_type": "code",
   "execution_count": 20,
   "id": "d8aa4edb",
   "metadata": {
    "scrolled": true
   },
   "outputs": [],
   "source": [
    "rating = []\n",
    "\n",
    "for i in soup.find_all('td', class_='rankings-block__banner--rating u-text-right'):\n",
    "    rating.append(i.text.replace('\\n','').strip())\n",
    "for i in soup.find_all('td', class_='table-body__cell u-text-right rating'):\n",
    "    rating.append(i.text)"
   ]
  },
  {
   "cell_type": "code",
   "execution_count": 21,
   "id": "00a25d23",
   "metadata": {
    "scrolled": true
   },
   "outputs": [],
   "source": [
    "# Iteraing Points and Rating \n",
    "\n",
    "matches_points = []\n",
    "for i in soup.find_all('td', class_='table-body__cell u-center-text'):\n",
    "    matches_points.append(i.text)\n",
    "for i in range(0,len(matches_points)-1,2):\n",
    "    matches.append(matches_points[i])\n",
    "    points.append(matches_points[i+1])"
   ]
  },
  {
   "cell_type": "code",
   "execution_count": 22,
   "id": "0ffb796b",
   "metadata": {
    "scrolled": true
   },
   "outputs": [
    {
     "name": "stdout",
     "output_type": "stream",
     "text": [
      "20 20 20 20\n"
     ]
    }
   ],
   "source": [
    "print(len(cricket_team),len(matches),len(points),len(rating))"
   ]
  },
  {
   "cell_type": "code",
   "execution_count": 23,
   "id": "fcd29835",
   "metadata": {
    "scrolled": false
   },
   "outputs": [
    {
     "data": {
      "text/html": [
       "<div>\n",
       "<style scoped>\n",
       "    .dataframe tbody tr th:only-of-type {\n",
       "        vertical-align: middle;\n",
       "    }\n",
       "\n",
       "    .dataframe tbody tr th {\n",
       "        vertical-align: top;\n",
       "    }\n",
       "\n",
       "    .dataframe thead th {\n",
       "        text-align: right;\n",
       "    }\n",
       "</style>\n",
       "<table border=\"1\" class=\"dataframe\">\n",
       "  <thead>\n",
       "    <tr style=\"text-align: right;\">\n",
       "      <th></th>\n",
       "      <th>Teams</th>\n",
       "      <th>Matches</th>\n",
       "      <th>Points</th>\n",
       "      <th>Ratings</th>\n",
       "    </tr>\n",
       "  </thead>\n",
       "  <tbody>\n",
       "    <tr>\n",
       "      <th>0</th>\n",
       "      <td>New ZealandNZ</td>\n",
       "      <td>17</td>\n",
       "      <td>2,054</td>\n",
       "      <td>121</td>\n",
       "    </tr>\n",
       "    <tr>\n",
       "      <th>1</th>\n",
       "      <td>EnglandENG</td>\n",
       "      <td>32</td>\n",
       "      <td>3,793</td>\n",
       "      <td>119</td>\n",
       "    </tr>\n",
       "    <tr>\n",
       "      <th>2</th>\n",
       "      <td>AustraliaAUS</td>\n",
       "      <td>28</td>\n",
       "      <td>3,244</td>\n",
       "      <td>116</td>\n",
       "    </tr>\n",
       "    <tr>\n",
       "      <th>3</th>\n",
       "      <td>IndiaIND</td>\n",
       "      <td>32</td>\n",
       "      <td>3,624</td>\n",
       "      <td>113</td>\n",
       "    </tr>\n",
       "    <tr>\n",
       "      <th>4</th>\n",
       "      <td>South AfricaSA</td>\n",
       "      <td>25</td>\n",
       "      <td>2,459</td>\n",
       "      <td>98</td>\n",
       "    </tr>\n",
       "    <tr>\n",
       "      <th>5</th>\n",
       "      <td>PakistanPAK</td>\n",
       "      <td>27</td>\n",
       "      <td>2,524</td>\n",
       "      <td>93</td>\n",
       "    </tr>\n",
       "    <tr>\n",
       "      <th>6</th>\n",
       "      <td>BangladeshBAN</td>\n",
       "      <td>30</td>\n",
       "      <td>2,740</td>\n",
       "      <td>91</td>\n",
       "    </tr>\n",
       "    <tr>\n",
       "      <th>7</th>\n",
       "      <td>West IndiesWI</td>\n",
       "      <td>30</td>\n",
       "      <td>2,523</td>\n",
       "      <td>84</td>\n",
       "    </tr>\n",
       "    <tr>\n",
       "      <th>8</th>\n",
       "      <td>Sri LankaSL</td>\n",
       "      <td>32</td>\n",
       "      <td>2,657</td>\n",
       "      <td>83</td>\n",
       "    </tr>\n",
       "    <tr>\n",
       "      <th>9</th>\n",
       "      <td>AfghanistanAFG</td>\n",
       "      <td>17</td>\n",
       "      <td>1,054</td>\n",
       "      <td>62</td>\n",
       "    </tr>\n",
       "  </tbody>\n",
       "</table>\n",
       "</div>"
      ],
      "text/plain": [
       "            Teams Matches Points Ratings\n",
       "0   New ZealandNZ      17  2,054     121\n",
       "1      EnglandENG      32  3,793     119\n",
       "2    AustraliaAUS      28  3,244     116\n",
       "3        IndiaIND      32  3,624     113\n",
       "4  South AfricaSA      25  2,459      98\n",
       "5     PakistanPAK      27  2,524      93\n",
       "6   BangladeshBAN      30  2,740      91\n",
       "7   West IndiesWI      30  2,523      84\n",
       "8     Sri LankaSL      32  2,657      83\n",
       "9  AfghanistanAFG      17  1,054      62"
      ]
     },
     "execution_count": 23,
     "metadata": {},
     "output_type": "execute_result"
    }
   ],
   "source": [
    "df = pd.DataFrame({'Teams':cricket_team,'Matches':matches,'Points':points,'Ratings':rating})\n",
    "df[:10]"
   ]
  },
  {
   "cell_type": "markdown",
   "id": "77400601",
   "metadata": {},
   "source": [
    "### b) Top 10 ODI Batsmen in men along with the records of their team and rating."
   ]
  },
  {
   "cell_type": "code",
   "execution_count": 24,
   "id": "b000a627",
   "metadata": {},
   "outputs": [],
   "source": [
    "page = requests.get('https://www.icc-cricket.com/rankings/mens/player-rankings/odi/batting')\n",
    "soup = BeautifulSoup(page.content)"
   ]
  },
  {
   "cell_type": "code",
   "execution_count": 25,
   "id": "260c4494",
   "metadata": {},
   "outputs": [],
   "source": [
    "player = []\n",
    "\n",
    "for i in soup.find_all('td', class_='rankings-block__top-player-container'):\n",
    "    player.append(i.text.replace('\\n',''))\n",
    "for i in soup.find_all('td', class_='table-body__cell rankings-table__name name'):\n",
    "    player.append(i.text.replace('\\n',''))"
   ]
  },
  {
   "cell_type": "code",
   "execution_count": 26,
   "id": "67aaf406",
   "metadata": {},
   "outputs": [],
   "source": [
    "team = []\n",
    "\n",
    "for i in soup.find_all('div', class_='rankings-block__banner--nationality'):\n",
    "    team.append(i.text.replace('\\n','').strip())\n",
    "for i in soup.find_all('td', class_='table-body__cell nationality-logo rankings-table__team'):\n",
    "    team.append(i.text.replace('\\n',''))"
   ]
  },
  {
   "cell_type": "code",
   "execution_count": 27,
   "id": "8d5c8a99",
   "metadata": {},
   "outputs": [],
   "source": [
    "rating = []\n",
    "\n",
    "for i in soup.find_all('div', class_='rankings-block__banner--rating'):\n",
    "    rating.append(i.text)\n",
    "for i in soup.find_all('td', class_='table-body__cell rating'):\n",
    "    rating.append(i.text)"
   ]
  },
  {
   "cell_type": "code",
   "execution_count": 28,
   "id": "5cdb1187",
   "metadata": {},
   "outputs": [
    {
     "name": "stdout",
     "output_type": "stream",
     "text": [
      "100 100 100\n"
     ]
    }
   ],
   "source": [
    "print(len(player),len(team),len(rating))"
   ]
  },
  {
   "cell_type": "code",
   "execution_count": 29,
   "id": "45171f50",
   "metadata": {},
   "outputs": [
    {
     "data": {
      "text/html": [
       "<div>\n",
       "<style scoped>\n",
       "    .dataframe tbody tr th:only-of-type {\n",
       "        vertical-align: middle;\n",
       "    }\n",
       "\n",
       "    .dataframe tbody tr th {\n",
       "        vertical-align: top;\n",
       "    }\n",
       "\n",
       "    .dataframe thead th {\n",
       "        text-align: right;\n",
       "    }\n",
       "</style>\n",
       "<table border=\"1\" class=\"dataframe\">\n",
       "  <thead>\n",
       "    <tr style=\"text-align: right;\">\n",
       "      <th></th>\n",
       "      <th>Top Batsmen</th>\n",
       "      <th>Team Name</th>\n",
       "      <th>Ratings</th>\n",
       "    </tr>\n",
       "  </thead>\n",
       "  <tbody>\n",
       "    <tr>\n",
       "      <th>0</th>\n",
       "      <td>Babar Azam</td>\n",
       "      <td>PAK</td>\n",
       "      <td>873</td>\n",
       "    </tr>\n",
       "    <tr>\n",
       "      <th>1</th>\n",
       "      <td>Virat Kohli</td>\n",
       "      <td>IND</td>\n",
       "      <td>844</td>\n",
       "    </tr>\n",
       "    <tr>\n",
       "      <th>2</th>\n",
       "      <td>Rohit Sharma</td>\n",
       "      <td>IND</td>\n",
       "      <td>813</td>\n",
       "    </tr>\n",
       "    <tr>\n",
       "      <th>3</th>\n",
       "      <td>Ross Taylor</td>\n",
       "      <td>NZ</td>\n",
       "      <td>801</td>\n",
       "    </tr>\n",
       "    <tr>\n",
       "      <th>4</th>\n",
       "      <td>Aaron Finch</td>\n",
       "      <td>AUS</td>\n",
       "      <td>779</td>\n",
       "    </tr>\n",
       "    <tr>\n",
       "      <th>5</th>\n",
       "      <td>Jonny Bairstow</td>\n",
       "      <td>ENG</td>\n",
       "      <td>775</td>\n",
       "    </tr>\n",
       "    <tr>\n",
       "      <th>6</th>\n",
       "      <td>David Warner</td>\n",
       "      <td>AUS</td>\n",
       "      <td>762</td>\n",
       "    </tr>\n",
       "    <tr>\n",
       "      <th>7</th>\n",
       "      <td>Shai Hope</td>\n",
       "      <td>WI</td>\n",
       "      <td>758</td>\n",
       "    </tr>\n",
       "    <tr>\n",
       "      <th>8</th>\n",
       "      <td>Kane Williamson</td>\n",
       "      <td>NZ</td>\n",
       "      <td>754</td>\n",
       "    </tr>\n",
       "    <tr>\n",
       "      <th>9</th>\n",
       "      <td>Quinton de Kock</td>\n",
       "      <td>SA</td>\n",
       "      <td>743</td>\n",
       "    </tr>\n",
       "  </tbody>\n",
       "</table>\n",
       "</div>"
      ],
      "text/plain": [
       "       Top Batsmen Team Name Ratings\n",
       "0       Babar Azam       PAK     873\n",
       "1      Virat Kohli       IND     844\n",
       "2     Rohit Sharma       IND     813\n",
       "3      Ross Taylor        NZ     801\n",
       "4      Aaron Finch       AUS     779\n",
       "5   Jonny Bairstow       ENG     775\n",
       "6     David Warner       AUS     762\n",
       "7        Shai Hope        WI     758\n",
       "8  Kane Williamson        NZ     754\n",
       "9  Quinton de Kock        SA     743"
      ]
     },
     "execution_count": 29,
     "metadata": {},
     "output_type": "execute_result"
    }
   ],
   "source": [
    "df = pd.DataFrame({'Top Batsmen':player,'Team Name':team,'Ratings':rating})\n",
    "df[:10]"
   ]
  },
  {
   "cell_type": "markdown",
   "id": "0b2cadc2",
   "metadata": {},
   "source": [
    "### c) Top 10 ODI bowlers along with the records of their team and rating."
   ]
  },
  {
   "cell_type": "code",
   "execution_count": 30,
   "id": "fda4e0e6",
   "metadata": {},
   "outputs": [],
   "source": [
    "page = requests.get('https://www.icc-cricket.com/rankings/mens/player-rankings/odi/bowling')\n",
    "soup = BeautifulSoup(page.content)"
   ]
  },
  {
   "cell_type": "code",
   "execution_count": 31,
   "id": "c3fccd27",
   "metadata": {},
   "outputs": [],
   "source": [
    "player = []\n",
    "\n",
    "for i in soup.find_all('td', class_='rankings-block__top-player-container'):\n",
    "    player.append(i.text.replace('\\n',''))\n",
    "for i in soup.find_all('td', class_='table-body__cell rankings-table__name name'):\n",
    "    player.append(i.text.replace('\\n',''))"
   ]
  },
  {
   "cell_type": "code",
   "execution_count": 32,
   "id": "6c1e440d",
   "metadata": {},
   "outputs": [],
   "source": [
    "team = []\n",
    "for i in soup.find_all('div', class_='rankings-block__banner--nationality'):\n",
    "    team.append(i.text.replace('\\n',''))\n",
    "for i in soup.find_all('td', class_='table-body__cell nationality-logo rankings-table__team'):\n",
    "    team.append(i.text.replace('\\n',''))"
   ]
  },
  {
   "cell_type": "code",
   "execution_count": 33,
   "id": "bbc67191",
   "metadata": {},
   "outputs": [],
   "source": [
    "rating = []\n",
    "for i in soup.find_all('div', class_='rankings-block__banner--rating'):\n",
    "    rating.append(i.text)\n",
    "for i in soup.find_all('td', class_='table-body__cell rating'):\n",
    "    rating.append(i.text)"
   ]
  },
  {
   "cell_type": "code",
   "execution_count": 34,
   "id": "c4b31967",
   "metadata": {},
   "outputs": [
    {
     "name": "stdout",
     "output_type": "stream",
     "text": [
      "100 100 100\n"
     ]
    }
   ],
   "source": [
    "print(len(player),len(team),len(rating))"
   ]
  },
  {
   "cell_type": "code",
   "execution_count": 35,
   "id": "bac60d5c",
   "metadata": {},
   "outputs": [
    {
     "data": {
      "text/html": [
       "<div>\n",
       "<style scoped>\n",
       "    .dataframe tbody tr th:only-of-type {\n",
       "        vertical-align: middle;\n",
       "    }\n",
       "\n",
       "    .dataframe tbody tr th {\n",
       "        vertical-align: top;\n",
       "    }\n",
       "\n",
       "    .dataframe thead th {\n",
       "        text-align: right;\n",
       "    }\n",
       "</style>\n",
       "<table border=\"1\" class=\"dataframe\">\n",
       "  <thead>\n",
       "    <tr style=\"text-align: right;\">\n",
       "      <th></th>\n",
       "      <th>Top Bowler</th>\n",
       "      <th>Team Name</th>\n",
       "      <th>Ratings</th>\n",
       "    </tr>\n",
       "  </thead>\n",
       "  <tbody>\n",
       "    <tr>\n",
       "      <th>0</th>\n",
       "      <td>Trent Boult</td>\n",
       "      <td>NZ</td>\n",
       "      <td>737</td>\n",
       "    </tr>\n",
       "    <tr>\n",
       "      <th>1</th>\n",
       "      <td>Josh Hazlewood</td>\n",
       "      <td>AUS</td>\n",
       "      <td>709</td>\n",
       "    </tr>\n",
       "    <tr>\n",
       "      <th>2</th>\n",
       "      <td>Mujeeb Ur Rahman</td>\n",
       "      <td>AFG</td>\n",
       "      <td>708</td>\n",
       "    </tr>\n",
       "    <tr>\n",
       "      <th>3</th>\n",
       "      <td>Chris Woakes</td>\n",
       "      <td>ENG</td>\n",
       "      <td>700</td>\n",
       "    </tr>\n",
       "    <tr>\n",
       "      <th>4</th>\n",
       "      <td>Mehedi Hasan</td>\n",
       "      <td>BAN</td>\n",
       "      <td>692</td>\n",
       "    </tr>\n",
       "    <tr>\n",
       "      <th>5</th>\n",
       "      <td>Matt Henry</td>\n",
       "      <td>NZ</td>\n",
       "      <td>691</td>\n",
       "    </tr>\n",
       "    <tr>\n",
       "      <th>6</th>\n",
       "      <td>Jasprit Bumrah</td>\n",
       "      <td>IND</td>\n",
       "      <td>679</td>\n",
       "    </tr>\n",
       "    <tr>\n",
       "      <th>7</th>\n",
       "      <td>Mitchell Starc</td>\n",
       "      <td>AUS</td>\n",
       "      <td>652</td>\n",
       "    </tr>\n",
       "    <tr>\n",
       "      <th>8</th>\n",
       "      <td>Shakib Al Hasan</td>\n",
       "      <td>BAN</td>\n",
       "      <td>650</td>\n",
       "    </tr>\n",
       "    <tr>\n",
       "      <th>9</th>\n",
       "      <td>Kagiso Rabada</td>\n",
       "      <td>SA</td>\n",
       "      <td>643</td>\n",
       "    </tr>\n",
       "  </tbody>\n",
       "</table>\n",
       "</div>"
      ],
      "text/plain": [
       "         Top Bowler               Team Name Ratings\n",
       "0       Trent Boult  NZ                         737\n",
       "1    Josh Hazlewood                     AUS     709\n",
       "2  Mujeeb Ur Rahman                     AFG     708\n",
       "3      Chris Woakes                     ENG     700\n",
       "4      Mehedi Hasan                     BAN     692\n",
       "5        Matt Henry                      NZ     691\n",
       "6    Jasprit Bumrah                     IND     679\n",
       "7    Mitchell Starc                     AUS     652\n",
       "8   Shakib Al Hasan                     BAN     650\n",
       "9     Kagiso Rabada                      SA     643"
      ]
     },
     "execution_count": 35,
     "metadata": {},
     "output_type": "execute_result"
    }
   ],
   "source": [
    "df = pd.DataFrame({'Top Bowler':player,'Team Name':team,'Ratings':rating})\n",
    "df[:10]"
   ]
  },
  {
   "cell_type": "markdown",
   "id": "2b874a70",
   "metadata": {},
   "source": [
    "# Q.5"
   ]
  },
  {
   "cell_type": "markdown",
   "id": "9a07c393",
   "metadata": {},
   "source": [
    "### a) Top 10 ODI teams in women’s cricket along with the records for matches, points and rating."
   ]
  },
  {
   "cell_type": "code",
   "execution_count": 36,
   "id": "9c0a50ea",
   "metadata": {},
   "outputs": [],
   "source": [
    "page = requests.get('https://www.icc-cricket.com/rankings/womens/team-rankings/odi')\n",
    "soup = BeautifulSoup(page.content)"
   ]
  },
  {
   "cell_type": "code",
   "execution_count": 37,
   "id": "4e816375",
   "metadata": {},
   "outputs": [],
   "source": [
    "cricket_team = []\n",
    "\n",
    "for i in soup.find_all('td', class_='rankings-block__banner--team-name'):\n",
    "    cricket_team.append(i.text.replace('\\n',''))\n",
    "for i in soup.find_all('td', class_='table-body__cell rankings-table__team'):\n",
    "    cricket_team.append(i.text.replace('\\n',''))"
   ]
  },
  {
   "cell_type": "code",
   "execution_count": 38,
   "id": "ab9c217a",
   "metadata": {},
   "outputs": [],
   "source": [
    "matches= []\n",
    "\n",
    "for i in soup.find_all('td', class_='rankings-block__banner--matches'):\n",
    "    matches.append(i.text)"
   ]
  },
  {
   "cell_type": "code",
   "execution_count": 39,
   "id": "c1f2497e",
   "metadata": {},
   "outputs": [],
   "source": [
    "points = []\n",
    "\n",
    "for i in soup.find_all('td', class_='rankings-block__banner--points'):\n",
    "    points.append(i.text)"
   ]
  },
  {
   "cell_type": "code",
   "execution_count": 40,
   "id": "8013cc18",
   "metadata": {},
   "outputs": [],
   "source": [
    "rating = []\n",
    "\n",
    "for i in soup.find_all('td', class_='rankings-block__banner--rating u-text-right'):\n",
    "    rating.append(i.text.replace('\\n','').strip())\n",
    "for i in soup.find_all('td', class_='table-body__cell u-text-right rating'):\n",
    "    rating.append(i.text)"
   ]
  },
  {
   "cell_type": "code",
   "execution_count": 41,
   "id": "5c3d8eb9",
   "metadata": {},
   "outputs": [],
   "source": [
    "# Iteraing Points and Rating \n",
    "\n",
    "matches_points = []\n",
    "for i in soup.find_all('td', class_='table-body__cell u-center-text'):\n",
    "    matches_points.append(i.text)\n",
    "for i in range(0,len(matches_points)-1,2):\n",
    "    matches.append(matches_points[i])\n",
    "    points.append(matches_points[i+1])"
   ]
  },
  {
   "cell_type": "code",
   "execution_count": 42,
   "id": "efc835a4",
   "metadata": {},
   "outputs": [
    {
     "name": "stdout",
     "output_type": "stream",
     "text": [
      "11 11 11 11\n"
     ]
    }
   ],
   "source": [
    "print(len(cricket_team),len(matches),len(points),len(rating))"
   ]
  },
  {
   "cell_type": "code",
   "execution_count": 43,
   "id": "d54ddbf0",
   "metadata": {},
   "outputs": [
    {
     "data": {
      "text/html": [
       "<div>\n",
       "<style scoped>\n",
       "    .dataframe tbody tr th:only-of-type {\n",
       "        vertical-align: middle;\n",
       "    }\n",
       "\n",
       "    .dataframe tbody tr th {\n",
       "        vertical-align: top;\n",
       "    }\n",
       "\n",
       "    .dataframe thead th {\n",
       "        text-align: right;\n",
       "    }\n",
       "</style>\n",
       "<table border=\"1\" class=\"dataframe\">\n",
       "  <thead>\n",
       "    <tr style=\"text-align: right;\">\n",
       "      <th></th>\n",
       "      <th>Teams</th>\n",
       "      <th>Matches</th>\n",
       "      <th>Points</th>\n",
       "      <th>Ratings</th>\n",
       "    </tr>\n",
       "  </thead>\n",
       "  <tbody>\n",
       "    <tr>\n",
       "      <th>0</th>\n",
       "      <td>AustraliaAUS</td>\n",
       "      <td>17</td>\n",
       "      <td>2,746</td>\n",
       "      <td>162</td>\n",
       "    </tr>\n",
       "    <tr>\n",
       "      <th>1</th>\n",
       "      <td>South AfricaSA</td>\n",
       "      <td>19</td>\n",
       "      <td>2,307</td>\n",
       "      <td>121</td>\n",
       "    </tr>\n",
       "    <tr>\n",
       "      <th>2</th>\n",
       "      <td>EnglandENG</td>\n",
       "      <td>18</td>\n",
       "      <td>2,148</td>\n",
       "      <td>119</td>\n",
       "    </tr>\n",
       "    <tr>\n",
       "      <th>3</th>\n",
       "      <td>IndiaIND</td>\n",
       "      <td>17</td>\n",
       "      <td>1,899</td>\n",
       "      <td>112</td>\n",
       "    </tr>\n",
       "    <tr>\n",
       "      <th>4</th>\n",
       "      <td>BangladeshBAN</td>\n",
       "      <td>5</td>\n",
       "      <td>475</td>\n",
       "      <td>95</td>\n",
       "    </tr>\n",
       "    <tr>\n",
       "      <th>5</th>\n",
       "      <td>New ZealandNZ</td>\n",
       "      <td>19</td>\n",
       "      <td>1,668</td>\n",
       "      <td>88</td>\n",
       "    </tr>\n",
       "    <tr>\n",
       "      <th>6</th>\n",
       "      <td>West IndiesWI</td>\n",
       "      <td>19</td>\n",
       "      <td>1,658</td>\n",
       "      <td>87</td>\n",
       "    </tr>\n",
       "    <tr>\n",
       "      <th>7</th>\n",
       "      <td>PakistanPAK</td>\n",
       "      <td>18</td>\n",
       "      <td>1,226</td>\n",
       "      <td>68</td>\n",
       "    </tr>\n",
       "    <tr>\n",
       "      <th>8</th>\n",
       "      <td>IrelandIRE</td>\n",
       "      <td>5</td>\n",
       "      <td>240</td>\n",
       "      <td>48</td>\n",
       "    </tr>\n",
       "    <tr>\n",
       "      <th>9</th>\n",
       "      <td>Sri LankaSL</td>\n",
       "      <td>5</td>\n",
       "      <td>233</td>\n",
       "      <td>47</td>\n",
       "    </tr>\n",
       "  </tbody>\n",
       "</table>\n",
       "</div>"
      ],
      "text/plain": [
       "            Teams Matches Points Ratings\n",
       "0    AustraliaAUS      17  2,746     162\n",
       "1  South AfricaSA      19  2,307     121\n",
       "2      EnglandENG      18  2,148     119\n",
       "3        IndiaIND      17  1,899     112\n",
       "4   BangladeshBAN       5    475      95\n",
       "5   New ZealandNZ      19  1,668      88\n",
       "6   West IndiesWI      19  1,658      87\n",
       "7     PakistanPAK      18  1,226      68\n",
       "8      IrelandIRE       5    240      48\n",
       "9     Sri LankaSL       5    233      47"
      ]
     },
     "execution_count": 43,
     "metadata": {},
     "output_type": "execute_result"
    }
   ],
   "source": [
    "df = pd.DataFrame({'Teams':cricket_team,'Matches':matches,'Points':points,'Ratings':rating})\n",
    "df[:10]"
   ]
  },
  {
   "cell_type": "markdown",
   "id": "63f3fc83",
   "metadata": {},
   "source": [
    "### b) Top 10 women’s ODI players along with the records of their team and rating."
   ]
  },
  {
   "cell_type": "code",
   "execution_count": 44,
   "id": "036f864e",
   "metadata": {},
   "outputs": [],
   "source": [
    "page = requests.get('https://www.icc-cricket.com/rankings/womens/player-rankings/odi/batting')\n",
    "soup = BeautifulSoup(page.content)"
   ]
  },
  {
   "cell_type": "code",
   "execution_count": 45,
   "id": "38f00bec",
   "metadata": {},
   "outputs": [],
   "source": [
    "player = []\n",
    "\n",
    "for i in soup.find_all('td', class_='rankings-block__top-player-container'):\n",
    "    player.append(i.text.replace('\\n',''))\n",
    "for i in soup.find_all('td', class_='table-body__cell rankings-table__name name'):\n",
    "    player.append(i.text.replace('\\n',''))"
   ]
  },
  {
   "cell_type": "code",
   "execution_count": 46,
   "id": "a040ccdc",
   "metadata": {},
   "outputs": [],
   "source": [
    "team = []\n",
    "\n",
    "for i in soup.find_all('div', class_='rankings-block__banner--nationality'):\n",
    "    team.append(i.text.replace('\\n','').strip())\n",
    "for i in soup.find_all('td', class_='table-body__cell nationality-logo rankings-table__team'):\n",
    "    team.append(i.text.replace('\\n',''))"
   ]
  },
  {
   "cell_type": "code",
   "execution_count": 47,
   "id": "06c0e851",
   "metadata": {},
   "outputs": [],
   "source": [
    "rating = []\n",
    "\n",
    "for i in soup.find_all('div', class_='rankings-block__banner--rating'):\n",
    "    rating.append(i.text)\n",
    "for i in soup.find_all('td', class_='table-body__cell rating'):\n",
    "    rating.append(i.text)"
   ]
  },
  {
   "cell_type": "code",
   "execution_count": 48,
   "id": "c900c197",
   "metadata": {},
   "outputs": [
    {
     "name": "stdout",
     "output_type": "stream",
     "text": [
      "100 100 100\n"
     ]
    }
   ],
   "source": [
    "print(len(player),len(team),len(rating))"
   ]
  },
  {
   "cell_type": "code",
   "execution_count": 49,
   "id": "911d0cfb",
   "metadata": {},
   "outputs": [
    {
     "data": {
      "text/html": [
       "<div>\n",
       "<style scoped>\n",
       "    .dataframe tbody tr th:only-of-type {\n",
       "        vertical-align: middle;\n",
       "    }\n",
       "\n",
       "    .dataframe tbody tr th {\n",
       "        vertical-align: top;\n",
       "    }\n",
       "\n",
       "    .dataframe thead th {\n",
       "        text-align: right;\n",
       "    }\n",
       "</style>\n",
       "<table border=\"1\" class=\"dataframe\">\n",
       "  <thead>\n",
       "    <tr style=\"text-align: right;\">\n",
       "      <th></th>\n",
       "      <th>Top Batsmen</th>\n",
       "      <th>Team Name</th>\n",
       "      <th>Ratings</th>\n",
       "    </tr>\n",
       "  </thead>\n",
       "  <tbody>\n",
       "    <tr>\n",
       "      <th>0</th>\n",
       "      <td>Lizelle Lee</td>\n",
       "      <td>SA</td>\n",
       "      <td>761</td>\n",
       "    </tr>\n",
       "    <tr>\n",
       "      <th>1</th>\n",
       "      <td>Alyssa Healy</td>\n",
       "      <td>AUS</td>\n",
       "      <td>750</td>\n",
       "    </tr>\n",
       "    <tr>\n",
       "      <th>2</th>\n",
       "      <td>Mithali Raj</td>\n",
       "      <td>IND</td>\n",
       "      <td>738</td>\n",
       "    </tr>\n",
       "    <tr>\n",
       "      <th>3</th>\n",
       "      <td>Tammy Beaumont</td>\n",
       "      <td>ENG</td>\n",
       "      <td>728</td>\n",
       "    </tr>\n",
       "    <tr>\n",
       "      <th>4</th>\n",
       "      <td>Amy Satterthwaite</td>\n",
       "      <td>NZ</td>\n",
       "      <td>717</td>\n",
       "    </tr>\n",
       "    <tr>\n",
       "      <th>5</th>\n",
       "      <td>Smriti Mandhana</td>\n",
       "      <td>IND</td>\n",
       "      <td>710</td>\n",
       "    </tr>\n",
       "    <tr>\n",
       "      <th>6</th>\n",
       "      <td>Meg Lanning</td>\n",
       "      <td>AUS</td>\n",
       "      <td>699</td>\n",
       "    </tr>\n",
       "    <tr>\n",
       "      <th>7</th>\n",
       "      <td>Beth Mooney</td>\n",
       "      <td>AUS</td>\n",
       "      <td>690</td>\n",
       "    </tr>\n",
       "    <tr>\n",
       "      <th>8</th>\n",
       "      <td>Stafanie Taylor</td>\n",
       "      <td>WI</td>\n",
       "      <td>676</td>\n",
       "    </tr>\n",
       "    <tr>\n",
       "      <th>9</th>\n",
       "      <td>Heather Knight</td>\n",
       "      <td>ENG</td>\n",
       "      <td>674</td>\n",
       "    </tr>\n",
       "  </tbody>\n",
       "</table>\n",
       "</div>"
      ],
      "text/plain": [
       "         Top Batsmen Team Name Ratings\n",
       "0        Lizelle Lee        SA     761\n",
       "1       Alyssa Healy       AUS     750\n",
       "2        Mithali Raj       IND     738\n",
       "3     Tammy Beaumont       ENG     728\n",
       "4  Amy Satterthwaite        NZ     717\n",
       "5    Smriti Mandhana       IND     710\n",
       "6        Meg Lanning       AUS     699\n",
       "7        Beth Mooney       AUS     690\n",
       "8    Stafanie Taylor        WI     676\n",
       "9     Heather Knight       ENG     674"
      ]
     },
     "execution_count": 49,
     "metadata": {},
     "output_type": "execute_result"
    }
   ],
   "source": [
    "df = pd.DataFrame({'Top Batsmen':player,'Team Name':team,'Ratings':rating})\n",
    "df[:10]"
   ]
  },
  {
   "cell_type": "markdown",
   "id": "f9dd68fe",
   "metadata": {},
   "source": [
    "### c) Top 10 women’s ODI all-rounder along with the records of their team and rating."
   ]
  },
  {
   "cell_type": "code",
   "execution_count": 50,
   "id": "3e609e3d",
   "metadata": {},
   "outputs": [],
   "source": [
    "page = requests.get('https://www.icc-cricket.com/rankings/womens/player-rankings/odi/all-rounder')\n",
    "soup = BeautifulSoup(page.content)"
   ]
  },
  {
   "cell_type": "code",
   "execution_count": 51,
   "id": "3428f350",
   "metadata": {},
   "outputs": [],
   "source": [
    "player = []\n",
    "\n",
    "for i in soup.find_all('td', class_='rankings-block__top-player-container'):\n",
    "    player.append(i.text.replace('\\n',''))\n",
    "for i in soup.find_all('td', class_='table-body__cell rankings-table__name name'):\n",
    "    player.append(i.text.replace('\\n',''))"
   ]
  },
  {
   "cell_type": "code",
   "execution_count": 52,
   "id": "f85e13df",
   "metadata": {},
   "outputs": [],
   "source": [
    "team = []\n",
    "\n",
    "for i in soup.find_all('div', class_='rankings-block__banner--nationality'):\n",
    "    team.append(i.text.replace('\\n','').strip())\n",
    "for i in soup.find_all('td', class_='table-body__cell nationality-logo rankings-table__team'):\n",
    "    team.append(i.text.replace('\\n',''))"
   ]
  },
  {
   "cell_type": "code",
   "execution_count": 53,
   "id": "08b7b136",
   "metadata": {},
   "outputs": [],
   "source": [
    "rating = []\n",
    "\n",
    "for i in soup.find_all('div', class_='rankings-block__banner--rating'):\n",
    "    rating.append(i.text)\n",
    "for i in soup.find_all('td', class_='table-body__cell rating'):\n",
    "    rating.append(i.text)"
   ]
  },
  {
   "cell_type": "code",
   "execution_count": 54,
   "id": "ee0c2979",
   "metadata": {},
   "outputs": [
    {
     "name": "stdout",
     "output_type": "stream",
     "text": [
      "20 20 20\n"
     ]
    }
   ],
   "source": [
    "print(len(player),len(team),len(rating))"
   ]
  },
  {
   "cell_type": "code",
   "execution_count": 55,
   "id": "ab513405",
   "metadata": {},
   "outputs": [
    {
     "data": {
      "text/html": [
       "<div>\n",
       "<style scoped>\n",
       "    .dataframe tbody tr th:only-of-type {\n",
       "        vertical-align: middle;\n",
       "    }\n",
       "\n",
       "    .dataframe tbody tr th {\n",
       "        vertical-align: top;\n",
       "    }\n",
       "\n",
       "    .dataframe thead th {\n",
       "        text-align: right;\n",
       "    }\n",
       "</style>\n",
       "<table border=\"1\" class=\"dataframe\">\n",
       "  <thead>\n",
       "    <tr style=\"text-align: right;\">\n",
       "      <th></th>\n",
       "      <th>Top Batsmen</th>\n",
       "      <th>Team Name</th>\n",
       "      <th>Ratings</th>\n",
       "    </tr>\n",
       "  </thead>\n",
       "  <tbody>\n",
       "    <tr>\n",
       "      <th>0</th>\n",
       "      <td>Marizanne Kapp</td>\n",
       "      <td>SA</td>\n",
       "      <td>384</td>\n",
       "    </tr>\n",
       "    <tr>\n",
       "      <th>1</th>\n",
       "      <td>Natalie Sciver</td>\n",
       "      <td>ENG</td>\n",
       "      <td>372</td>\n",
       "    </tr>\n",
       "    <tr>\n",
       "      <th>2</th>\n",
       "      <td>Ellyse Perry</td>\n",
       "      <td>AUS</td>\n",
       "      <td>365</td>\n",
       "    </tr>\n",
       "    <tr>\n",
       "      <th>3</th>\n",
       "      <td>Stafanie Taylor</td>\n",
       "      <td>WI</td>\n",
       "      <td>319</td>\n",
       "    </tr>\n",
       "    <tr>\n",
       "      <th>4</th>\n",
       "      <td>Deepti Sharma</td>\n",
       "      <td>IND</td>\n",
       "      <td>299</td>\n",
       "    </tr>\n",
       "    <tr>\n",
       "      <th>5</th>\n",
       "      <td>Ashleigh Gardner</td>\n",
       "      <td>AUS</td>\n",
       "      <td>275</td>\n",
       "    </tr>\n",
       "    <tr>\n",
       "      <th>6</th>\n",
       "      <td>Dane van Niekerk</td>\n",
       "      <td>SA</td>\n",
       "      <td>274</td>\n",
       "    </tr>\n",
       "    <tr>\n",
       "      <th>7</th>\n",
       "      <td>Hayley Matthews</td>\n",
       "      <td>WI</td>\n",
       "      <td>272</td>\n",
       "    </tr>\n",
       "    <tr>\n",
       "      <th>8</th>\n",
       "      <td>Jess Jonassen</td>\n",
       "      <td>AUS</td>\n",
       "      <td>272</td>\n",
       "    </tr>\n",
       "    <tr>\n",
       "      <th>9</th>\n",
       "      <td>Katherine Brunt</td>\n",
       "      <td>ENG</td>\n",
       "      <td>272</td>\n",
       "    </tr>\n",
       "  </tbody>\n",
       "</table>\n",
       "</div>"
      ],
      "text/plain": [
       "        Top Batsmen Team Name Ratings\n",
       "0    Marizanne Kapp        SA     384\n",
       "1    Natalie Sciver       ENG     372\n",
       "2      Ellyse Perry       AUS     365\n",
       "3   Stafanie Taylor        WI     319\n",
       "4     Deepti Sharma       IND     299\n",
       "5  Ashleigh Gardner       AUS     275\n",
       "6  Dane van Niekerk        SA     274\n",
       "7   Hayley Matthews        WI     272\n",
       "8     Jess Jonassen       AUS     272\n",
       "9   Katherine Brunt       ENG     272"
      ]
     },
     "execution_count": 55,
     "metadata": {},
     "output_type": "execute_result"
    }
   ],
   "source": [
    "df = pd.DataFrame({'Top Batsmen':player,'Team Name':team,'Ratings':rating})\n",
    "df[:10]"
   ]
  },
  {
   "cell_type": "markdown",
   "id": "642e666c",
   "metadata": {},
   "source": [
    "# Q.6\n",
    "### Write a python program to scrape details of all the posts from coreyms.com. Scrape the heading, date, content\n",
    "### and the code for the video from the link for the youtube video from the post."
   ]
  },
  {
   "cell_type": "code",
   "execution_count": 56,
   "id": "29b5d42d",
   "metadata": {
    "scrolled": true
   },
   "outputs": [],
   "source": [
    "page  = requests.get('https://coreyms.com/')\n",
    "soup = BeautifulSoup(page.content)"
   ]
  },
  {
   "cell_type": "code",
   "execution_count": 57,
   "id": "aac70d69",
   "metadata": {
    "scrolled": true
   },
   "outputs": [],
   "source": [
    "heading = []\n",
    "\n",
    "for i in soup.find_all('a', class_='entry-title-link'):\n",
    "    heading.append(i.text)"
   ]
  },
  {
   "cell_type": "code",
   "execution_count": 58,
   "id": "9542e9a1",
   "metadata": {
    "scrolled": true
   },
   "outputs": [],
   "source": [
    "date = []\n",
    "\n",
    "for i in soup.find_all('time', class_='entry-time'):\n",
    "    date.append(i.text)"
   ]
  },
  {
   "cell_type": "code",
   "execution_count": 59,
   "id": "2bb81c09",
   "metadata": {
    "scrolled": true
   },
   "outputs": [],
   "source": [
    "content = []\n",
    "\n",
    "for i in soup.find_all('div', itemprop='text'):\n",
    "    content.append(i.text.replace('\\n',''))"
   ]
  },
  {
   "cell_type": "code",
   "execution_count": 60,
   "id": "fe18fe5a",
   "metadata": {
    "scrolled": true
   },
   "outputs": [],
   "source": [
    "video_link = []\n",
    "\n",
    "for i in soup.find_all('iframe', class_='youtube-player'):\n",
    "    video_link.append(i['src'])"
   ]
  },
  {
   "cell_type": "code",
   "execution_count": 61,
   "id": "3c0e0e68",
   "metadata": {
    "scrolled": true
   },
   "outputs": [
    {
     "name": "stdout",
     "output_type": "stream",
     "text": [
      "10 10 10 9\n"
     ]
    }
   ],
   "source": [
    "print(len(heading),len(date),len(content),len(video_link))"
   ]
  },
  {
   "cell_type": "code",
   "execution_count": 62,
   "id": "4decfa9c",
   "metadata": {
    "scrolled": true
   },
   "outputs": [
    {
     "data": {
      "text/html": [
       "<div>\n",
       "<style scoped>\n",
       "    .dataframe tbody tr th:only-of-type {\n",
       "        vertical-align: middle;\n",
       "    }\n",
       "\n",
       "    .dataframe tbody tr th {\n",
       "        vertical-align: top;\n",
       "    }\n",
       "\n",
       "    .dataframe thead th {\n",
       "        text-align: right;\n",
       "    }\n",
       "</style>\n",
       "<table border=\"1\" class=\"dataframe\">\n",
       "  <thead>\n",
       "    <tr style=\"text-align: right;\">\n",
       "      <th></th>\n",
       "      <th>Heading</th>\n",
       "      <th>Date</th>\n",
       "      <th>Content</th>\n",
       "    </tr>\n",
       "  </thead>\n",
       "  <tbody>\n",
       "    <tr>\n",
       "      <th>0</th>\n",
       "      <td>Python Tutorial: Zip Files – Creating and Extr...</td>\n",
       "      <td>November 19, 2019</td>\n",
       "      <td>In this video, we will be learning how to crea...</td>\n",
       "    </tr>\n",
       "    <tr>\n",
       "      <th>1</th>\n",
       "      <td>Python Data Science Tutorial: Analyzing the 20...</td>\n",
       "      <td>October 17, 2019</td>\n",
       "      <td>In this Python Programming video, we will be l...</td>\n",
       "    </tr>\n",
       "    <tr>\n",
       "      <th>2</th>\n",
       "      <td>Python Multiprocessing Tutorial: Run Code in P...</td>\n",
       "      <td>September 21, 2019</td>\n",
       "      <td>In this Python Programming video, we will be l...</td>\n",
       "    </tr>\n",
       "    <tr>\n",
       "      <th>3</th>\n",
       "      <td>Python Threading Tutorial: Run Code Concurrent...</td>\n",
       "      <td>September 12, 2019</td>\n",
       "      <td>In this Python Programming video, we will be l...</td>\n",
       "    </tr>\n",
       "    <tr>\n",
       "      <th>4</th>\n",
       "      <td>Update (2019-09-03)</td>\n",
       "      <td>September 3, 2019</td>\n",
       "      <td>Hey everyone. I wanted to give you an update o...</td>\n",
       "    </tr>\n",
       "    <tr>\n",
       "      <th>5</th>\n",
       "      <td>Python Quick Tip: The Difference Between “==” ...</td>\n",
       "      <td>August 6, 2019</td>\n",
       "      <td>In this Python Programming Tutorial, we will b...</td>\n",
       "    </tr>\n",
       "    <tr>\n",
       "      <th>6</th>\n",
       "      <td>Python Tutorial: Calling External Commands Usi...</td>\n",
       "      <td>July 24, 2019</td>\n",
       "      <td>In this Python Programming Tutorial, we will b...</td>\n",
       "    </tr>\n",
       "    <tr>\n",
       "      <th>7</th>\n",
       "      <td>Visual Studio Code (Windows) – Setting up a Py...</td>\n",
       "      <td>May 1, 2019</td>\n",
       "      <td>In this Python Programming Tutorial, we will b...</td>\n",
       "    </tr>\n",
       "    <tr>\n",
       "      <th>8</th>\n",
       "      <td>Visual Studio Code (Mac) – Setting up a Python...</td>\n",
       "      <td>May 1, 2019</td>\n",
       "      <td>In this Python Programming Tutorial, we will b...</td>\n",
       "    </tr>\n",
       "    <tr>\n",
       "      <th>9</th>\n",
       "      <td>Clarifying the Issues with Mutable Default Arg...</td>\n",
       "      <td>April 24, 2019</td>\n",
       "      <td>In this Python Programming Tutorial, we will b...</td>\n",
       "    </tr>\n",
       "  </tbody>\n",
       "</table>\n",
       "</div>"
      ],
      "text/plain": [
       "                                             Heading                Date  \\\n",
       "0  Python Tutorial: Zip Files – Creating and Extr...   November 19, 2019   \n",
       "1  Python Data Science Tutorial: Analyzing the 20...    October 17, 2019   \n",
       "2  Python Multiprocessing Tutorial: Run Code in P...  September 21, 2019   \n",
       "3  Python Threading Tutorial: Run Code Concurrent...  September 12, 2019   \n",
       "4                                Update (2019-09-03)   September 3, 2019   \n",
       "5  Python Quick Tip: The Difference Between “==” ...      August 6, 2019   \n",
       "6  Python Tutorial: Calling External Commands Usi...       July 24, 2019   \n",
       "7  Visual Studio Code (Windows) – Setting up a Py...         May 1, 2019   \n",
       "8  Visual Studio Code (Mac) – Setting up a Python...         May 1, 2019   \n",
       "9  Clarifying the Issues with Mutable Default Arg...      April 24, 2019   \n",
       "\n",
       "                                             Content  \n",
       "0  In this video, we will be learning how to crea...  \n",
       "1  In this Python Programming video, we will be l...  \n",
       "2  In this Python Programming video, we will be l...  \n",
       "3  In this Python Programming video, we will be l...  \n",
       "4  Hey everyone. I wanted to give you an update o...  \n",
       "5  In this Python Programming Tutorial, we will b...  \n",
       "6  In this Python Programming Tutorial, we will b...  \n",
       "7  In this Python Programming Tutorial, we will b...  \n",
       "8  In this Python Programming Tutorial, we will b...  \n",
       "9  In this Python Programming Tutorial, we will b...  "
      ]
     },
     "execution_count": 62,
     "metadata": {},
     "output_type": "execute_result"
    }
   ],
   "source": [
    "# Due to ONE NO VIDEO LINK not present in website, so this will not work.\n",
    "# I want to know the solution \n",
    "\n",
    "\n",
    "df = pd.DataFrame({'Heading':heading,'Date':date,'Content':content})\n",
    "df"
   ]
  },
  {
   "cell_type": "markdown",
   "id": "6205696a",
   "metadata": {},
   "source": [
    "# Q.7\n",
    "### Write a python program to scrape house details from mentioned URL. It should include house title, location,\n",
    "### area, EMI and price from nobroker.in."
   ]
  },
  {
   "cell_type": "code",
   "execution_count": 63,
   "id": "3ce08dc7",
   "metadata": {
    "scrolled": true
   },
   "outputs": [],
   "source": [
    "page = requests.get('https://www.nobroker.in/property/sale/delhi/Karol%20Bagh?searchParam=W3sibGF0IjoyOC42NTUwNDU4LCJsb24iOjc3LjE4ODgyMDEsInBsYWNlSWQiOiJDaElKMHk1QVg1d0NEVGtSUnRtZFRDbDBJWlEiLCJwbGFjZU5hbWUiOiJLYXJvbCBCYWdoIn1d&radius=2.0&city=delhi&locality=Karol%20Bagh')\n",
    "soup = BeautifulSoup(page.content)"
   ]
  },
  {
   "cell_type": "markdown",
   "id": "42c6524a",
   "metadata": {},
   "source": [
    "### House Name"
   ]
  },
  {
   "cell_type": "code",
   "execution_count": 64,
   "id": "5e3ee2c0",
   "metadata": {
    "scrolled": true
   },
   "outputs": [],
   "source": [
    "house_title = []\n",
    "\n",
    "for i in soup.find_all('h2', class_='heading-6 font-semi-bold nb__25Cl7'):\n",
    "    house_title.append(i.text)"
   ]
  },
  {
   "cell_type": "markdown",
   "id": "e20fc1e2",
   "metadata": {},
   "source": [
    "### Location"
   ]
  },
  {
   "cell_type": "code",
   "execution_count": 65,
   "id": "ed0e0a83",
   "metadata": {
    "scrolled": true
   },
   "outputs": [],
   "source": [
    "loc = []\n",
    "\n",
    "for i in soup.find_all('div', class_='nb__1EwQz'):\n",
    "    loc.append(i.text)"
   ]
  },
  {
   "cell_type": "markdown",
   "id": "da10f2cb",
   "metadata": {},
   "source": [
    "### Area"
   ]
  },
  {
   "cell_type": "code",
   "execution_count": 66,
   "id": "93de0d78",
   "metadata": {
    "scrolled": true
   },
   "outputs": [],
   "source": [
    "area = []\n",
    "\n",
    "for i in soup.find_all('div', class_='nb__FfHqA'):\n",
    "    area.append(i.text)"
   ]
  },
  {
   "cell_type": "markdown",
   "id": "6b45ed87",
   "metadata": {},
   "source": [
    "### EMI"
   ]
  },
  {
   "cell_type": "code",
   "execution_count": 67,
   "id": "21652962",
   "metadata": {
    "scrolled": true
   },
   "outputs": [],
   "source": [
    "EMI = []\n",
    "\n",
    "for i in soup.find_all('div', class_=\"font-semi-bold heading-6\", id='roomType'):\n",
    "    EMI.append(i.text)"
   ]
  },
  {
   "cell_type": "markdown",
   "id": "6c47e70b",
   "metadata": {},
   "source": [
    "### Price"
   ]
  },
  {
   "cell_type": "code",
   "execution_count": 68,
   "id": "139f0607",
   "metadata": {},
   "outputs": [],
   "source": [
    "price = []\n",
    "\n",
    "for i in soup.find_all('div', class_='font-semi-bold heading-6'):\n",
    "    price.append(i.text)\n",
    "\n",
    "price1 = []    \n",
    "for i in range(2,len(price),3):\n",
    "    price1.append(price[i])"
   ]
  },
  {
   "cell_type": "code",
   "execution_count": 69,
   "id": "54bd4cb7",
   "metadata": {
    "scrolled": true
   },
   "outputs": [
    {
     "name": "stdout",
     "output_type": "stream",
     "text": [
      "25 25 25 25\n"
     ]
    }
   ],
   "source": [
    "print(len(house_title),len(loc),len(area),len(price1))"
   ]
  },
  {
   "cell_type": "code",
   "execution_count": 70,
   "id": "82ab4766",
   "metadata": {
    "scrolled": true
   },
   "outputs": [
    {
     "data": {
      "text/html": [
       "<div>\n",
       "<style scoped>\n",
       "    .dataframe tbody tr th:only-of-type {\n",
       "        vertical-align: middle;\n",
       "    }\n",
       "\n",
       "    .dataframe tbody tr th {\n",
       "        vertical-align: top;\n",
       "    }\n",
       "\n",
       "    .dataframe thead th {\n",
       "        text-align: right;\n",
       "    }\n",
       "</style>\n",
       "<table border=\"1\" class=\"dataframe\">\n",
       "  <thead>\n",
       "    <tr style=\"text-align: right;\">\n",
       "      <th></th>\n",
       "      <th>House Name</th>\n",
       "      <th>Location</th>\n",
       "      <th>Area('SQFT')</th>\n",
       "      <th>EMI</th>\n",
       "      <th>Price</th>\n",
       "    </tr>\n",
       "  </thead>\n",
       "  <tbody>\n",
       "    <tr>\n",
       "      <th>0</th>\n",
       "      <td>3 BHK Flat  For Sale  In Karol Bagh</td>\n",
       "      <td>Standalone Building, Rohtak Rd, Near Delhi Jal...</td>\n",
       "      <td>1,008 sqft</td>\n",
       "      <td>₹54,448/Month</td>\n",
       "      <td>₹95 Lacs</td>\n",
       "    </tr>\n",
       "    <tr>\n",
       "      <th>1</th>\n",
       "      <td>3 BHK Flat  For Sale  In Karol Bagh</td>\n",
       "      <td>Standalone Building, New Rohtak Road</td>\n",
       "      <td>1,350 sqft</td>\n",
       "      <td>₹80,240/Month</td>\n",
       "      <td>₹1.4 Crores</td>\n",
       "    </tr>\n",
       "    <tr>\n",
       "      <th>2</th>\n",
       "      <td>4 BHK Flat  For Sale  In Karol Bagh</td>\n",
       "      <td>standalone building, Transit Camp near SHANI M...</td>\n",
       "      <td>3,100 sqft</td>\n",
       "      <td>₹63,045/Month</td>\n",
       "      <td>₹1.1 Crores</td>\n",
       "    </tr>\n",
       "    <tr>\n",
       "      <th>3</th>\n",
       "      <td>2 BHK In Independent House  For Sale  In Karol...</td>\n",
       "      <td>Joshi road, ajmal khan park</td>\n",
       "      <td>800 sqft</td>\n",
       "      <td>₹32,669/Month</td>\n",
       "      <td>₹57 Lacs</td>\n",
       "    </tr>\n",
       "    <tr>\n",
       "      <th>4</th>\n",
       "      <td>4+ BHK Flat  For Sale  In Karol Bagh  In Karol...</td>\n",
       "      <td>East Park Road</td>\n",
       "      <td>3,600 sqft</td>\n",
       "      <td>₹4.18 Lacs/Month</td>\n",
       "      <td>₹7.3 Crores</td>\n",
       "    </tr>\n",
       "    <tr>\n",
       "      <th>5</th>\n",
       "      <td>1 RK Flat  For Sale  In Karol Bagh</td>\n",
       "      <td>Standalone Building, Tank Rd Block 1 B, Mata R...</td>\n",
       "      <td>270 sqft</td>\n",
       "      <td>₹11,462/Month</td>\n",
       "      <td>₹20 Lacs</td>\n",
       "    </tr>\n",
       "    <tr>\n",
       "      <th>6</th>\n",
       "      <td>2 BHK In Independent House  For Sale  In Karol...</td>\n",
       "      <td>bapa nagar</td>\n",
       "      <td>500 sqft</td>\n",
       "      <td>₹14,328/Month</td>\n",
       "      <td>₹25 Lacs</td>\n",
       "    </tr>\n",
       "    <tr>\n",
       "      <th>7</th>\n",
       "      <td>4+ BHK Flat  For Sale  In Khalsa College</td>\n",
       "      <td>Independent House, Near Khalsha College Evenin...</td>\n",
       "      <td>3,200 sqft</td>\n",
       "      <td>₹2.58 Lacs/Month</td>\n",
       "      <td>₹4.5 Crores</td>\n",
       "    </tr>\n",
       "    <tr>\n",
       "      <th>8</th>\n",
       "      <td>2 BHK Flat  For Sale  In Karol Bagh</td>\n",
       "      <td>Standalone Building, Block 52, Near Khalsa Col...</td>\n",
       "      <td>450 sqft</td>\n",
       "      <td>₹24,072/Month</td>\n",
       "      <td>₹42 Lacs</td>\n",
       "    </tr>\n",
       "    <tr>\n",
       "      <th>9</th>\n",
       "      <td>3 BHK Flat  For Sale  In Karol Bagh</td>\n",
       "      <td>Standalone Building, Dev Nagar, Near Sri Guru ...</td>\n",
       "      <td>1,012 sqft</td>\n",
       "      <td>₹63,045/Month</td>\n",
       "      <td>₹1.1 Crores</td>\n",
       "    </tr>\n",
       "    <tr>\n",
       "      <th>10</th>\n",
       "      <td>2 BHK Flat  For Sale  In Karol Bagh</td>\n",
       "      <td>Standalone Building, Guru Ravi Das Marg, near ...</td>\n",
       "      <td>600 sqft</td>\n",
       "      <td>₹45,851/Month</td>\n",
       "      <td>₹80 Lacs</td>\n",
       "    </tr>\n",
       "    <tr>\n",
       "      <th>11</th>\n",
       "      <td>1 RK Flat  For Sale  In Karol Bagh</td>\n",
       "      <td>Standalone Building, deshbandhu gupta rd Beado...</td>\n",
       "      <td>234 sqft</td>\n",
       "      <td>₹17,194/Month</td>\n",
       "      <td>₹30 Lacs</td>\n",
       "    </tr>\n",
       "    <tr>\n",
       "      <th>12</th>\n",
       "      <td>3 BHK Flat  For Sale  In Apartment In Karol Bagh</td>\n",
       "      <td>Ramjas Road, near Peshawari Chicken Corner,</td>\n",
       "      <td>1,350 sqft</td>\n",
       "      <td>₹1.2 Lacs/Month</td>\n",
       "      <td>₹2.1 Crores</td>\n",
       "    </tr>\n",
       "    <tr>\n",
       "      <th>13</th>\n",
       "      <td>1 BHK Flat  For Sale  In Dev Nagar</td>\n",
       "      <td>Standalone Building, Desh Bandhu Gupta Rd Near...</td>\n",
       "      <td>450 sqft</td>\n",
       "      <td>₹28,657/Month</td>\n",
       "      <td>₹50 Lacs</td>\n",
       "    </tr>\n",
       "    <tr>\n",
       "      <th>14</th>\n",
       "      <td>4+ BHK In Independent House  For Sale  In Karo...</td>\n",
       "      <td>Independent House, Arya Samaj Road near Kikar ...</td>\n",
       "      <td>2,295 sqft</td>\n",
       "      <td>₹4.3 Lacs/Month</td>\n",
       "      <td>₹7.5 Crores</td>\n",
       "    </tr>\n",
       "    <tr>\n",
       "      <th>15</th>\n",
       "      <td>3 BHK Flat  For Sale  In Dev Nagar, Karol Bagh</td>\n",
       "      <td>near khalsa college</td>\n",
       "      <td>1,300 sqft</td>\n",
       "      <td>₹51,583/Month</td>\n",
       "      <td>₹90 Lacs</td>\n",
       "    </tr>\n",
       "    <tr>\n",
       "      <th>16</th>\n",
       "      <td>1 BHK For Sale  In Dev Nagar Block 8 Delhi In ...</td>\n",
       "      <td>street 2 block 8 h no. 6472 dev nagar karol bagh</td>\n",
       "      <td>324 sqft</td>\n",
       "      <td>₹34,388/Month</td>\n",
       "      <td>₹60 Lacs</td>\n",
       "    </tr>\n",
       "    <tr>\n",
       "      <th>17</th>\n",
       "      <td>4+ BHK In Independent House  For Sale  In Karo...</td>\n",
       "      <td>Independent House, Guru Ravi Das Marg, Block 5...</td>\n",
       "      <td>2,004 sqft</td>\n",
       "      <td>₹40,120/Month</td>\n",
       "      <td>₹70 Lacs</td>\n",
       "    </tr>\n",
       "    <tr>\n",
       "      <th>18</th>\n",
       "      <td>4+ BHK Flat  For Sale  In Karol Bagh</td>\n",
       "      <td>Standalone Building, Desh Bandhu Gupta Rd, Nea...</td>\n",
       "      <td>1,851 sqft</td>\n",
       "      <td>₹6.88 Lacs/Month</td>\n",
       "      <td>₹12 Crores</td>\n",
       "    </tr>\n",
       "    <tr>\n",
       "      <th>19</th>\n",
       "      <td>2 BHK Flat  For Sale  In Kamini Gupta In Karol...</td>\n",
       "      <td>Gaffar Market, near Novelty Place</td>\n",
       "      <td>585 sqft</td>\n",
       "      <td>₹14,328/Month</td>\n",
       "      <td>₹25 Lacs</td>\n",
       "    </tr>\n",
       "    <tr>\n",
       "      <th>20</th>\n",
       "      <td>2 BHK In Independent House  For Sale  In Desh ...</td>\n",
       "      <td>gali no.8 dev nagar</td>\n",
       "      <td>1,000 sqft</td>\n",
       "      <td>₹48,717/Month</td>\n",
       "      <td>₹85 Lacs</td>\n",
       "    </tr>\n",
       "    <tr>\n",
       "      <th>21</th>\n",
       "      <td>2 BHK Flat  For Sale  In Apartment In Karol Bagh</td>\n",
       "      <td>Saraswati Marg,, Beadonpura,Near Hanuman Mandi...</td>\n",
       "      <td>648 sqft</td>\n",
       "      <td>₹40,120/Month</td>\n",
       "      <td>₹70 Lacs</td>\n",
       "    </tr>\n",
       "    <tr>\n",
       "      <th>22</th>\n",
       "      <td>4+ BHK Flat  For Sale  In Karol Bagh</td>\n",
       "      <td>Standalone building, diip nagar, Block 3, Near...</td>\n",
       "      <td>2,200 sqft</td>\n",
       "      <td>₹1.43 Lacs/Month</td>\n",
       "      <td>₹2.5 Crores</td>\n",
       "    </tr>\n",
       "    <tr>\n",
       "      <th>23</th>\n",
       "      <td>3 BHK Flat  For Sale  In Standalone Building  ...</td>\n",
       "      <td>new Rohtak road, Near Liberty Cinema - Delhi</td>\n",
       "      <td>1,260 sqft</td>\n",
       "      <td>₹1.19 Lacs/Month</td>\n",
       "      <td>₹2.08 Crores</td>\n",
       "    </tr>\n",
       "    <tr>\n",
       "      <th>24</th>\n",
       "      <td>4 BHK Flat  For Sale  In Karol Bagh</td>\n",
       "      <td>Standalone Building, Regar Pura,Near Meenu Momos</td>\n",
       "      <td>2,674 sqft</td>\n",
       "      <td>₹1.6 Lacs/Month</td>\n",
       "      <td>₹2.8 Crores</td>\n",
       "    </tr>\n",
       "  </tbody>\n",
       "</table>\n",
       "</div>"
      ],
      "text/plain": [
       "                                           House Name  \\\n",
       "0                3 BHK Flat  For Sale  In Karol Bagh    \n",
       "1                3 BHK Flat  For Sale  In Karol Bagh    \n",
       "2                4 BHK Flat  For Sale  In Karol Bagh    \n",
       "3   2 BHK In Independent House  For Sale  In Karol...   \n",
       "4   4+ BHK Flat  For Sale  In Karol Bagh  In Karol...   \n",
       "5                 1 RK Flat  For Sale  In Karol Bagh    \n",
       "6   2 BHK In Independent House  For Sale  In Karol...   \n",
       "7           4+ BHK Flat  For Sale  In Khalsa College    \n",
       "8                2 BHK Flat  For Sale  In Karol Bagh    \n",
       "9                3 BHK Flat  For Sale  In Karol Bagh    \n",
       "10               2 BHK Flat  For Sale  In Karol Bagh    \n",
       "11                1 RK Flat  For Sale  In Karol Bagh    \n",
       "12  3 BHK Flat  For Sale  In Apartment In Karol Bagh    \n",
       "13                1 BHK Flat  For Sale  In Dev Nagar    \n",
       "14  4+ BHK In Independent House  For Sale  In Karo...   \n",
       "15    3 BHK Flat  For Sale  In Dev Nagar, Karol Bagh    \n",
       "16  1 BHK For Sale  In Dev Nagar Block 8 Delhi In ...   \n",
       "17  4+ BHK In Independent House  For Sale  In Karo...   \n",
       "18              4+ BHK Flat  For Sale  In Karol Bagh    \n",
       "19  2 BHK Flat  For Sale  In Kamini Gupta In Karol...   \n",
       "20  2 BHK In Independent House  For Sale  In Desh ...   \n",
       "21  2 BHK Flat  For Sale  In Apartment In Karol Bagh    \n",
       "22              4+ BHK Flat  For Sale  In Karol Bagh    \n",
       "23  3 BHK Flat  For Sale  In Standalone Building  ...   \n",
       "24               4 BHK Flat  For Sale  In Karol Bagh    \n",
       "\n",
       "                                             Location Area('SQFT')  \\\n",
       "0   Standalone Building, Rohtak Rd, Near Delhi Jal...   1,008 sqft   \n",
       "1               Standalone Building, New Rohtak Road    1,350 sqft   \n",
       "2   standalone building, Transit Camp near SHANI M...   3,100 sqft   \n",
       "3                         Joshi road, ajmal khan park     800 sqft   \n",
       "4                                      East Park Road   3,600 sqft   \n",
       "5   Standalone Building, Tank Rd Block 1 B, Mata R...     270 sqft   \n",
       "6                                          bapa nagar     500 sqft   \n",
       "7   Independent House, Near Khalsha College Evenin...   3,200 sqft   \n",
       "8   Standalone Building, Block 52, Near Khalsa Col...     450 sqft   \n",
       "9   Standalone Building, Dev Nagar, Near Sri Guru ...   1,012 sqft   \n",
       "10  Standalone Building, Guru Ravi Das Marg, near ...     600 sqft   \n",
       "11  Standalone Building, deshbandhu gupta rd Beado...     234 sqft   \n",
       "12       Ramjas Road, near Peshawari Chicken Corner,    1,350 sqft   \n",
       "13  Standalone Building, Desh Bandhu Gupta Rd Near...     450 sqft   \n",
       "14  Independent House, Arya Samaj Road near Kikar ...   2,295 sqft   \n",
       "15                                near khalsa college   1,300 sqft   \n",
       "16   street 2 block 8 h no. 6472 dev nagar karol bagh     324 sqft   \n",
       "17  Independent House, Guru Ravi Das Marg, Block 5...   2,004 sqft   \n",
       "18  Standalone Building, Desh Bandhu Gupta Rd, Nea...   1,851 sqft   \n",
       "19                  Gaffar Market, near Novelty Place     585 sqft   \n",
       "20                               gali no.8 dev nagar    1,000 sqft   \n",
       "21  Saraswati Marg,, Beadonpura,Near Hanuman Mandi...     648 sqft   \n",
       "22  Standalone building, diip nagar, Block 3, Near...   2,200 sqft   \n",
       "23       new Rohtak road, Near Liberty Cinema - Delhi   1,260 sqft   \n",
       "24   Standalone Building, Regar Pura,Near Meenu Momos   2,674 sqft   \n",
       "\n",
       "                 EMI         Price  \n",
       "0      ₹54,448/Month      ₹95 Lacs  \n",
       "1      ₹80,240/Month   ₹1.4 Crores  \n",
       "2      ₹63,045/Month   ₹1.1 Crores  \n",
       "3      ₹32,669/Month      ₹57 Lacs  \n",
       "4   ₹4.18 Lacs/Month   ₹7.3 Crores  \n",
       "5      ₹11,462/Month      ₹20 Lacs  \n",
       "6      ₹14,328/Month      ₹25 Lacs  \n",
       "7   ₹2.58 Lacs/Month   ₹4.5 Crores  \n",
       "8      ₹24,072/Month      ₹42 Lacs  \n",
       "9      ₹63,045/Month   ₹1.1 Crores  \n",
       "10     ₹45,851/Month      ₹80 Lacs  \n",
       "11     ₹17,194/Month      ₹30 Lacs  \n",
       "12   ₹1.2 Lacs/Month   ₹2.1 Crores  \n",
       "13     ₹28,657/Month      ₹50 Lacs  \n",
       "14   ₹4.3 Lacs/Month   ₹7.5 Crores  \n",
       "15     ₹51,583/Month      ₹90 Lacs  \n",
       "16     ₹34,388/Month      ₹60 Lacs  \n",
       "17     ₹40,120/Month      ₹70 Lacs  \n",
       "18  ₹6.88 Lacs/Month    ₹12 Crores  \n",
       "19     ₹14,328/Month      ₹25 Lacs  \n",
       "20     ₹48,717/Month      ₹85 Lacs  \n",
       "21     ₹40,120/Month      ₹70 Lacs  \n",
       "22  ₹1.43 Lacs/Month   ₹2.5 Crores  \n",
       "23  ₹1.19 Lacs/Month  ₹2.08 Crores  \n",
       "24   ₹1.6 Lacs/Month   ₹2.8 Crores  "
      ]
     },
     "execution_count": 70,
     "metadata": {},
     "output_type": "execute_result"
    }
   ],
   "source": [
    "df = pd.DataFrame({'House Name':house_title,'Location':loc,\"Area('SQFT')\":area,\"EMI\":EMI,'Price':price1})\n",
    "df"
   ]
  },
  {
   "cell_type": "markdown",
   "id": "db1ca143",
   "metadata": {},
   "source": [
    "# Q.8\n",
    "## Write a python program to scrape mentioned details from dineout.co.in :"
   ]
  },
  {
   "cell_type": "code",
   "execution_count": 71,
   "id": "0330c6d0",
   "metadata": {
    "scrolled": true
   },
   "outputs": [],
   "source": [
    "page = requests.get('https://www.dineout.co.in/delhi-restaurants/super-savers')\n",
    "soup = BeautifulSoup(page.content)"
   ]
  },
  {
   "cell_type": "markdown",
   "id": "9f8cffcc",
   "metadata": {},
   "source": [
    "### i) Restaurant name"
   ]
  },
  {
   "cell_type": "code",
   "execution_count": 72,
   "id": "9b200f40",
   "metadata": {
    "scrolled": true
   },
   "outputs": [],
   "source": [
    "name = []\n",
    "\n",
    "for i in soup.find_all('div', class_='restnt-info cursor'):\n",
    "    name.append(i.text)"
   ]
  },
  {
   "cell_type": "markdown",
   "id": "050a2b95",
   "metadata": {},
   "source": [
    "### ii) Cuisine"
   ]
  },
  {
   "cell_type": "code",
   "execution_count": 73,
   "id": "51e51375",
   "metadata": {
    "scrolled": true
   },
   "outputs": [],
   "source": [
    "Cuisine = []\n",
    "\n",
    "for i in soup.find_all('span', class_='double-line-ellipsis'):\n",
    "    Cuisine.append(i.text.split('|')[1]) # Selecting the second index"
   ]
  },
  {
   "cell_type": "markdown",
   "id": "b6d3bce3",
   "metadata": {},
   "source": [
    "### iii) Location"
   ]
  },
  {
   "cell_type": "code",
   "execution_count": 74,
   "id": "cfa24214",
   "metadata": {
    "scrolled": true
   },
   "outputs": [],
   "source": [
    "loc = []\n",
    "\n",
    "for i in soup.find_all('div', class_='restnt-loc ellipsis'):\n",
    "    loc.append(i.text)"
   ]
  },
  {
   "cell_type": "markdown",
   "id": "b6d22c58",
   "metadata": {},
   "source": [
    "### iv) Ratings"
   ]
  },
  {
   "cell_type": "code",
   "execution_count": 75,
   "id": "740c4ea0",
   "metadata": {
    "scrolled": true
   },
   "outputs": [],
   "source": [
    "rating = []\n",
    "\n",
    "for i in soup.find_all('div', class_='restnt-rating rating-4'):\n",
    "    rating.append(i.text)"
   ]
  },
  {
   "cell_type": "markdown",
   "id": "1f2fee9c",
   "metadata": {},
   "source": [
    "### iv) Ratings"
   ]
  },
  {
   "cell_type": "code",
   "execution_count": 76,
   "id": "99c0b3ec",
   "metadata": {
    "scrolled": true
   },
   "outputs": [],
   "source": [
    "url = []\n",
    "\n",
    "for i in soup.find_all('img', class_='no-img'):\n",
    "    url.append(i['data-src'])"
   ]
  },
  {
   "cell_type": "code",
   "execution_count": 77,
   "id": "853023df",
   "metadata": {
    "scrolled": true
   },
   "outputs": [
    {
     "name": "stdout",
     "output_type": "stream",
     "text": [
      "21 21 21 17 21\n"
     ]
    }
   ],
   "source": [
    "print(len(name),len(Cuisine),len(loc),len(rating),len(url))"
   ]
  },
  {
   "cell_type": "code",
   "execution_count": 78,
   "id": "8cd7f02a",
   "metadata": {
    "scrolled": true
   },
   "outputs": [
    {
     "data": {
      "text/html": [
       "<div>\n",
       "<style scoped>\n",
       "    .dataframe tbody tr th:only-of-type {\n",
       "        vertical-align: middle;\n",
       "    }\n",
       "\n",
       "    .dataframe tbody tr th {\n",
       "        vertical-align: top;\n",
       "    }\n",
       "\n",
       "    .dataframe thead th {\n",
       "        text-align: right;\n",
       "    }\n",
       "</style>\n",
       "<table border=\"1\" class=\"dataframe\">\n",
       "  <thead>\n",
       "    <tr style=\"text-align: right;\">\n",
       "      <th></th>\n",
       "      <th>Resturent Name</th>\n",
       "      <th>Cuisine</th>\n",
       "      <th>Location</th>\n",
       "      <th>Image Link</th>\n",
       "    </tr>\n",
       "  </thead>\n",
       "  <tbody>\n",
       "    <tr>\n",
       "      <th>0</th>\n",
       "      <td>Route 04Connaught Place, Central Delhi</td>\n",
       "      <td>Multi-Cuisine, American, Asian, Chinese, Cont...</td>\n",
       "      <td>Connaught Place, Central Delhi</td>\n",
       "      <td>https://im1.dineout.co.in/images/uploads/resta...</td>\n",
       "    </tr>\n",
       "    <tr>\n",
       "      <th>1</th>\n",
       "      <td>DaryaganjRegal Cinema Complex,Connaught Place,...</td>\n",
       "      <td>North Indian, Biryani, Mughlai, Seafood</td>\n",
       "      <td>Regal Cinema Complex,Connaught Place, Central ...</td>\n",
       "      <td>https://im1.dineout.co.in/images/uploads/resta...</td>\n",
       "    </tr>\n",
       "    <tr>\n",
       "      <th>2</th>\n",
       "      <td>TEO - Lounge &amp; BarPunjabi Bagh, West Delhi</td>\n",
       "      <td>North Indian, Oriental , Italian, Mughlai</td>\n",
       "      <td>Punjabi Bagh, West Delhi</td>\n",
       "      <td>https://im1.dineout.co.in/images/uploads/resta...</td>\n",
       "    </tr>\n",
       "    <tr>\n",
       "      <th>3</th>\n",
       "      <td>Sana-Di-GeMalcha Marg Shopping Complex,Chanaky...</td>\n",
       "      <td>Seafood, North Indian, Goan, Kerala</td>\n",
       "      <td>Malcha Marg Shopping Complex,Chanakyapuri, Sou...</td>\n",
       "      <td>https://im1.dineout.co.in/images/uploads/resta...</td>\n",
       "    </tr>\n",
       "    <tr>\n",
       "      <th>4</th>\n",
       "      <td>BFF (Beer Food Feast) Restro BarKarol Bagh, Ce...</td>\n",
       "      <td>North Indian, Continental, Oriental , Finger ...</td>\n",
       "      <td>Karol Bagh, Central Delhi</td>\n",
       "      <td>https://im1.dineout.co.in/images/uploads/resta...</td>\n",
       "    </tr>\n",
       "    <tr>\n",
       "      <th>5</th>\n",
       "      <td>Socia L AffaireKarol Bagh, Central Delhi</td>\n",
       "      <td>Multi-Cuisine, North Indian, Italian, Europea...</td>\n",
       "      <td>Karol Bagh, Central Delhi</td>\n",
       "      <td>https://im1.dineout.co.in/images/uploads/resta...</td>\n",
       "    </tr>\n",
       "    <tr>\n",
       "      <th>6</th>\n",
       "      <td>Saada PindKarol Bagh, Central Delhi</td>\n",
       "      <td>North Indian, Biryani</td>\n",
       "      <td>Karol Bagh, Central Delhi</td>\n",
       "      <td>https://im1.dineout.co.in/images/uploads/resta...</td>\n",
       "    </tr>\n",
       "    <tr>\n",
       "      <th>7</th>\n",
       "      <td>Gram by TaksimAnsal Plaza Mall,Khel Gaon, Sout...</td>\n",
       "      <td>North Indian, Asian, Italian, Mexican, Europe...</td>\n",
       "      <td>Ansal Plaza Mall,Khel Gaon, South Delhi</td>\n",
       "      <td>https://im1.dineout.co.in/images/uploads/resta...</td>\n",
       "    </tr>\n",
       "    <tr>\n",
       "      <th>8</th>\n",
       "      <td>Gola SizzlersPreet Vihar, East Delhi</td>\n",
       "      <td>Sizzlers, North Indian, Chinese</td>\n",
       "      <td>Preet Vihar, East Delhi</td>\n",
       "      <td>https://im1.dineout.co.in/images/uploads/resta...</td>\n",
       "    </tr>\n",
       "    <tr>\n",
       "      <th>9</th>\n",
       "      <td>The DineRoomPunjabi Bagh, West Delhi</td>\n",
       "      <td>North Indian, Italian, Chinese</td>\n",
       "      <td>Punjabi Bagh, West Delhi</td>\n",
       "      <td>https://im1.dineout.co.in/images/uploads/resta...</td>\n",
       "    </tr>\n",
       "    <tr>\n",
       "      <th>10</th>\n",
       "      <td>The Firangi IslandKirti Nagar, West Delhi</td>\n",
       "      <td>Multi-Cuisine, Chinese, Continental, Italian,...</td>\n",
       "      <td>Kirti Nagar, West Delhi</td>\n",
       "      <td>https://im1.dineout.co.in/images/uploads/resta...</td>\n",
       "    </tr>\n",
       "    <tr>\n",
       "      <th>11</th>\n",
       "      <td>Qubitos - The Terrace CafeRajouri Garden, West...</td>\n",
       "      <td>Multi-Cuisine, North Indian, Italian, Thai, M...</td>\n",
       "      <td>Rajouri Garden, West Delhi</td>\n",
       "      <td>https://im1.dineout.co.in/images/uploads/resta...</td>\n",
       "    </tr>\n",
       "    <tr>\n",
       "      <th>12</th>\n",
       "      <td>ElectroRajouri Garden, West Delhi</td>\n",
       "      <td>Continental, Italian, North Indian</td>\n",
       "      <td>Rajouri Garden, West Delhi</td>\n",
       "      <td>https://im1.dineout.co.in/images/uploads/resta...</td>\n",
       "    </tr>\n",
       "    <tr>\n",
       "      <th>13</th>\n",
       "      <td>The Crypto DoorVijay Nagar, North Delhi</td>\n",
       "      <td>Continental, American, Italian, Lebanese, Fusion</td>\n",
       "      <td>Vijay Nagar, North Delhi</td>\n",
       "      <td>https://im1.dineout.co.in/images/uploads/resta...</td>\n",
       "    </tr>\n",
       "    <tr>\n",
       "      <th>14</th>\n",
       "      <td>The Bowton House CafeSatya Niketan, South Delhi</td>\n",
       "      <td>North Indian, Chinese, Italian, Continental</td>\n",
       "      <td>Satya Niketan, South Delhi</td>\n",
       "      <td>https://im1.dineout.co.in/images/uploads/resta...</td>\n",
       "    </tr>\n",
       "    <tr>\n",
       "      <th>15</th>\n",
       "      <td>The MarketplaceKirti Nagar, West Delhi</td>\n",
       "      <td>North Indian, European, Asian</td>\n",
       "      <td>Kirti Nagar, West Delhi</td>\n",
       "      <td>https://im1.dineout.co.in/images/uploads/resta...</td>\n",
       "    </tr>\n",
       "    <tr>\n",
       "      <th>16</th>\n",
       "      <td>Hott MuggsLaxmi Nagar, East Delhi</td>\n",
       "      <td>Fast Food, Italian, Chinese</td>\n",
       "      <td>Laxmi Nagar, East Delhi</td>\n",
       "      <td>https://im1.dineout.co.in/images/uploads/resta...</td>\n",
       "    </tr>\n",
       "    <tr>\n",
       "      <th>17</th>\n",
       "      <td>Sixth EmpiricaPunjabi Bagh, West Delhi</td>\n",
       "      <td>North Indian, Italian, Chinese, Continental</td>\n",
       "      <td>Punjabi Bagh, West Delhi</td>\n",
       "      <td>https://im1.dineout.co.in/images/uploads/resta...</td>\n",
       "    </tr>\n",
       "    <tr>\n",
       "      <th>18</th>\n",
       "      <td>ZiuSangam Courtyard,RK Puram, South Delhi</td>\n",
       "      <td>Thai</td>\n",
       "      <td>Sangam Courtyard,RK Puram, South Delhi</td>\n",
       "      <td>https://im1.dineout.co.in/images/uploads/resta...</td>\n",
       "    </tr>\n",
       "    <tr>\n",
       "      <th>19</th>\n",
       "      <td>SliqueAnsal Plaza Mall,Khel Gaon, South Delhi</td>\n",
       "      <td>North Indian, Asian</td>\n",
       "      <td>Ansal Plaza Mall,Khel Gaon, South Delhi</td>\n",
       "      <td>https://im1.dineout.co.in/images/uploads/resta...</td>\n",
       "    </tr>\n",
       "    <tr>\n",
       "      <th>20</th>\n",
       "      <td>Sharrazz 2.0Satya Niketan, South Delhi</td>\n",
       "      <td>North Indian, Italian, Chinese, Fast Food</td>\n",
       "      <td>Satya Niketan, South Delhi</td>\n",
       "      <td>https://im1.dineout.co.in/images/uploads/resta...</td>\n",
       "    </tr>\n",
       "  </tbody>\n",
       "</table>\n",
       "</div>"
      ],
      "text/plain": [
       "                                       Resturent Name  \\\n",
       "0              Route 04Connaught Place, Central Delhi   \n",
       "1   DaryaganjRegal Cinema Complex,Connaught Place,...   \n",
       "2          TEO - Lounge & BarPunjabi Bagh, West Delhi   \n",
       "3   Sana-Di-GeMalcha Marg Shopping Complex,Chanaky...   \n",
       "4   BFF (Beer Food Feast) Restro BarKarol Bagh, Ce...   \n",
       "5            Socia L AffaireKarol Bagh, Central Delhi   \n",
       "6                 Saada PindKarol Bagh, Central Delhi   \n",
       "7   Gram by TaksimAnsal Plaza Mall,Khel Gaon, Sout...   \n",
       "8                Gola SizzlersPreet Vihar, East Delhi   \n",
       "9                The DineRoomPunjabi Bagh, West Delhi   \n",
       "10          The Firangi IslandKirti Nagar, West Delhi   \n",
       "11  Qubitos - The Terrace CafeRajouri Garden, West...   \n",
       "12                  ElectroRajouri Garden, West Delhi   \n",
       "13            The Crypto DoorVijay Nagar, North Delhi   \n",
       "14    The Bowton House CafeSatya Niketan, South Delhi   \n",
       "15             The MarketplaceKirti Nagar, West Delhi   \n",
       "16                  Hott MuggsLaxmi Nagar, East Delhi   \n",
       "17             Sixth EmpiricaPunjabi Bagh, West Delhi   \n",
       "18          ZiuSangam Courtyard,RK Puram, South Delhi   \n",
       "19      SliqueAnsal Plaza Mall,Khel Gaon, South Delhi   \n",
       "20             Sharrazz 2.0Satya Niketan, South Delhi   \n",
       "\n",
       "                                              Cuisine  \\\n",
       "0    Multi-Cuisine, American, Asian, Chinese, Cont...   \n",
       "1             North Indian, Biryani, Mughlai, Seafood   \n",
       "2           North Indian, Oriental , Italian, Mughlai   \n",
       "3                 Seafood, North Indian, Goan, Kerala   \n",
       "4    North Indian, Continental, Oriental , Finger ...   \n",
       "5    Multi-Cuisine, North Indian, Italian, Europea...   \n",
       "6                               North Indian, Biryani   \n",
       "7    North Indian, Asian, Italian, Mexican, Europe...   \n",
       "8                     Sizzlers, North Indian, Chinese   \n",
       "9                      North Indian, Italian, Chinese   \n",
       "10   Multi-Cuisine, Chinese, Continental, Italian,...   \n",
       "11   Multi-Cuisine, North Indian, Italian, Thai, M...   \n",
       "12                 Continental, Italian, North Indian   \n",
       "13   Continental, American, Italian, Lebanese, Fusion   \n",
       "14        North Indian, Chinese, Italian, Continental   \n",
       "15                      North Indian, European, Asian   \n",
       "16                        Fast Food, Italian, Chinese   \n",
       "17        North Indian, Italian, Chinese, Continental   \n",
       "18                                               Thai   \n",
       "19                                North Indian, Asian   \n",
       "20          North Indian, Italian, Chinese, Fast Food   \n",
       "\n",
       "                                             Location  \\\n",
       "0                      Connaught Place, Central Delhi   \n",
       "1   Regal Cinema Complex,Connaught Place, Central ...   \n",
       "2                            Punjabi Bagh, West Delhi   \n",
       "3   Malcha Marg Shopping Complex,Chanakyapuri, Sou...   \n",
       "4                           Karol Bagh, Central Delhi   \n",
       "5                           Karol Bagh, Central Delhi   \n",
       "6                           Karol Bagh, Central Delhi   \n",
       "7             Ansal Plaza Mall,Khel Gaon, South Delhi   \n",
       "8                             Preet Vihar, East Delhi   \n",
       "9                            Punjabi Bagh, West Delhi   \n",
       "10                            Kirti Nagar, West Delhi   \n",
       "11                         Rajouri Garden, West Delhi   \n",
       "12                         Rajouri Garden, West Delhi   \n",
       "13                           Vijay Nagar, North Delhi   \n",
       "14                         Satya Niketan, South Delhi   \n",
       "15                            Kirti Nagar, West Delhi   \n",
       "16                            Laxmi Nagar, East Delhi   \n",
       "17                           Punjabi Bagh, West Delhi   \n",
       "18             Sangam Courtyard,RK Puram, South Delhi   \n",
       "19            Ansal Plaza Mall,Khel Gaon, South Delhi   \n",
       "20                         Satya Niketan, South Delhi   \n",
       "\n",
       "                                           Image Link  \n",
       "0   https://im1.dineout.co.in/images/uploads/resta...  \n",
       "1   https://im1.dineout.co.in/images/uploads/resta...  \n",
       "2   https://im1.dineout.co.in/images/uploads/resta...  \n",
       "3   https://im1.dineout.co.in/images/uploads/resta...  \n",
       "4   https://im1.dineout.co.in/images/uploads/resta...  \n",
       "5   https://im1.dineout.co.in/images/uploads/resta...  \n",
       "6   https://im1.dineout.co.in/images/uploads/resta...  \n",
       "7   https://im1.dineout.co.in/images/uploads/resta...  \n",
       "8   https://im1.dineout.co.in/images/uploads/resta...  \n",
       "9   https://im1.dineout.co.in/images/uploads/resta...  \n",
       "10  https://im1.dineout.co.in/images/uploads/resta...  \n",
       "11  https://im1.dineout.co.in/images/uploads/resta...  \n",
       "12  https://im1.dineout.co.in/images/uploads/resta...  \n",
       "13  https://im1.dineout.co.in/images/uploads/resta...  \n",
       "14  https://im1.dineout.co.in/images/uploads/resta...  \n",
       "15  https://im1.dineout.co.in/images/uploads/resta...  \n",
       "16  https://im1.dineout.co.in/images/uploads/resta...  \n",
       "17  https://im1.dineout.co.in/images/uploads/resta...  \n",
       "18  https://im1.dineout.co.in/images/uploads/resta...  \n",
       "19  https://im1.dineout.co.in/images/uploads/resta...  \n",
       "20  https://im1.dineout.co.in/images/uploads/resta...  "
      ]
     },
     "execution_count": 78,
     "metadata": {},
     "output_type": "execute_result"
    }
   ],
   "source": [
    "df = pd.DataFrame({'Resturent Name':name,'Cuisine':Cuisine,'Location':loc,'Image Link':url})\n",
    "df"
   ]
  },
  {
   "cell_type": "markdown",
   "id": "48a43878",
   "metadata": {},
   "source": [
    "# Q.9\n",
    "## Write a python program to scrape weather details for last 24 hours from Tutiempo.net :"
   ]
  },
  {
   "cell_type": "code",
   "execution_count": 79,
   "id": "996f208e",
   "metadata": {
    "scrolled": true
   },
   "outputs": [],
   "source": [
    "page = requests.get('https://en.tutiempo.net/delhi.html?data=last-24-hours')\n",
    "soup = BeautifulSoup(page.content)"
   ]
  },
  {
   "cell_type": "markdown",
   "id": "40853d72",
   "metadata": {},
   "source": [
    "### i) Hour"
   ]
  },
  {
   "cell_type": "code",
   "execution_count": 80,
   "id": "8b73410c",
   "metadata": {
    "scrolled": true
   },
   "outputs": [],
   "source": [
    "Hour = []\n",
    "\n",
    "\n",
    "for i in soup.find_all ('td',class_='t Temp')[0:24]: \n",
    "\n",
    "    if i.previous_sibling.previous_sibling is not None:\n",
    "\n",
    "        Hour.append(i.previous_sibling.previous_sibling.text)"
   ]
  },
  {
   "cell_type": "markdown",
   "id": "35fbde5f",
   "metadata": {},
   "source": [
    "### ii) Temperature"
   ]
  },
  {
   "cell_type": "code",
   "execution_count": 81,
   "id": "45d7c4d3",
   "metadata": {
    "scrolled": true
   },
   "outputs": [],
   "source": [
    "temp = []\n",
    "\n",
    "for i in soup.find_all('td', class_='t Temp')[0:24]:\n",
    "    temp.append(i.text)"
   ]
  },
  {
   "cell_type": "markdown",
   "id": "f60c0bdf",
   "metadata": {},
   "source": [
    "### iii) Wind"
   ]
  },
  {
   "cell_type": "code",
   "execution_count": 82,
   "id": "bec1040c",
   "metadata": {
    "scrolled": true
   },
   "outputs": [],
   "source": [
    "wind = []\n",
    "\n",
    "for i in soup.find_all('td', class_='wind')[0:24]:\n",
    "    wind.append(i.text)"
   ]
  },
  {
   "cell_type": "markdown",
   "id": "38d314a3",
   "metadata": {},
   "source": [
    "### iv) Weather condition"
   ]
  },
  {
   "cell_type": "code",
   "execution_count": 83,
   "id": "7b23db30",
   "metadata": {
    "scrolled": false
   },
   "outputs": [],
   "source": [
    "weather_condition = []\n",
    "\n",
    "for i in soup.find_all ('td',class_='t Temp')[0:24]: \n",
    "\n",
    "    if i.previous_sibling is not None:\n",
    "\n",
    "        weather_condition.append(i.previous_sibling.text)\n",
    "    else:\n",
    "        weather_condition.append('')"
   ]
  },
  {
   "cell_type": "markdown",
   "id": "e988f430",
   "metadata": {},
   "source": [
    "### v) Humidity"
   ]
  },
  {
   "cell_type": "code",
   "execution_count": 84,
   "id": "7c63efa4",
   "metadata": {
    "scrolled": true
   },
   "outputs": [],
   "source": [
    "hum = []\n",
    "\n",
    "for i in soup.find_all('td', class_='hr')[0:24]:\n",
    "    hum.append(i.text)"
   ]
  },
  {
   "cell_type": "markdown",
   "id": "760f1851",
   "metadata": {},
   "source": [
    "### vi) Pressure"
   ]
  },
  {
   "cell_type": "code",
   "execution_count": 85,
   "id": "77bee10f",
   "metadata": {
    "scrolled": true
   },
   "outputs": [],
   "source": [
    "pre = []\n",
    "\n",
    "for i in soup.find_all('td', class_='prob')[0:24]:\n",
    "    pre.append(i.text)"
   ]
  },
  {
   "cell_type": "code",
   "execution_count": 86,
   "id": "17aadc75",
   "metadata": {
    "scrolled": true
   },
   "outputs": [
    {
     "name": "stdout",
     "output_type": "stream",
     "text": [
      "24 24 24 24 24 24\n"
     ]
    }
   ],
   "source": [
    "print(len(Hour),len(temp),len(wind),len(weather_condition),len(hum),len(pre))"
   ]
  },
  {
   "cell_type": "code",
   "execution_count": 87,
   "id": "a0807748",
   "metadata": {
    "scrolled": true
   },
   "outputs": [
    {
     "data": {
      "text/html": [
       "<div>\n",
       "<style scoped>\n",
       "    .dataframe tbody tr th:only-of-type {\n",
       "        vertical-align: middle;\n",
       "    }\n",
       "\n",
       "    .dataframe tbody tr th {\n",
       "        vertical-align: top;\n",
       "    }\n",
       "\n",
       "    .dataframe thead th {\n",
       "        text-align: right;\n",
       "    }\n",
       "</style>\n",
       "<table border=\"1\" class=\"dataframe\">\n",
       "  <thead>\n",
       "    <tr style=\"text-align: right;\">\n",
       "      <th></th>\n",
       "      <th>Hour</th>\n",
       "      <th>Temperature</th>\n",
       "      <th>Wins</th>\n",
       "      <th>Wearher_Condition</th>\n",
       "      <th>Humidity</th>\n",
       "      <th>Pressure</th>\n",
       "    </tr>\n",
       "  </thead>\n",
       "  <tbody>\n",
       "    <tr>\n",
       "      <th>0</th>\n",
       "      <td>00:00</td>\n",
       "      <td>17°C</td>\n",
       "      <td>Calm</td>\n",
       "      <td>Mist</td>\n",
       "      <td>82%</td>\n",
       "      <td>1017 hPa</td>\n",
       "    </tr>\n",
       "    <tr>\n",
       "      <th>1</th>\n",
       "      <td>23:30</td>\n",
       "      <td>17°C</td>\n",
       "      <td>Calm</td>\n",
       "      <td>Mist</td>\n",
       "      <td>82%</td>\n",
       "      <td>1017 hPa</td>\n",
       "    </tr>\n",
       "    <tr>\n",
       "      <th>2</th>\n",
       "      <td>23:00</td>\n",
       "      <td>17°C</td>\n",
       "      <td>Calm</td>\n",
       "      <td>Mist</td>\n",
       "      <td>82%</td>\n",
       "      <td>1017 hPa</td>\n",
       "    </tr>\n",
       "    <tr>\n",
       "      <th>3</th>\n",
       "      <td>22:30</td>\n",
       "      <td>18°C</td>\n",
       "      <td>Calm</td>\n",
       "      <td>Mist</td>\n",
       "      <td>83%</td>\n",
       "      <td>1017 hPa</td>\n",
       "    </tr>\n",
       "    <tr>\n",
       "      <th>4</th>\n",
       "      <td>22:00</td>\n",
       "      <td>18°C</td>\n",
       "      <td>Calm</td>\n",
       "      <td>Mist</td>\n",
       "      <td>83%</td>\n",
       "      <td>1017 hPa</td>\n",
       "    </tr>\n",
       "    <tr>\n",
       "      <th>5</th>\n",
       "      <td>21:30</td>\n",
       "      <td>18°C</td>\n",
       "      <td>Calm</td>\n",
       "      <td>Mist</td>\n",
       "      <td>83%</td>\n",
       "      <td>1017 hPa</td>\n",
       "    </tr>\n",
       "    <tr>\n",
       "      <th>6</th>\n",
       "      <td>21:00</td>\n",
       "      <td>18°C</td>\n",
       "      <td>Calm</td>\n",
       "      <td>Mist</td>\n",
       "      <td>83%</td>\n",
       "      <td>1017 hPa</td>\n",
       "    </tr>\n",
       "    <tr>\n",
       "      <th>7</th>\n",
       "      <td>20:30</td>\n",
       "      <td>18°C</td>\n",
       "      <td>6 km/h</td>\n",
       "      <td>Mist</td>\n",
       "      <td>83%</td>\n",
       "      <td>1017 hPa</td>\n",
       "    </tr>\n",
       "    <tr>\n",
       "      <th>8</th>\n",
       "      <td>20:00</td>\n",
       "      <td>19°C</td>\n",
       "      <td>Calm</td>\n",
       "      <td>Mist</td>\n",
       "      <td>78%</td>\n",
       "      <td>1017 hPa</td>\n",
       "    </tr>\n",
       "    <tr>\n",
       "      <th>9</th>\n",
       "      <td>19:30</td>\n",
       "      <td>19°C</td>\n",
       "      <td>Calm</td>\n",
       "      <td>Mist</td>\n",
       "      <td>78%</td>\n",
       "      <td>1016 hPa</td>\n",
       "    </tr>\n",
       "    <tr>\n",
       "      <th>10</th>\n",
       "      <td>19:00</td>\n",
       "      <td>19°C</td>\n",
       "      <td>Calm</td>\n",
       "      <td>Mist</td>\n",
       "      <td>78%</td>\n",
       "      <td>1016 hPa</td>\n",
       "    </tr>\n",
       "    <tr>\n",
       "      <th>11</th>\n",
       "      <td>18:30</td>\n",
       "      <td>19°C</td>\n",
       "      <td>6 km/h</td>\n",
       "      <td>Mist</td>\n",
       "      <td>78%</td>\n",
       "      <td>1016 hPa</td>\n",
       "    </tr>\n",
       "    <tr>\n",
       "      <th>12</th>\n",
       "      <td>18:00</td>\n",
       "      <td>19°C</td>\n",
       "      <td>7 km/h</td>\n",
       "      <td>Mist</td>\n",
       "      <td>78%</td>\n",
       "      <td>1016 hPa</td>\n",
       "    </tr>\n",
       "    <tr>\n",
       "      <th>13</th>\n",
       "      <td>17:30</td>\n",
       "      <td>20°C</td>\n",
       "      <td>Calm</td>\n",
       "      <td>Widespread Fog</td>\n",
       "      <td>64%</td>\n",
       "      <td>1016 hPa</td>\n",
       "    </tr>\n",
       "    <tr>\n",
       "      <th>14</th>\n",
       "      <td>17:00</td>\n",
       "      <td>21°C</td>\n",
       "      <td>6 km/h</td>\n",
       "      <td>Widespread Fog</td>\n",
       "      <td>56%</td>\n",
       "      <td>1017 hPa</td>\n",
       "    </tr>\n",
       "    <tr>\n",
       "      <th>15</th>\n",
       "      <td>16:30</td>\n",
       "      <td>21°C</td>\n",
       "      <td>6 km/h</td>\n",
       "      <td>Widespread Fog</td>\n",
       "      <td>53%</td>\n",
       "      <td>1017 hPa</td>\n",
       "    </tr>\n",
       "    <tr>\n",
       "      <th>16</th>\n",
       "      <td>16:00</td>\n",
       "      <td>21°C</td>\n",
       "      <td>6 km/h</td>\n",
       "      <td>Widespread Fog</td>\n",
       "      <td>53%</td>\n",
       "      <td>1017 hPa</td>\n",
       "    </tr>\n",
       "    <tr>\n",
       "      <th>17</th>\n",
       "      <td>15:30</td>\n",
       "      <td>21°C</td>\n",
       "      <td>7 km/h</td>\n",
       "      <td>Widespread Fog</td>\n",
       "      <td>53%</td>\n",
       "      <td>1017 hPa</td>\n",
       "    </tr>\n",
       "    <tr>\n",
       "      <th>18</th>\n",
       "      <td>15:00</td>\n",
       "      <td>21°C</td>\n",
       "      <td>9 km/h</td>\n",
       "      <td>Widespread Fog</td>\n",
       "      <td>53%</td>\n",
       "      <td>1017 hPa</td>\n",
       "    </tr>\n",
       "    <tr>\n",
       "      <th>19</th>\n",
       "      <td>14:30</td>\n",
       "      <td>21°C</td>\n",
       "      <td>7 km/h</td>\n",
       "      <td>Widespread Fog</td>\n",
       "      <td>53%</td>\n",
       "      <td>1017 hPa</td>\n",
       "    </tr>\n",
       "    <tr>\n",
       "      <th>20</th>\n",
       "      <td>14:00</td>\n",
       "      <td>21°C</td>\n",
       "      <td>7 km/h</td>\n",
       "      <td>Widespread Fog</td>\n",
       "      <td>49%</td>\n",
       "      <td>1017 hPa</td>\n",
       "    </tr>\n",
       "    <tr>\n",
       "      <th>21</th>\n",
       "      <td>13:30</td>\n",
       "      <td>21°C</td>\n",
       "      <td>4 km/h</td>\n",
       "      <td>Widespread Fog</td>\n",
       "      <td>49%</td>\n",
       "      <td>1018 hPa</td>\n",
       "    </tr>\n",
       "    <tr>\n",
       "      <th>22</th>\n",
       "      <td>13:00</td>\n",
       "      <td>21°C</td>\n",
       "      <td>4 km/h</td>\n",
       "      <td>Widespread Fog</td>\n",
       "      <td>49%</td>\n",
       "      <td>1018 hPa</td>\n",
       "    </tr>\n",
       "    <tr>\n",
       "      <th>23</th>\n",
       "      <td>12:30</td>\n",
       "      <td>21°C</td>\n",
       "      <td>6 km/h</td>\n",
       "      <td>Mist</td>\n",
       "      <td>49%</td>\n",
       "      <td>1019 hPa</td>\n",
       "    </tr>\n",
       "  </tbody>\n",
       "</table>\n",
       "</div>"
      ],
      "text/plain": [
       "     Hour Temperature    Wins Wearher_Condition Humidity  Pressure\n",
       "0   00:00        17°C    Calm              Mist      82%  1017 hPa\n",
       "1   23:30        17°C    Calm              Mist      82%  1017 hPa\n",
       "2   23:00        17°C    Calm              Mist      82%  1017 hPa\n",
       "3   22:30        18°C    Calm              Mist      83%  1017 hPa\n",
       "4   22:00        18°C    Calm              Mist      83%  1017 hPa\n",
       "5   21:30        18°C    Calm              Mist      83%  1017 hPa\n",
       "6   21:00        18°C    Calm              Mist      83%  1017 hPa\n",
       "7   20:30        18°C  6 km/h              Mist      83%  1017 hPa\n",
       "8   20:00        19°C    Calm              Mist      78%  1017 hPa\n",
       "9   19:30        19°C    Calm              Mist      78%  1016 hPa\n",
       "10  19:00        19°C    Calm              Mist      78%  1016 hPa\n",
       "11  18:30        19°C  6 km/h              Mist      78%  1016 hPa\n",
       "12  18:00        19°C  7 km/h              Mist      78%  1016 hPa\n",
       "13  17:30        20°C    Calm    Widespread Fog      64%  1016 hPa\n",
       "14  17:00        21°C  6 km/h    Widespread Fog      56%  1017 hPa\n",
       "15  16:30        21°C  6 km/h    Widespread Fog      53%  1017 hPa\n",
       "16  16:00        21°C  6 km/h    Widespread Fog      53%  1017 hPa\n",
       "17  15:30        21°C  7 km/h    Widespread Fog      53%  1017 hPa\n",
       "18  15:00        21°C  9 km/h    Widespread Fog      53%  1017 hPa\n",
       "19  14:30        21°C  7 km/h    Widespread Fog      53%  1017 hPa\n",
       "20  14:00        21°C  7 km/h    Widespread Fog      49%  1017 hPa\n",
       "21  13:30        21°C  4 km/h    Widespread Fog      49%  1018 hPa\n",
       "22  13:00        21°C  4 km/h    Widespread Fog      49%  1018 hPa\n",
       "23  12:30        21°C  6 km/h              Mist      49%  1019 hPa"
      ]
     },
     "execution_count": 87,
     "metadata": {},
     "output_type": "execute_result"
    }
   ],
   "source": [
    "df = pd.DataFrame({'Hour':Hour,'Temperature':temp,'Wins':wind,'Wearher_Condition':weather_condition,'Humidity':hum,'Pressure':pre})\n",
    "df"
   ]
  },
  {
   "cell_type": "markdown",
   "id": "411cd3da",
   "metadata": {},
   "source": [
    "# Q.10\n",
    "## Write a python program to scrape monument name, monument description, image URL about top 10 monuments\n",
    "## from puredestinations.co.uk."
   ]
  },
  {
   "cell_type": "code",
   "execution_count": 88,
   "id": "27a5790f",
   "metadata": {
    "scrolled": true
   },
   "outputs": [],
   "source": [
    "page = requests.get('https://www.puredestinations.co.uk/top-10-famous-monuments-to-visit-in-india/')\n",
    "soup = BeautifulSoup(page.content)"
   ]
  },
  {
   "cell_type": "markdown",
   "id": "4f523868",
   "metadata": {},
   "source": [
    "### Top 10 Monuments Names"
   ]
  },
  {
   "cell_type": "code",
   "execution_count": 89,
   "id": "6150df7f",
   "metadata": {
    "scrolled": true
   },
   "outputs": [],
   "source": [
    "name = []\n",
    "\n",
    "for i in soup.find_all('p')[4:32:3]:\n",
    "    name.append(i.text.replace('\\n',''))"
   ]
  },
  {
   "cell_type": "markdown",
   "id": "39108a19",
   "metadata": {},
   "source": [
    "### Top 10 Monuments Discriptiion"
   ]
  },
  {
   "cell_type": "code",
   "execution_count": 90,
   "id": "ec3b3285",
   "metadata": {
    "scrolled": true
   },
   "outputs": [],
   "source": [
    "dic = []\n",
    "\n",
    "for i in soup.find_all('p')[5:33:3]:\n",
    "    dic.append(i.text.replace('\\n',''))"
   ]
  },
  {
   "cell_type": "markdown",
   "id": "fe668983",
   "metadata": {},
   "source": [
    "### Top 10 Monuments Image URLs"
   ]
  },
  {
   "cell_type": "code",
   "execution_count": 91,
   "id": "042a33be",
   "metadata": {
    "scrolled": true
   },
   "outputs": [],
   "source": [
    "url = []\n",
    "\n",
    "for i in soup.find_all('img')[6:25:2]:\n",
    "    url.append(i['src'])"
   ]
  },
  {
   "cell_type": "code",
   "execution_count": 92,
   "id": "bf554377",
   "metadata": {
    "scrolled": true
   },
   "outputs": [
    {
     "name": "stdout",
     "output_type": "stream",
     "text": [
      "10 10 10\n"
     ]
    }
   ],
   "source": [
    "print(len(name),len(dic),len(url))"
   ]
  },
  {
   "cell_type": "code",
   "execution_count": 93,
   "id": "65742acd",
   "metadata": {
    "scrolled": true
   },
   "outputs": [
    {
     "data": {
      "text/html": [
       "<div>\n",
       "<style scoped>\n",
       "    .dataframe tbody tr th:only-of-type {\n",
       "        vertical-align: middle;\n",
       "    }\n",
       "\n",
       "    .dataframe tbody tr th {\n",
       "        vertical-align: top;\n",
       "    }\n",
       "\n",
       "    .dataframe thead th {\n",
       "        text-align: right;\n",
       "    }\n",
       "</style>\n",
       "<table border=\"1\" class=\"dataframe\">\n",
       "  <thead>\n",
       "    <tr style=\"text-align: right;\">\n",
       "      <th></th>\n",
       "      <th>Names</th>\n",
       "      <th>Discriptiion</th>\n",
       "      <th>Image URLs</th>\n",
       "    </tr>\n",
       "  </thead>\n",
       "  <tbody>\n",
       "    <tr>\n",
       "      <th>0</th>\n",
       "      <td>Taj Mahal, Agra</td>\n",
       "      <td>Enlisted in the Seven Wonders of the World, Th...</td>\n",
       "      <td>http://www.puredestinations.co.uk/wp-content/u...</td>\n",
       "    </tr>\n",
       "    <tr>\n",
       "      <th>1</th>\n",
       "      <td>Golden Temple (Harmandir Sahib), Amritsar</td>\n",
       "      <td>The holiest shrine and pilgrimage place locate...</td>\n",
       "      <td>http://www.puredestinations.co.uk/wp-content/u...</td>\n",
       "    </tr>\n",
       "    <tr>\n",
       "      <th>2</th>\n",
       "      <td>Meenakshi Temple, Madurai</td>\n",
       "      <td>Meenakshi Temple is situated on the Southern b...</td>\n",
       "      <td>http://www.puredestinations.co.uk/wp-content/u...</td>\n",
       "    </tr>\n",
       "    <tr>\n",
       "      <th>3</th>\n",
       "      <td>Mysore Palace, Mysore</td>\n",
       "      <td>The Mysore Palace is a famous historical monum...</td>\n",
       "      <td>http://www.puredestinations.co.uk/wp-content/u...</td>\n",
       "    </tr>\n",
       "    <tr>\n",
       "      <th>4</th>\n",
       "      <td>Gateway of India, Mumbai</td>\n",
       "      <td>Even though Mumbai is famous for its Bollywood...</td>\n",
       "      <td>http://www.puredestinations.co.uk/wp-content/u...</td>\n",
       "    </tr>\n",
       "    <tr>\n",
       "      <th>5</th>\n",
       "      <td>Red Fort, New Delhi</td>\n",
       "      <td>Declared as the UNESCO’s World Heritage Site, ...</td>\n",
       "      <td>http://www.puredestinations.co.uk/wp-content/u...</td>\n",
       "    </tr>\n",
       "    <tr>\n",
       "      <th>6</th>\n",
       "      <td>Hawa Mahal, Jaipur</td>\n",
       "      <td>Explore a blend of beauty and Rajasthan cultur...</td>\n",
       "      <td>http://www.puredestinations.co.uk/wp-content/u...</td>\n",
       "    </tr>\n",
       "    <tr>\n",
       "      <th>7</th>\n",
       "      <td>Qutub Minar, New Delhi</td>\n",
       "      <td>Discover one of the tallest towers in the worl...</td>\n",
       "      <td>http://www.puredestinations.co.uk/wp-content/u...</td>\n",
       "    </tr>\n",
       "    <tr>\n",
       "      <th>8</th>\n",
       "      <td>Sanchi Stupa, Sanchi</td>\n",
       "      <td>The beautiful and massive dome, Sanchi Stupa a...</td>\n",
       "      <td>http://www.puredestinations.co.uk/wp-content/u...</td>\n",
       "    </tr>\n",
       "    <tr>\n",
       "      <th>9</th>\n",
       "      <td>Charminar, Hyderabad</td>\n",
       "      <td>No visit to Hyderabad should be complete witho...</td>\n",
       "      <td>http://www.puredestinations.co.uk/wp-content/u...</td>\n",
       "    </tr>\n",
       "  </tbody>\n",
       "</table>\n",
       "</div>"
      ],
      "text/plain": [
       "                                        Names  \\\n",
       "0                             Taj Mahal, Agra   \n",
       "1  Golden Temple (Harmandir Sahib), Amritsar    \n",
       "2                   Meenakshi Temple, Madurai   \n",
       "3                       Mysore Palace, Mysore   \n",
       "4                    Gateway of India, Mumbai   \n",
       "5                         Red Fort, New Delhi   \n",
       "6                          Hawa Mahal, Jaipur   \n",
       "7                      Qutub Minar, New Delhi   \n",
       "8                        Sanchi Stupa, Sanchi   \n",
       "9                        Charminar, Hyderabad   \n",
       "\n",
       "                                        Discriptiion  \\\n",
       "0  Enlisted in the Seven Wonders of the World, Th...   \n",
       "1  The holiest shrine and pilgrimage place locate...   \n",
       "2  Meenakshi Temple is situated on the Southern b...   \n",
       "3  The Mysore Palace is a famous historical monum...   \n",
       "4  Even though Mumbai is famous for its Bollywood...   \n",
       "5  Declared as the UNESCO’s World Heritage Site, ...   \n",
       "6  Explore a blend of beauty and Rajasthan cultur...   \n",
       "7  Discover one of the tallest towers in the worl...   \n",
       "8  The beautiful and massive dome, Sanchi Stupa a...   \n",
       "9  No visit to Hyderabad should be complete witho...   \n",
       "\n",
       "                                          Image URLs  \n",
       "0  http://www.puredestinations.co.uk/wp-content/u...  \n",
       "1  http://www.puredestinations.co.uk/wp-content/u...  \n",
       "2  http://www.puredestinations.co.uk/wp-content/u...  \n",
       "3  http://www.puredestinations.co.uk/wp-content/u...  \n",
       "4  http://www.puredestinations.co.uk/wp-content/u...  \n",
       "5  http://www.puredestinations.co.uk/wp-content/u...  \n",
       "6  http://www.puredestinations.co.uk/wp-content/u...  \n",
       "7  http://www.puredestinations.co.uk/wp-content/u...  \n",
       "8  http://www.puredestinations.co.uk/wp-content/u...  \n",
       "9  http://www.puredestinations.co.uk/wp-content/u...  "
      ]
     },
     "execution_count": 93,
     "metadata": {},
     "output_type": "execute_result"
    }
   ],
   "source": [
    "df = pd.DataFrame({'Names':name,'Discriptiion':dic,'Image URLs':url})\n",
    "df"
   ]
  }
 ],
 "metadata": {
  "kernelspec": {
   "display_name": "Python 3",
   "language": "python",
   "name": "python3"
  },
  "language_info": {
   "codemirror_mode": {
    "name": "ipython",
    "version": 3
   },
   "file_extension": ".py",
   "mimetype": "text/x-python",
   "name": "python",
   "nbconvert_exporter": "python",
   "pygments_lexer": "ipython3",
   "version": "3.8.8"
  }
 },
 "nbformat": 4,
 "nbformat_minor": 5
}
